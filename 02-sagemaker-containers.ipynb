{
 "cells": [
  {
   "cell_type": "markdown",
   "id": "e6b39bb5-1408-45ab-af98-fa786ce6d55f",
   "metadata": {},
   "source": [
    "# Step 2: Add SageMaker processing and training jobs\n",
    "In this step you move data processing and model training into [SageMaker Docker containers](https://docs.aws.amazon.com/sagemaker/latest/dg/docker-containers.html) and use [SageMaker Python SDK](https://sagemaker.readthedocs.io/en/stable/index.html) to interact with SageMaker.\n",
    "\n",
    "![](img/six-steps-2.png)\n",
    "\n",
    "SageMaker makes use of Docker containers to enable developers to process data, train and deploy models. Containers allow developers and data scientists to package software into standardized units that run consistently on any platform that supports Docker. Containers ensure that code, runtime, system tools, system libraries, and settings are all in the same place, isolating them from the execution environment. It guarantees a consistent runtime experience regardless of where a container is being run.\n",
    "\n",
    "SageMaker also provides pre-build containers with popular data processing frameworks and ML algorithms. All SageMaker built-in algorithms are delivered as Docker containers."
   ]
  },
  {
   "cell_type": "markdown",
   "id": "ffd00ea7",
   "metadata": {},
   "source": [
    "<div class=\"alert alert-info\"> Make sure you using <code>Python 3</code> kernel in JupyterLab for this notebook.</div>"
   ]
  },
  {
   "cell_type": "code",
   "execution_count": 1,
   "id": "ed7494c2",
   "metadata": {},
   "outputs": [
    {
     "name": "stdout",
     "output_type": "stream",
     "text": [
      "Collecting seaborn\n",
      "  Downloading seaborn-0.13.2-py3-none-any.whl.metadata (5.4 kB)\n",
      "Requirement already satisfied: numpy!=1.24.0,>=1.20 in /opt/conda/lib/python3.10/site-packages (from seaborn) (1.26.4)\n",
      "Requirement already satisfied: pandas>=1.2 in /opt/conda/lib/python3.10/site-packages (from seaborn) (2.1.4)\n",
      "Requirement already satisfied: matplotlib!=3.6.1,>=3.4 in /opt/conda/lib/python3.10/site-packages (from seaborn) (3.8.4)\n",
      "Requirement already satisfied: contourpy>=1.0.1 in /opt/conda/lib/python3.10/site-packages (from matplotlib!=3.6.1,>=3.4->seaborn) (1.2.1)\n",
      "Requirement already satisfied: cycler>=0.10 in /opt/conda/lib/python3.10/site-packages (from matplotlib!=3.6.1,>=3.4->seaborn) (0.12.1)\n",
      "Requirement already satisfied: fonttools>=4.22.0 in /opt/conda/lib/python3.10/site-packages (from matplotlib!=3.6.1,>=3.4->seaborn) (4.53.0)\n",
      "Requirement already satisfied: kiwisolver>=1.3.1 in /opt/conda/lib/python3.10/site-packages (from matplotlib!=3.6.1,>=3.4->seaborn) (1.4.5)\n",
      "Requirement already satisfied: packaging>=20.0 in /opt/conda/lib/python3.10/site-packages (from matplotlib!=3.6.1,>=3.4->seaborn) (23.2)\n",
      "Requirement already satisfied: pillow>=8 in /opt/conda/lib/python3.10/site-packages (from matplotlib!=3.6.1,>=3.4->seaborn) (10.3.0)\n",
      "Requirement already satisfied: pyparsing>=2.3.1 in /opt/conda/lib/python3.10/site-packages (from matplotlib!=3.6.1,>=3.4->seaborn) (3.1.2)\n",
      "Requirement already satisfied: python-dateutil>=2.7 in /opt/conda/lib/python3.10/site-packages (from matplotlib!=3.6.1,>=3.4->seaborn) (2.9.0)\n",
      "Requirement already satisfied: pytz>=2020.1 in /opt/conda/lib/python3.10/site-packages (from pandas>=1.2->seaborn) (2023.3)\n",
      "Requirement already satisfied: tzdata>=2022.1 in /opt/conda/lib/python3.10/site-packages (from pandas>=1.2->seaborn) (2024.1)\n",
      "Requirement already satisfied: six>=1.5 in /opt/conda/lib/python3.10/site-packages (from python-dateutil>=2.7->matplotlib!=3.6.1,>=3.4->seaborn) (1.16.0)\n",
      "Downloading seaborn-0.13.2-py3-none-any.whl (294 kB)\n",
      "\u001b[2K   \u001b[90m━━━━━━━━━━━━━━━━━━━━━━━━━━━━━━━━━━━━━━━━\u001b[0m \u001b[32m294.9/294.9 kB\u001b[0m \u001b[31m27.1 MB/s\u001b[0m eta \u001b[36m0:00:00\u001b[0m\n",
      "\u001b[?25hInstalling collected packages: seaborn\n",
      "Successfully installed seaborn-0.13.2\n",
      "Note: you may need to restart the kernel to use updated packages.\n"
     ]
    }
   ],
   "source": [
    "%pip install seaborn"
   ]
  },
  {
   "cell_type": "code",
   "execution_count": 1,
   "id": "f6e4e390-2278-4a1c-8886-13d67507c818",
   "metadata": {
    "tags": []
   },
   "outputs": [
    {
     "name": "stdout",
     "output_type": "stream",
     "text": [
      "sagemaker.config INFO - Not applying SDK defaults from location: /etc/xdg/sagemaker/config.yaml\n",
      "sagemaker.config INFO - Fetched defaults config from location: /home/sagemaker-user/.config/sagemaker/config.yaml\n"
     ]
    },
    {
     "data": {
      "text/plain": [
       "'2.226.0'"
      ]
     },
     "execution_count": 1,
     "metadata": {},
     "output_type": "execute_result"
    }
   ],
   "source": [
    "import time\n",
    "import boto3\n",
    "import botocore\n",
    "import numpy as np  \n",
    "import pandas as pd  \n",
    "import sagemaker\n",
    "import os\n",
    "import mlflow\n",
    "from time import gmtime, strftime, sleep\n",
    "from sagemaker.sklearn.processing import SKLearnProcessor\n",
    "from sagemaker.processing import ProcessingInput, ProcessingOutput\n",
    "from sklearn.metrics import roc_auc_score\n",
    "\n",
    "\n",
    "sagemaker.__version__"
   ]
  },
  {
   "cell_type": "code",
   "execution_count": 2,
   "id": "1c357f9a-0df7-4358-a231-62aaaeec605f",
   "metadata": {
    "tags": []
   },
   "outputs": [
    {
     "name": "stdout",
     "output_type": "stream",
     "text": [
      "Stored variables and their in-db values:\n",
      "baseline_s3_url                         -> 's3://sagemaker-us-east-1-402709838713/from-idea-t\n",
      "bucket_name                             -> 'sagemaker-us-east-1-402709838713'\n",
      "bucket_prefix                           -> 'from-idea-to-prod/xgboost'\n",
      "dataset_feature_group_name              -> 'from-idea-to-prod-16-09-43-39'\n",
      "dataset_file_local_path                 -> 'data/bank-additional/bank-additional-full.csv'\n",
      "domain_id                               -> 'd-o8gesq1clufo'\n",
      "evaluation_s3_url                       -> 's3://sagemaker-us-east-1-402709838713/from-idea-t\n",
      "experiment_name                         -> 'from-idea-to-prod-experiment-16-07-17-34'\n",
      "feature_store_bucket_prefix             -> 'from-idea-to-prod/feature-store'\n",
      "initialized                             -> True\n",
      "input_s3_url                            -> 's3://sagemaker-us-east-1-402709838713/from-idea-t\n",
      "mlflow_arn                              -> 'arn:aws:sagemaker:us-east-1:402709838713:mlflow-t\n",
      "mlflow_name                             -> 'mlflow-d-o8gesq1clufo-16-06-49-49'\n",
      "model_package_group_name                -> 'from-idea-to-prod-pipeline-model-16-09-06-56'\n",
      "output_s3_url                           -> 's3://sagemaker-us-east-1-402709838713/from-idea-t\n",
      "pipeline_name                           -> 'from-idea-to-prod-pipeline-16-09-06-56'\n",
      "prediction_baseline_s3_url              -> 's3://sagemaker-us-east-1-402709838713/from-idea-t\n",
      "region                                  -> 'us-east-1'\n",
      "sm_role                                 -> 'arn:aws:iam::402709838713:role/cfnstudiodomain-Sa\n",
      "space_name                              -> 'sagemaker-space'\n",
      "target_col                              -> 'y'\n",
      "test_s3_url                             -> 's3://sagemaker-us-east-1-402709838713/from-idea-t\n",
      "train_s3_url                            -> 's3://sagemaker-us-east-1-402709838713/from-idea-t\n",
      "training_job_name                       -> 'from-idea-to-prod-training-2024-07-16-08-20-24-92\n",
      "user_profile_name                       -> 'studio-user-2a877080'\n",
      "validation_s3_url                       -> 's3://sagemaker-us-east-1-402709838713/from-idea-t\n"
     ]
    }
   ],
   "source": [
    "%store -r \n",
    "\n",
    "%store\n",
    "\n",
    "try:\n",
    "    initialized\n",
    "except NameError:\n",
    "    print(\"+++++++++++++++++++++++++++++++++++++++++++++++++\")\n",
    "    print(\"[ERROR] YOU HAVE TO RUN 00-start-here notebook   \")\n",
    "    print(\"+++++++++++++++++++++++++++++++++++++++++++++++++\")"
   ]
  },
  {
   "cell_type": "code",
   "execution_count": 3,
   "id": "5214e551-4800-47c2-9eae-337f4fc5ed7f",
   "metadata": {
    "tags": []
   },
   "outputs": [],
   "source": [
    "session = sagemaker.Session()\n",
    "sm = session.sagemaker_client"
   ]
  },
  {
   "cell_type": "markdown",
   "id": "d5beedac-1847-47eb-b294-5eac2ecaa7ef",
   "metadata": {},
   "source": [
    "## Load or create a new experiment\n",
    "Load the existing experiment we created in the previous notebook. You're going to track new runs in the same experiment.\n",
    "You can also create a new experiment to track runs in this notebook – in this case just uncomment the following code cell."
   ]
  },
  {
   "cell_type": "code",
   "execution_count": 4,
   "id": "2d71279f-dca1-4c0f-b073-00f0b5ebf0e5",
   "metadata": {},
   "outputs": [],
   "source": [
    "experiment_suffix = strftime('%d-%H-%M-%S', gmtime())\n",
    "registered_model_name = f\"from-idea-to-prod-job-model-{experiment_suffix}\""
   ]
  },
  {
   "cell_type": "code",
   "execution_count": 5,
   "id": "9e798262-7ee3-45e8-86b0-da6ff1cf9a61",
   "metadata": {
    "tags": []
   },
   "outputs": [],
   "source": [
    "# Uncomment code block (Cmd + /) if you would like to create a new experiment\n",
    "\n",
    "# experiment_name = f\"from-idea-to-prod-experiment-{experiment_suffix}\""
   ]
  },
  {
   "cell_type": "code",
   "execution_count": 6,
   "id": "c2737ea1-3774-456b-9601-c6b173736340",
   "metadata": {},
   "outputs": [],
   "source": [
    "mlflow.set_tracking_uri(mlflow_arn)\n",
    "experiment = mlflow.set_experiment(experiment_name=experiment_name)"
   ]
  },
  {
   "cell_type": "markdown",
   "id": "2b39c88c-6aed-47b4-8048-a27f35444e10",
   "metadata": {},
   "source": [
    "## Process data in SageMaker processing job\n",
    "Use [SageMaker Processing](https://docs.aws.amazon.com/sagemaker/latest/dg/processing-job.html) by simply providing a Python data preprocessing script and choosing a [SageMaker SDK processor](https://sagemaker.readthedocs.io/en/stable/amazon_sagemaker_processing.html) class.\n",
    "You must upload the input data to S3 and specify an S3 location for output data. SageMaker Processing automatically loads the input data from S3 and uploads transformed data back to S3 when the job is complete. The processing container image can either be an Amazon SageMaker built-in image or a custom image that you provide. The underlying infrastructure for a Processing job is fully managed by Amazon SageMaker. Cluster resources are provisioned for the duration of your job, and cleaned up when a job completes.\n",
    "\n",
    "![](img/sagemaker-processing.png)"
   ]
  },
  {
   "cell_type": "markdown",
   "id": "31b4f1fe-ef68-4151-8d7d-28269e39b68a",
   "metadata": {},
   "source": [
    "Your input data must be stored in an Amazon S3 bucket. Alternatively, you can use [Amazon Athena](https://sagemaker.readthedocs.io/en/stable/api/utility/inputs.html#sagemaker.dataset_definition.inputs.AthenaDatasetDefinition) or [Amazon Redshift](https://sagemaker.readthedocs.io/en/stable/api/utility/inputs.html#sagemaker.dataset_definition.inputs.AthenaDatasetDefinition) as input sources.\n",
    "\n",
    "Upload the input dataset to an Amazon S3 bucket:"
   ]
  },
  {
   "cell_type": "code",
   "execution_count": 8,
   "id": "01ba50c3-8428-4756-9a2c-8b6f8d19a52b",
   "metadata": {
    "tags": []
   },
   "outputs": [
    {
     "name": "stdout",
     "output_type": "stream",
     "text": [
      "Stored 'input_s3_url' (str)\n"
     ]
    }
   ],
   "source": [
    "input_s3_url = session.upload_data(\n",
    "    path=\"data/bank-additional/bank-additional-full.csv\",\n",
    "    bucket=bucket_name,\n",
    "    key_prefix=f\"{bucket_prefix}/input\"\n",
    ")\n",
    "\n",
    "%store input_s3_url"
   ]
  },
  {
   "cell_type": "code",
   "execution_count": 9,
   "id": "118099a1-e789-435e-a309-4dd9043f219d",
   "metadata": {
    "tags": []
   },
   "outputs": [],
   "source": [
    "# !aws s3 ls {bucket_name}/{bucket_prefix} --recursive"
   ]
  },
  {
   "cell_type": "markdown",
   "id": "7babd5da-715d-47e7-9a5e-fa88296e8af7",
   "metadata": {},
   "source": [
    "<div class=\"alert alert-info\"> Since you're using MLflow in the processing script, you need to provide a <code>requirements.txt</code> so that the container installs mlflow and MLflow SageMaker plugin before running the processing script.</div>"
   ]
  },
  {
   "cell_type": "code",
   "execution_count": 10,
   "id": "06f231dc-e97c-4cf7-b81a-8f415ac77c14",
   "metadata": {},
   "outputs": [],
   "source": [
    "dependencies_dir=\"./processing/requirements/\"\n",
    "%mkdir -p processing\n",
    "%mkdir -p {dependencies_dir}"
   ]
  },
  {
   "cell_type": "code",
   "execution_count": 97,
   "id": "0f08051e-8c64-42d7-9b74-24db11146e0d",
   "metadata": {},
   "outputs": [
    {
     "name": "stdout",
     "output_type": "stream",
     "text": [
      "Overwriting ./processing/requirements/requirements.txt\n"
     ]
    }
   ],
   "source": [
    "%%writefile {dependencies_dir}requirements.txt\n",
    "mlflow==2.13.2\n",
    "sagemaker-mlflow==0.1.0"
   ]
  },
  {
   "cell_type": "markdown",
   "id": "a547ea17-c14a-41b4-a0d8-26164cf24615",
   "metadata": {},
   "source": [
    "Create a Python script by moving the data processing code from the step 1 notebook to a .py file and adding experiment tracking with MLflow:"
   ]
  },
  {
   "cell_type": "code",
   "execution_count": 12,
   "id": "25f6f89d-c9fa-4432-bf3e-5cc21aeb2e6f",
   "metadata": {
    "tags": []
   },
   "outputs": [
    {
     "name": "stdout",
     "output_type": "stream",
     "text": [
      "Writing processing/preprocessing.py\n"
     ]
    }
   ],
   "source": [
    "%%writefile processing/preprocessing.py\n",
    "\n",
    "from sklearn.preprocessing import MinMaxScaler, LabelEncoder\n",
    "import pandas as pd\n",
    "import numpy as np\n",
    "import argparse\n",
    "import os\n",
    "\n",
    "from time import gmtime, strftime, sleep\n",
    "import traceback\n",
    "import sys\n",
    "import subprocess\n",
    "\n",
    "# install requirements.txt\n",
    "subprocess.check_call(\n",
    "    [\n",
    "       sys.executable,\n",
    "       \"-m\",\n",
    "       \"pip\",\n",
    "       \"install\",\n",
    "       \"-r\",\n",
    "       \"/opt/ml/processing/input/code/requirements/requirements.txt\",\n",
    "    ]\n",
    ")\n",
    "\n",
    "import mlflow\n",
    "\n",
    "def _parse_args():\n",
    "    \n",
    "    parser = argparse.ArgumentParser()\n",
    "    # Data, model, and output directories\n",
    "    # model_dir is always passed in from SageMaker. By default this is a S3 path under the default bucket.\n",
    "    parser.add_argument('--filepath', type=str, default='/opt/ml/processing/input/')\n",
    "    parser.add_argument('--filename', type=str, default='bank-additional-full.csv')\n",
    "    parser.add_argument('--outputpath', type=str, default='/opt/ml/processing/output/')\n",
    "    \n",
    "    return parser.parse_known_args()\n",
    "\n",
    "def process_data(df_data):\n",
    "    # Indicator variable to capture when pdays takes a value of 999\n",
    "    df_data[\"no_previous_contact\"] = np.where(df_data[\"pdays\"] == 999, 1, 0)\n",
    "\n",
    "    # Indicator for individuals not actively employed\n",
    "    df_data[\"not_working\"] = np.where(\n",
    "        np.in1d(df_data[\"job\"], [\"student\", \"retired\", \"unemployed\"]), 1, 0\n",
    "    )\n",
    "\n",
    "    # remove unnecessary data\n",
    "    df_model_data = df_data.drop(\n",
    "        [\"duration\", \"emp.var.rate\", \"cons.price.idx\", \"cons.conf.idx\", \"euribor3m\", \"nr.employed\"],\n",
    "        axis=1,\n",
    "    )\n",
    "\n",
    "    bins = [18, 30, 40, 50, 60, 70, 90]\n",
    "    labels = ['18-29', '30-39', '40-49', '50-59', '60-69', '70-plus']\n",
    "\n",
    "    df_model_data['age_range'] = pd.cut(df_model_data.age, bins, labels=labels, include_lowest=True)\n",
    "    df_model_data = pd.concat([df_model_data, pd.get_dummies(df_model_data['age_range'], prefix='age', dtype=int)], axis=1)\n",
    "    df_model_data.drop('age', axis=1, inplace=True)\n",
    "    df_model_data.drop('age_range', axis=1, inplace=True)\n",
    "\n",
    "    scaled_features = ['pdays', 'previous', 'campaign']\n",
    "    df_model_data[scaled_features] = MinMaxScaler().fit_transform(df_model_data[scaled_features])\n",
    "\n",
    "    df_model_data = pd.get_dummies(df_model_data, dtype=int)  # Convert categorical variables to sets of indicators\n",
    "\n",
    "    # Replace \"y_no\" and \"y_yes\" with a single label column, and bring it to the front:\n",
    "    df_model_data = pd.concat(\n",
    "        [\n",
    "            df_model_data[\"y_yes\"].rename(target_col),\n",
    "            df_model_data.drop([\"y_no\", \"y_yes\"], axis=1),\n",
    "        ],\n",
    "        axis=1,\n",
    "    )\n",
    "    \n",
    "    return df_model_data\n",
    "\n",
    "if __name__==\"__main__\":\n",
    "    # Process arguments\n",
    "    args, _ = _parse_args()\n",
    "    \n",
    "    target_col = \"y\"\n",
    "\n",
    "    # Set the Tracking Server URI using the ARN of the Tracking Server you created\n",
    "    mlflow.set_tracking_uri(os.environ['MLFLOW_TRACKING_ARN'])\n",
    "    \n",
    "    # Enable autologging in MLflow\n",
    "    mlflow.autolog()\n",
    "\n",
    "    # Use the active run_id to log \n",
    "    with mlflow.start_run(run_id=os.environ['MLFLOW_RUN_ID']) as run:\n",
    "        # process data\n",
    "        df_model_data = process_data(pd.read_csv(os.path.join(args.filepath, args.filename), sep=\";\"))\n",
    "    \n",
    "        # Shuffle and splitting dataset\n",
    "        train_data, validation_data, test_data = np.split(\n",
    "            df_model_data.sample(frac=1, random_state=1729),\n",
    "            [int(0.7 * len(df_model_data)), int(0.9 * len(df_model_data))],\n",
    "        )\n",
    "    \n",
    "        print(f\"Data split > train:{train_data.shape} | validation:{validation_data.shape} | test:{test_data.shape}\")\n",
    "        mlflow.log_params(\n",
    "            {\n",
    "                \"train\": train_data.shape,\n",
    "                \"validate\": validation_data.shape,\n",
    "                \"test\": test_data.shape\n",
    "            }\n",
    "        )\n",
    "        \n",
    "        # Save datasets locally\n",
    "        train_data.to_csv(os.path.join(args.outputpath, 'train/train.csv'), index=False, header=False)\n",
    "        validation_data.to_csv(os.path.join(args.outputpath, 'validation/validation.csv'), index=False, header=False)\n",
    "        test_data[target_col].to_csv(os.path.join(args.outputpath, 'test/test_y.csv'), index=False, header=False)\n",
    "        test_data.drop([target_col], axis=1).to_csv(os.path.join(args.outputpath, 'test/test_x.csv'), index=False, header=False)\n",
    "        \n",
    "        # Save the baseline dataset for model monitoring\n",
    "        df_model_data.drop([target_col], axis=1).to_csv(os.path.join(args.outputpath, 'baseline/baseline.csv'), index=False, header=False)\n",
    "\n",
    "        mlflow.log_artifact(local_path=os.path.join(args.outputpath, 'baseline/baseline.csv'))\n",
    "    \n",
    "    print(\"## Processing complete. Exiting.\")"
   ]
  },
  {
   "cell_type": "markdown",
   "id": "317a90ba-5610-43fb-a39c-6eae4e2b6691",
   "metadata": {},
   "source": [
    "The processing script contains a statement to save the whole dataset without the header and the label column as a baseline dataset. You need the data baseline later on in the model monitoring notebook."
   ]
  },
  {
   "cell_type": "markdown",
   "id": "70ee5a09-46fd-4d7a-9037-9b6247a1f21d",
   "metadata": {},
   "source": [
    "Set the Amazon S3 paths:"
   ]
  },
  {
   "cell_type": "code",
   "execution_count": 13,
   "id": "54fa1abd-c0ae-4e55-901c-7250c227ccbb",
   "metadata": {
    "tags": []
   },
   "outputs": [],
   "source": [
    "train_s3_url = f\"s3://{bucket_name}/{bucket_prefix}/train\"\n",
    "validation_s3_url = f\"s3://{bucket_name}/{bucket_prefix}/validation\"\n",
    "test_s3_url = f\"s3://{bucket_name}/{bucket_prefix}/test\"\n",
    "baseline_s3_url = f\"s3://{bucket_name}/{bucket_prefix}/baseline\""
   ]
  },
  {
   "cell_type": "code",
   "execution_count": 14,
   "id": "ed6a2d8e-acde-48a8-9f12-a1cd0d703a41",
   "metadata": {
    "tags": []
   },
   "outputs": [
    {
     "name": "stdout",
     "output_type": "stream",
     "text": [
      "Stored 'train_s3_url' (str)\n",
      "Stored 'validation_s3_url' (str)\n",
      "Stored 'test_s3_url' (str)\n",
      "Stored 'baseline_s3_url' (str)\n"
     ]
    }
   ],
   "source": [
    "%store train_s3_url\n",
    "%store validation_s3_url\n",
    "%store test_s3_url\n",
    "%store baseline_s3_url"
   ]
  },
  {
   "cell_type": "markdown",
   "id": "03762d62-0f9c-4766-8f5e-d554bfc8437c",
   "metadata": {},
   "source": [
    "Set the framework version and type and number of compute instances:"
   ]
  },
  {
   "cell_type": "code",
   "execution_count": 15,
   "id": "b93215af-1524-43d0-b08b-ab265936ec2a",
   "metadata": {
    "tags": []
   },
   "outputs": [],
   "source": [
    "skprocessor_framework_version = \"1.2-1\"\n",
    "processing_instance_type = \"ml.m5.large\"\n",
    "processing_instance_count = 1"
   ]
  },
  {
   "cell_type": "markdown",
   "id": "b730b8ee-f2fe-4612-870a-edb0e0ffc276",
   "metadata": {},
   "source": [
    "### Create a experiment run\n",
    "Create a new run in your experiment to track parameters, configuration, inputs, and outputs of the processing job."
   ]
  },
  {
   "cell_type": "code",
   "execution_count": 16,
   "id": "41e28192-db7d-4a93-8c55-de2abd6fedf6",
   "metadata": {
    "tags": []
   },
   "outputs": [],
   "source": [
    "run_suffix = strftime('%d-%H-%M-%S', gmtime())\n",
    "run_name = f\"container-processing-{run_suffix}\"\n",
    "\n",
    "run_id = mlflow.start_run(\n",
    "    run_name=run_name,\n",
    "    description=\"feature-engineering in the notebook 02 with a processing job\").info.run_id"
   ]
  },
  {
   "cell_type": "markdown",
   "id": "d365adc2-890e-4983-aa86-0109e1f94465",
   "metadata": {},
   "source": [
    "### Create a processor and set inputs and outputs\n",
    "Instantiate a [`SKLearnProcessor`](https://sagemaker.readthedocs.io/en/stable/frameworks/sklearn/sagemaker.sklearn.html#scikit-learn-processor) object before starting the SageMaker processing job. You specify the instance type to use in the job, as well as how many instances for distributed processing.\n",
    "\n",
    "Note how SageMaker maps your data to the local paths on the processing container's EBS volume:\n",
    "\n",
    "![](img/data-processing.png)"
   ]
  },
  {
   "cell_type": "code",
   "execution_count": 17,
   "id": "1503fe76-cd04-4e5a-86a1-ea3cbb45f09d",
   "metadata": {
    "tags": []
   },
   "outputs": [],
   "source": [
    "sklearn_processor = SKLearnProcessor(\n",
    "    framework_version=skprocessor_framework_version,\n",
    "    role=sm_role,\n",
    "    instance_type=processing_instance_type,\n",
    "    instance_count=processing_instance_count, \n",
    "    base_job_name='from-idea-to-prod-processing',\n",
    "    sagemaker_session=session,\n",
    "    env={\n",
    "        'MLFLOW_TRACKING_ARN': mlflow_arn,\n",
    "        'MLFLOW_RUN_ID': run_id,\n",
    "    }\n",
    ")\n",
    "\n",
    "processing_inputs = [\n",
    "        ProcessingInput(\n",
    "            source=input_s3_url, \n",
    "            destination=\"/opt/ml/processing/input\",\n",
    "            s3_input_mode=\"File\",\n",
    "            s3_data_distribution_type=\"ShardedByS3Key\"\n",
    "        ),\n",
    "        ProcessingInput(\n",
    "            input_name=\"processor\",\n",
    "            source=dependencies_dir,\n",
    "            destination=\"/opt/ml/processing/input/code/requirements/\",\n",
    "        ),\n",
    "    ]\n",
    "\n",
    "processing_outputs = [\n",
    "        ProcessingOutput(\n",
    "            output_name=\"train_data\", \n",
    "            source=\"/opt/ml/processing/output/train\",\n",
    "            destination=train_s3_url,\n",
    "        ),\n",
    "        ProcessingOutput(\n",
    "            output_name=\"validation_data\", \n",
    "            source=\"/opt/ml/processing/output/validation\", \n",
    "            destination=validation_s3_url\n",
    "        ),\n",
    "        ProcessingOutput(\n",
    "            output_name=\"test_data\", \n",
    "            source=\"/opt/ml/processing/output/test\", \n",
    "            destination=test_s3_url\n",
    "        ),\n",
    "        ProcessingOutput(\n",
    "            output_name=\"baseline_data\", \n",
    "            source=\"/opt/ml/processing/output/baseline\", \n",
    "            destination=baseline_s3_url\n",
    "        ),\n",
    "    ]"
   ]
  },
  {
   "cell_type": "markdown",
   "id": "bedef440-c13a-4d23-90af-ef747aeef8bc",
   "metadata": {},
   "source": [
    "#### Start the SageMaker processing job\n",
    "\n",
    "<img src=\"data:image/svg+xml;base64,Cjxzdmcgd2lkdGg9IjgwMCIgaGVpZ2h0PSIxMjUiIHZpZXdCb3g9IjAgMCA4MDAgMTI1IiB4bWxucz0iaHR0cDovL3d3dy53My5vcmcvMjAwMC9zdmciPgogICAgPGRlZnM+CiAgICAgICAgPGxpbmVhckdyYWRpZW50IGlkPSJmYWRlR3JhZGllbnQiIHgxPSIwIiB4Mj0iMSI+CiAgICAgICAgICAgIDxzdG9wIG9mZnNldD0iMCUiIHN0b3AtY29sb3I9IiNGMEYwRjAiLz4KICAgICAgICAgICAgPHN0b3Agb2Zmc2V0PSIxMDAlIiBzdG9wLWNvbG9yPSIjRjBGMEYwIiBzdG9wLW9wYWNpdHk9IjAiLz4KICAgICAgICA8L2xpbmVhckdyYWRpZW50PgogICAgICAgIDxtYXNrIGlkPSJmYWRlTWFzayI+CiAgICAgICAgICAgIDxyZWN0IHg9IjAiIHk9IjAiIHdpZHRoPSI3NTAiIGhlaWdodD0iMTI1IiBmaWxsPSJ3aGl0ZSIvPgogICAgICAgICAgICA8cmVjdCB4PSI3NTAiIHk9IjAiIHdpZHRoPSI1MCIgaGVpZ2h0PSIxMjUiIGZpbGw9InVybCgjZmFkZUdyYWRpZW50KSIvPgogICAgICAgIDwvbWFzaz4KICAgIDwvZGVmcz4KICAgIDxwYXRoIGQ9Ik0zLDUwIEE1MCw1MCAwIDAgMSA1MywzIEw3OTcsMyBMNzk3LDk3IEw5Nyw5NyBMNTAsMTE1IEwzLDk3IFoiIGZpbGw9IiNGMEYwRjAiIHN0cm9rZT0iI0UwRTBFMCIgc3Ryb2tlLXdpZHRoPSIxIiBtYXNrPSJ1cmwoI2ZhZGVNYXNrKSIvPgogICAgPGNpcmNsZSBjeD0iNTAiIGN5PSI1MCIgcj0iMzAiIGZpbGw9IiM1N2M0ZjgiIHN0cm9rZT0iIzU3YzRmOCIgc3Ryb2tlLXdpZHRoPSIxIi8+CiAgICA8Y2lyY2xlIGN4PSI1MCIgY3k9IjUwIiByPSIyNSIgZmlsbD0iI0YwRjBGMCIvPgogICAgPGxpbmUgeDE9IjUwIiB5MT0iNTAiIHgyPSI1MCIgeTI9IjMwIiBzdHJva2U9IiM1N2M0ZjgiIHN0cm9rZS13aWR0aD0iMyIgc3Ryb2tlLWxpbmVjYXA9InJvdW5kIi8+CiAgICA8bGluZSB4MT0iNTAiIHkxPSI1MCIgeDI9IjY1IiB5Mj0iNTAiIHN0cm9rZT0iIzU3YzRmOCIgc3Ryb2tlLXdpZHRoPSIzIiBzdHJva2UtbGluZWNhcD0icm91bmQiLz4KICAgIDx0ZXh0IHg9IjEwMCIgeT0iMzQiIGZvbnQtZmFtaWx5PSJBcmlhbCwgc2Fucy1zZXJpZiIgZm9udC1zaXplPSIxNCIgZmlsbD0iIzMzMzMzMyI+VGhlIG5leHQgY2VsbCBtYXkgdGFrZSBhIGZldyBtaW51dGVzIHRvIHJ1bi48L3RleHQ+Cjwvc3ZnPgo=\" alt=\"Time alert open medium\"/>"
   ]
  },
  {
   "cell_type": "code",
   "execution_count": 18,
   "id": "bab839f9-6194-4467-b9d9-b207c15eb729",
   "metadata": {
    "tags": []
   },
   "outputs": [
    {
     "name": "stderr",
     "output_type": "stream",
     "text": [
      "INFO:sagemaker:Creating processing-job with name from-idea-to-prod-processing-2024-07-16-07-43-51-961\n"
     ]
    },
    {
     "name": "stdout",
     "output_type": "stream",
     "text": [
      "..............\u001b[34mCollecting mlflow==2.13.2 (from -r /opt/ml/processing/input/code/requirements/requirements.txt (line 1))\n",
      "  Downloading mlflow-2.13.2-py3-none-any.whl.metadata (29 kB)\u001b[0m\n",
      "\u001b[34mCollecting sagemaker-mlflow==0.1.0 (from -r /opt/ml/processing/input/code/requirements/requirements.txt (line 2))\n",
      "  Downloading sagemaker_mlflow-0.1.0-py3-none-any.whl.metadata (3.3 kB)\u001b[0m\n",
      "\u001b[34mRequirement already satisfied: Flask<4 in /miniconda3/lib/python3.8/site-packages (from mlflow==2.13.2->-r /opt/ml/processing/input/code/requirements/requirements.txt (line 1)) (1.1.1)\u001b[0m\n",
      "\u001b[34mCollecting alembic!=1.10.0,<2 (from mlflow==2.13.2->-r /opt/ml/processing/input/code/requirements/requirements.txt (line 1))\n",
      "  Downloading alembic-1.13.2-py3-none-any.whl.metadata (7.4 kB)\u001b[0m\n",
      "\u001b[34mCollecting cachetools<6,>=5.0.0 (from mlflow==2.13.2->-r /opt/ml/processing/input/code/requirements/requirements.txt (line 1))\n",
      "  Downloading cachetools-5.4.0-py3-none-any.whl.metadata (5.3 kB)\u001b[0m\n",
      "\u001b[34mRequirement already satisfied: click<9,>=7.0 in /miniconda3/lib/python3.8/site-packages (from mlflow==2.13.2->-r /opt/ml/processing/input/code/requirements/requirements.txt (line 1)) (8.1.7)\u001b[0m\n",
      "\u001b[34mCollecting cloudpickle<4 (from mlflow==2.13.2->-r /opt/ml/processing/input/code/requirements/requirements.txt (line 1))\n",
      "  Downloading cloudpickle-3.0.0-py3-none-any.whl.metadata (7.0 kB)\u001b[0m\n",
      "\u001b[34mCollecting docker<8,>=4.0.0 (from mlflow==2.13.2->-r /opt/ml/processing/input/code/requirements/requirements.txt (line 1))\n",
      "  Downloading docker-7.1.0-py3-none-any.whl.metadata (3.8 kB)\u001b[0m\n",
      "\u001b[34mCollecting entrypoints<1 (from mlflow==2.13.2->-r /opt/ml/processing/input/code/requirements/requirements.txt (line 1))\n",
      "  Downloading entrypoints-0.4-py3-none-any.whl.metadata (2.6 kB)\u001b[0m\n",
      "\u001b[34mCollecting gitpython<4,>=3.1.9 (from mlflow==2.13.2->-r /opt/ml/processing/input/code/requirements/requirements.txt (line 1))\n",
      "  Downloading GitPython-3.1.43-py3-none-any.whl.metadata (13 kB)\u001b[0m\n",
      "\u001b[34mCollecting graphene<4 (from mlflow==2.13.2->-r /opt/ml/processing/input/code/requirements/requirements.txt (line 1))\n",
      "  Downloading graphene-3.3-py2.py3-none-any.whl.metadata (7.7 kB)\u001b[0m\n",
      "\u001b[34mCollecting importlib-metadata!=4.7.0,<8,>=3.7.0 (from mlflow==2.13.2->-r /opt/ml/processing/input/code/requirements/requirements.txt (line 1))\n",
      "  Downloading importlib_metadata-7.2.1-py3-none-any.whl.metadata (4.6 kB)\u001b[0m\n",
      "\u001b[34mCollecting markdown<4,>=3.3 (from mlflow==2.13.2->-r /opt/ml/processing/input/code/requirements/requirements.txt (line 1))\n",
      "  Downloading Markdown-3.6-py3-none-any.whl.metadata (7.0 kB)\u001b[0m\n",
      "\u001b[34mCollecting matplotlib<4 (from mlflow==2.13.2->-r /opt/ml/processing/input/code/requirements/requirements.txt (line 1))\n",
      "  Downloading matplotlib-3.7.5-cp38-cp38-manylinux_2_12_x86_64.manylinux2010_x86_64.whl.metadata (5.7 kB)\u001b[0m\n",
      "\u001b[34mRequirement already satisfied: numpy<2 in /miniconda3/lib/python3.8/site-packages (from mlflow==2.13.2->-r /opt/ml/processing/input/code/requirements/requirements.txt (line 1)) (1.24.1)\u001b[0m\n",
      "\u001b[34mCollecting opentelemetry-api<3,>=1.0.0 (from mlflow==2.13.2->-r /opt/ml/processing/input/code/requirements/requirements.txt (line 1))\n",
      "  Downloading opentelemetry_api-1.25.0-py3-none-any.whl.metadata (1.4 kB)\u001b[0m\n",
      "\u001b[34mCollecting opentelemetry-sdk<3,>=1.0.0 (from mlflow==2.13.2->-r /opt/ml/processing/input/code/requirements/requirements.txt (line 1))\n",
      "  Downloading opentelemetry_sdk-1.25.0-py3-none-any.whl.metadata (1.4 kB)\u001b[0m\n",
      "\u001b[34mCollecting packaging<25 (from mlflow==2.13.2->-r /opt/ml/processing/input/code/requirements/requirements.txt (line 1))\n",
      "  Downloading packaging-24.1-py3-none-any.whl.metadata (3.2 kB)\u001b[0m\n",
      "\u001b[34mRequirement already satisfied: pandas<3 in /miniconda3/lib/python3.8/site-packages (from mlflow==2.13.2->-r /opt/ml/processing/input/code/requirements/requirements.txt (line 1)) (1.1.3)\u001b[0m\n",
      "\u001b[34mRequirement already satisfied: protobuf<5,>=3.12.0 in /miniconda3/lib/python3.8/site-packages (from mlflow==2.13.2->-r /opt/ml/processing/input/code/requirements/requirements.txt (line 1)) (3.20.2)\u001b[0m\n",
      "\u001b[34mRequirement already satisfied: pyarrow<16,>=4.0.0 in /miniconda3/lib/python3.8/site-packages (from mlflow==2.13.2->-r /opt/ml/processing/input/code/requirements/requirements.txt (line 1)) (14.0.1)\u001b[0m\n",
      "\u001b[34mRequirement already satisfied: pytz<2025 in /miniconda3/lib/python3.8/site-packages (from mlflow==2.13.2->-r /opt/ml/processing/input/code/requirements/requirements.txt (line 1)) (2024.1)\u001b[0m\n",
      "\u001b[34mCollecting pyyaml<7,>=5.1 (from mlflow==2.13.2->-r /opt/ml/processing/input/code/requirements/requirements.txt (line 1))\n",
      "  Downloading PyYAML-6.0.1-cp38-cp38-manylinux_2_17_x86_64.manylinux2014_x86_64.whl.metadata (2.1 kB)\u001b[0m\n",
      "\u001b[34mCollecting querystring-parser<2 (from mlflow==2.13.2->-r /opt/ml/processing/input/code/requirements/requirements.txt (line 1))\n",
      "  Downloading querystring_parser-1.2.4-py2.py3-none-any.whl.metadata (559 bytes)\u001b[0m\n",
      "\u001b[34mRequirement already satisfied: requests<3,>=2.17.3 in /miniconda3/lib/python3.8/site-packages (from mlflow==2.13.2->-r /opt/ml/processing/input/code/requirements/requirements.txt (line 1)) (2.32.2)\u001b[0m\n",
      "\u001b[34mRequirement already satisfied: scikit-learn<2 in /miniconda3/lib/python3.8/site-packages (from mlflow==2.13.2->-r /opt/ml/processing/input/code/requirements/requirements.txt (line 1)) (1.2.1)\u001b[0m\n",
      "\u001b[34mRequirement already satisfied: scipy<2 in /miniconda3/lib/python3.8/site-packages (from mlflow==2.13.2->-r /opt/ml/processing/input/code/requirements/requirements.txt (line 1)) (1.8.0)\u001b[0m\n",
      "\u001b[34mCollecting sqlalchemy<3,>=1.4.0 (from mlflow==2.13.2->-r /opt/ml/processing/input/code/requirements/requirements.txt (line 1))\n",
      "  Downloading SQLAlchemy-2.0.31-cp38-cp38-manylinux_2_17_x86_64.manylinux2014_x86_64.whl.metadata (9.6 kB)\u001b[0m\n",
      "\u001b[34mCollecting sqlparse<1,>=0.4.0 (from mlflow==2.13.2->-r /opt/ml/processing/input/code/requirements/requirements.txt (line 1))\n",
      "  Downloading sqlparse-0.5.1-py3-none-any.whl.metadata (3.9 kB)\u001b[0m\n",
      "\u001b[34mRequirement already satisfied: Jinja2<4,>=2.11 in /miniconda3/lib/python3.8/site-packages (from mlflow==2.13.2->-r /opt/ml/processing/input/code/requirements/requirements.txt (line 1)) (3.0.3)\u001b[0m\n",
      "\u001b[34mRequirement already satisfied: gunicorn<23 in /miniconda3/lib/python3.8/site-packages (from mlflow==2.13.2->-r /opt/ml/processing/input/code/requirements/requirements.txt (line 1)) (20.0.4)\u001b[0m\n",
      "\u001b[34mCollecting boto3>=1.34 (from sagemaker-mlflow==0.1.0->-r /opt/ml/processing/input/code/requirements/requirements.txt (line 2))\n",
      "  Downloading boto3-1.34.144-py3-none-any.whl.metadata (6.6 kB)\u001b[0m\n",
      "\u001b[34mCollecting Mako (from alembic!=1.10.0,<2->mlflow==2.13.2->-r /opt/ml/processing/input/code/requirements/requirements.txt (line 1))\n",
      "  Downloading Mako-1.3.5-py3-none-any.whl.metadata (2.9 kB)\u001b[0m\n",
      "\u001b[34mCollecting typing-extensions>=4 (from alembic!=1.10.0,<2->mlflow==2.13.2->-r /opt/ml/processing/input/code/requirements/requirements.txt (line 1))\n",
      "  Downloading typing_extensions-4.12.2-py3-none-any.whl.metadata (3.0 kB)\u001b[0m\n",
      "\u001b[34mCollecting importlib-resources (from alembic!=1.10.0,<2->mlflow==2.13.2->-r /opt/ml/processing/input/code/requirements/requirements.txt (line 1))\n",
      "  Downloading importlib_resources-6.4.0-py3-none-any.whl.metadata (3.9 kB)\u001b[0m\n",
      "\u001b[34mCollecting botocore<1.35.0,>=1.34.144 (from boto3>=1.34->sagemaker-mlflow==0.1.0->-r /opt/ml/processing/input/code/requirements/requirements.txt (line 2))\n",
      "  Downloading botocore-1.34.144-py3-none-any.whl.metadata (5.7 kB)\u001b[0m\n",
      "\u001b[34mRequirement already satisfied: jmespath<2.0.0,>=0.7.1 in /miniconda3/lib/python3.8/site-packages (from boto3>=1.34->sagemaker-mlflow==0.1.0->-r /opt/ml/processing/input/code/requirements/requirements.txt (line 2)) (1.0.1)\u001b[0m\n",
      "\u001b[34mCollecting s3transfer<0.11.0,>=0.10.0 (from boto3>=1.34->sagemaker-mlflow==0.1.0->-r /opt/ml/processing/input/code/requirements/requirements.txt (line 2))\n",
      "  Downloading s3transfer-0.10.2-py3-none-any.whl.metadata (1.7 kB)\u001b[0m\n",
      "\u001b[34mRequirement already satisfied: urllib3>=1.26.0 in /miniconda3/lib/python3.8/site-packages (from docker<8,>=4.0.0->mlflow==2.13.2->-r /opt/ml/processing/input/code/requirements/requirements.txt (line 1)) (1.26.18)\u001b[0m\n",
      "\u001b[34mRequirement already satisfied: Werkzeug>=0.15 in /miniconda3/lib/python3.8/site-packages (from Flask<4->mlflow==2.13.2->-r /opt/ml/processing/input/code/requirements/requirements.txt (line 1)) (2.0.3)\u001b[0m\n",
      "\u001b[34mRequirement already satisfied: itsdangerous>=0.24 in /miniconda3/lib/python3.8/site-packages (from Flask<4->mlflow==2.13.2->-r /opt/ml/processing/input/code/requirements/requirements.txt (line 1)) (2.0.1)\u001b[0m\n",
      "\u001b[34mCollecting gitdb<5,>=4.0.1 (from gitpython<4,>=3.1.9->mlflow==2.13.2->-r /opt/ml/processing/input/code/requirements/requirements.txt (line 1))\n",
      "  Downloading gitdb-4.0.11-py3-none-any.whl.metadata (1.2 kB)\u001b[0m\n",
      "\u001b[34mCollecting graphql-core<3.3,>=3.1 (from graphene<4->mlflow==2.13.2->-r /opt/ml/processing/input/code/requirements/requirements.txt (line 1))\n",
      "  Downloading graphql_core-3.2.3-py3-none-any.whl.metadata (10 kB)\u001b[0m\n",
      "\u001b[34mCollecting graphql-relay<3.3,>=3.1 (from graphene<4->mlflow==2.13.2->-r /opt/ml/processing/input/code/requirements/requirements.txt (line 1))\n",
      "  Downloading graphql_relay-3.2.0-py3-none-any.whl.metadata (12 kB)\u001b[0m\n",
      "\u001b[34mCollecting aniso8601<10,>=8 (from graphene<4->mlflow==2.13.2->-r /opt/ml/processing/input/code/requirements/requirements.txt (line 1))\n",
      "  Downloading aniso8601-9.0.1-py2.py3-none-any.whl.metadata (23 kB)\u001b[0m\n",
      "\u001b[34mRequirement already satisfied: setuptools>=3.0 in /miniconda3/lib/python3.8/site-packages (from gunicorn<23->mlflow==2.13.2->-r /opt/ml/processing/input/code/requirements/requirements.txt (line 1)) (65.5.1)\u001b[0m\n",
      "\u001b[34mCollecting zipp>=0.5 (from importlib-metadata!=4.7.0,<8,>=3.7.0->mlflow==2.13.2->-r /opt/ml/processing/input/code/requirements/requirements.txt (line 1))\n",
      "  Downloading zipp-3.19.2-py3-none-any.whl.metadata (3.6 kB)\u001b[0m\n",
      "\u001b[34mRequirement already satisfied: MarkupSafe>=2.0 in /miniconda3/lib/python3.8/site-packages (from Jinja2<4,>=2.11->mlflow==2.13.2->-r /opt/ml/processing/input/code/requirements/requirements.txt (line 1)) (2.1.1)\u001b[0m\n",
      "\u001b[34mCollecting contourpy>=1.0.1 (from matplotlib<4->mlflow==2.13.2->-r /opt/ml/processing/input/code/requirements/requirements.txt (line 1))\n",
      "  Downloading contourpy-1.1.1-cp38-cp38-manylinux_2_17_x86_64.manylinux2014_x86_64.whl.metadata (5.9 kB)\u001b[0m\n",
      "\u001b[34mCollecting cycler>=0.10 (from matplotlib<4->mlflow==2.13.2->-r /opt/ml/processing/input/code/requirements/requirements.txt (line 1))\n",
      "  Downloading cycler-0.12.1-py3-none-any.whl.metadata (3.8 kB)\u001b[0m\n",
      "\u001b[34mCollecting fonttools>=4.22.0 (from matplotlib<4->mlflow==2.13.2->-r /opt/ml/processing/input/code/requirements/requirements.txt (line 1))\n",
      "  Downloading fonttools-4.53.1-cp38-cp38-manylinux_2_17_x86_64.manylinux2014_x86_64.whl.metadata (162 kB)\n",
      "     ━━━━━━━━━━━━━━━━━━━━━━━━━━━━━━━━━━━━━━ 162.6/162.6 kB 27.6 MB/s eta 0:00:00\u001b[0m\n",
      "\u001b[34mCollecting kiwisolver>=1.0.1 (from matplotlib<4->mlflow==2.13.2->-r /opt/ml/processing/input/code/requirements/requirements.txt (line 1))\n",
      "  Downloading kiwisolver-1.4.5-cp38-cp38-manylinux_2_5_x86_64.manylinux1_x86_64.whl.metadata (6.4 kB)\u001b[0m\n",
      "\u001b[34mRequirement already satisfied: pillow>=6.2.0 in /miniconda3/lib/python3.8/site-packages (from matplotlib<4->mlflow==2.13.2->-r /opt/ml/processing/input/code/requirements/requirements.txt (line 1)) (10.3.0)\u001b[0m\n",
      "\u001b[34mCollecting pyparsing>=2.3.1 (from matplotlib<4->mlflow==2.13.2->-r /opt/ml/processing/input/code/requirements/requirements.txt (line 1))\n",
      "  Downloading pyparsing-3.1.2-py3-none-any.whl.metadata (5.1 kB)\u001b[0m\n",
      "\u001b[34mRequirement already satisfied: python-dateutil>=2.7 in /miniconda3/lib/python3.8/site-packages (from matplotlib<4->mlflow==2.13.2->-r /opt/ml/processing/input/code/requirements/requirements.txt (line 1)) (2.8.1)\u001b[0m\n",
      "\u001b[34mCollecting deprecated>=1.2.6 (from opentelemetry-api<3,>=1.0.0->mlflow==2.13.2->-r /opt/ml/processing/input/code/requirements/requirements.txt (line 1))\n",
      "  Downloading Deprecated-1.2.14-py2.py3-none-any.whl.metadata (5.4 kB)\u001b[0m\n",
      "\u001b[34mCollecting importlib-metadata!=4.7.0,<8,>=3.7.0 (from mlflow==2.13.2->-r /opt/ml/processing/input/code/requirements/requirements.txt (line 1))\n",
      "  Downloading importlib_metadata-7.1.0-py3-none-any.whl.metadata (4.7 kB)\u001b[0m\n",
      "\u001b[34mCollecting opentelemetry-semantic-conventions==0.46b0 (from opentelemetry-sdk<3,>=1.0.0->mlflow==2.13.2->-r /opt/ml/processing/input/code/requirements/requirements.txt (line 1))\n",
      "  Downloading opentelemetry_semantic_conventions-0.46b0-py3-none-any.whl.metadata (2.3 kB)\u001b[0m\n",
      "\u001b[34mRequirement already satisfied: six in /miniconda3/lib/python3.8/site-packages (from querystring-parser<2->mlflow==2.13.2->-r /opt/ml/processing/input/code/requirements/requirements.txt (line 1)) (1.15.0)\u001b[0m\n",
      "\u001b[34mRequirement already satisfied: charset-normalizer<4,>=2 in /miniconda3/lib/python3.8/site-packages (from requests<3,>=2.17.3->mlflow==2.13.2->-r /opt/ml/processing/input/code/requirements/requirements.txt (line 1)) (2.0.4)\u001b[0m\n",
      "\u001b[34mRequirement already satisfied: idna<4,>=2.5 in /miniconda3/lib/python3.8/site-packages (from requests<3,>=2.17.3->mlflow==2.13.2->-r /opt/ml/processing/input/code/requirements/requirements.txt (line 1)) (3.7)\u001b[0m\n",
      "\u001b[34mRequirement already satisfied: certifi>=2017.4.17 in /miniconda3/lib/python3.8/site-packages (from requests<3,>=2.17.3->mlflow==2.13.2->-r /opt/ml/processing/input/code/requirements/requirements.txt (line 1)) (2023.7.22)\u001b[0m\n",
      "\u001b[34mRequirement already satisfied: joblib>=1.1.1 in /miniconda3/lib/python3.8/site-packages (from scikit-learn<2->mlflow==2.13.2->-r /opt/ml/processing/input/code/requirements/requirements.txt (line 1)) (1.4.2)\u001b[0m\n",
      "\u001b[34mRequirement already satisfied: threadpoolctl>=2.0.0 in /miniconda3/lib/python3.8/site-packages (from scikit-learn<2->mlflow==2.13.2->-r /opt/ml/processing/input/code/requirements/requirements.txt (line 1)) (3.5.0)\u001b[0m\n",
      "\u001b[34mRequirement already satisfied: greenlet!=0.4.17 in /miniconda3/lib/python3.8/site-packages (from sqlalchemy<3,>=1.4.0->mlflow==2.13.2->-r /opt/ml/processing/input/code/requirements/requirements.txt (line 1)) (3.0.3)\u001b[0m\n",
      "\u001b[34mCollecting wrapt<2,>=1.10 (from deprecated>=1.2.6->opentelemetry-api<3,>=1.0.0->mlflow==2.13.2->-r /opt/ml/processing/input/code/requirements/requirements.txt (line 1))\n",
      "  Downloading wrapt-1.16.0-cp38-cp38-manylinux_2_5_x86_64.manylinux1_x86_64.manylinux_2_17_x86_64.manylinux2014_x86_64.whl.metadata (6.6 kB)\u001b[0m\n",
      "\u001b[34mCollecting smmap<6,>=3.0.1 (from gitdb<5,>=4.0.1->gitpython<4,>=3.1.9->mlflow==2.13.2->-r /opt/ml/processing/input/code/requirements/requirements.txt (line 1))\n",
      "  Downloading smmap-5.0.1-py3-none-any.whl.metadata (4.3 kB)\u001b[0m\n",
      "\u001b[34mDownloading mlflow-2.13.2-py3-none-any.whl (25.0 MB)\n",
      "   ━━━━━━━━━━━━━━━━━━━━━━━━━━━━━━━━━━━━━━━━ 25.0/25.0 MB 85.6 MB/s eta 0:00:00\u001b[0m\n",
      "\u001b[34mDownloading sagemaker_mlflow-0.1.0-py3-none-any.whl (24 kB)\u001b[0m\n",
      "\u001b[34mDownloading alembic-1.13.2-py3-none-any.whl (232 kB)\n",
      "   ━━━━━━━━━━━━━━━━━━━━━━━━━━━━━━━━━━━━━━━━ 233.0/233.0 kB 40.4 MB/s eta 0:00:00\u001b[0m\n",
      "\u001b[34mDownloading boto3-1.34.144-py3-none-any.whl (139 kB)\n",
      "   ━━━━━━━━━━━━━━━━━━━━━━━━━━━━━━━━━━━━━━━━ 139.2/139.2 kB 26.5 MB/s eta 0:00:00\u001b[0m\n",
      "\u001b[34mDownloading cachetools-5.4.0-py3-none-any.whl (9.5 kB)\u001b[0m\n",
      "\u001b[34mDownloading cloudpickle-3.0.0-py3-none-any.whl (20 kB)\u001b[0m\n",
      "\u001b[34mDownloading docker-7.1.0-py3-none-any.whl (147 kB)\n",
      "   ━━━━━━━━━━━━━━━━━━━━━━━━━━━━━━━━━━━━━━━━ 147.8/147.8 kB 28.4 MB/s eta 0:00:00\u001b[0m\n",
      "\u001b[34mDownloading entrypoints-0.4-py3-none-any.whl (5.3 kB)\u001b[0m\n",
      "\u001b[34mDownloading GitPython-3.1.43-py3-none-any.whl (207 kB)\n",
      "   ━━━━━━━━━━━━━━━━━━━━━━━━━━━━━━━━━━━━━━━━ 207.3/207.3 kB 36.1 MB/s eta 0:00:00\u001b[0m\n",
      "\u001b[34mDownloading graphene-3.3-py2.py3-none-any.whl (128 kB)\n",
      "   ━━━━━━━━━━━━━━━━━━━━━━━━━━━━━━━━━━━━━━━━ 128.2/128.2 kB 20.3 MB/s eta 0:00:00\u001b[0m\n",
      "\u001b[34mDownloading Markdown-3.6-py3-none-any.whl (105 kB)\n",
      "   ━━━━━━━━━━━━━━━━━━━━━━━━━━━━━━━━━━━━━━━━ 105.4/105.4 kB 19.0 MB/s eta 0:00:00\u001b[0m\n",
      "\u001b[34mDownloading matplotlib-3.7.5-cp38-cp38-manylinux_2_12_x86_64.manylinux2010_x86_64.whl (9.2 MB)\n",
      "   ━━━━━━━━━━━━━━━━━━━━━━━━━━━━━━━━━━━━━━━━ 9.2/9.2 MB 132.0 MB/s eta 0:00:00\u001b[0m\n",
      "\u001b[34mDownloading opentelemetry_api-1.25.0-py3-none-any.whl (59 kB)\n",
      "   ━━━━━━━━━━━━━━━━━━━━━━━━━━━━━━━━━━━━━━━━ 59.9/59.9 kB 12.0 MB/s eta 0:00:00\u001b[0m\n",
      "\u001b[34mDownloading importlib_metadata-7.1.0-py3-none-any.whl (24 kB)\u001b[0m\n",
      "\u001b[34mDownloading opentelemetry_sdk-1.25.0-py3-none-any.whl (107 kB)\n",
      "   ━━━━━━━━━━━━━━━━━━━━━━━━━━━━━━━━━━━━━━━━ 107.0/107.0 kB 19.9 MB/s eta 0:00:00\u001b[0m\n",
      "\u001b[34mDownloading opentelemetry_semantic_conventions-0.46b0-py3-none-any.whl (130 kB)\n",
      "   ━━━━━━━━━━━━━━━━━━━━━━━━━━━━━━━━━━━━━━━━ 130.5/130.5 kB 15.1 MB/s eta 0:00:00\u001b[0m\n",
      "\u001b[34mDownloading packaging-24.1-py3-none-any.whl (53 kB)\n",
      "   ━━━━━━━━━━━━━━━━━━━━━━━━━━━━━━━━━━━━━━━━ 54.0/54.0 kB 3.1 MB/s eta 0:00:00\u001b[0m\n",
      "\u001b[34mDownloading PyYAML-6.0.1-cp38-cp38-manylinux_2_17_x86_64.manylinux2014_x86_64.whl (736 kB)\n",
      "   ━━━━━━━━━━━━━━━━━━━━━━━━━━━━━━━━━━━━━━━━ 736.6/736.6 kB 74.4 MB/s eta 0:00:00\u001b[0m\n",
      "\u001b[34mDownloading querystring_parser-1.2.4-py2.py3-none-any.whl (7.9 kB)\u001b[0m\n",
      "\u001b[34mDownloading SQLAlchemy-2.0.31-cp38-cp38-manylinux_2_17_x86_64.manylinux2014_x86_64.whl (3.1 MB)\n",
      "   ━━━━━━━━━━━━━━━━━━━━━━━━━━━━━━━━━━━━━━━━ 3.1/3.1 MB 113.6 MB/s eta 0:00:00\u001b[0m\n",
      "\u001b[34mDownloading sqlparse-0.5.1-py3-none-any.whl (44 kB)\n",
      "   ━━━━━━━━━━━━━━━━━━━━━━━━━━━━━━━━━━━━━━━━ 44.2/44.2 kB 8.6 MB/s eta 0:00:00\u001b[0m\n",
      "\u001b[34mDownloading aniso8601-9.0.1-py2.py3-none-any.whl (52 kB)\n",
      "   ━━━━━━━━━━━━━━━━━━━━━━━━━━━━━━━━━━━━━━━━ 52.8/52.8 kB 6.9 MB/s eta 0:00:00\u001b[0m\n",
      "\u001b[34mDownloading botocore-1.34.144-py3-none-any.whl (12.4 MB)\n",
      "   ━━━━━━━━━━━━━━━━━━━━━━━━━━━━━━━━━━━━━━━━ 12.4/12.4 MB 118.8 MB/s eta 0:00:00\u001b[0m\n",
      "\u001b[34mDownloading contourpy-1.1.1-cp38-cp38-manylinux_2_17_x86_64.manylinux2014_x86_64.whl (301 kB)\n",
      "   ━━━━━━━━━━━━━━━━━━━━━━━━━━━━━━━━━━━━━━━━ 301.1/301.1 kB 47.6 MB/s eta 0:00:00\u001b[0m\n",
      "\u001b[34mDownloading cycler-0.12.1-py3-none-any.whl (8.3 kB)\u001b[0m\n",
      "\u001b[34mDownloading Deprecated-1.2.14-py2.py3-none-any.whl (9.6 kB)\u001b[0m\n",
      "\u001b[34mDownloading fonttools-4.53.1-cp38-cp38-manylinux_2_17_x86_64.manylinux2014_x86_64.whl (4.7 MB)\n",
      "   ━━━━━━━━━━━━━━━━━━━━━━━━━━━━━━━━━━━━━━━━ 4.7/4.7 MB 117.4 MB/s eta 0:00:00\u001b[0m\n",
      "\u001b[34mDownloading gitdb-4.0.11-py3-none-any.whl (62 kB)\n",
      "   ━━━━━━━━━━━━━━━━━━━━━━━━━━━━━━━━━━━━━━━━ 62.7/62.7 kB 11.9 MB/s eta 0:00:00\u001b[0m\n",
      "\u001b[34mDownloading graphql_core-3.2.3-py3-none-any.whl (202 kB)\n",
      "   ━━━━━━━━━━━━━━━━━━━━━━━━━━━━━━━━━━━━━━━━ 202.9/202.9 kB 36.1 MB/s eta 0:00:00\u001b[0m\n",
      "\u001b[34mDownloading graphql_relay-3.2.0-py3-none-any.whl (16 kB)\u001b[0m\n",
      "\u001b[34mDownloading importlib_resources-6.4.0-py3-none-any.whl (38 kB)\u001b[0m\n",
      "\u001b[34mDownloading kiwisolver-1.4.5-cp38-cp38-manylinux_2_5_x86_64.manylinux1_x86_64.whl (1.2 MB)\n",
      "   ━━━━━━━━━━━━━━━━━━━━━━━━━━━━━━━━━━━━━━━━ 1.2/1.2 MB 83.1 MB/s eta 0:00:00\u001b[0m\n",
      "\u001b[34mDownloading pyparsing-3.1.2-py3-none-any.whl (103 kB)\n",
      "   ━━━━━━━━━━━━━━━━━━━━━━━━━━━━━━━━━━━━━━━━ 103.2/103.2 kB 14.8 MB/s eta 0:00:00\u001b[0m\n",
      "\u001b[34mDownloading s3transfer-0.10.2-py3-none-any.whl (82 kB)\n",
      "   ━━━━━━━━━━━━━━━━━━━━━━━━━━━━━━━━━━━━━━━━ 82.7/82.7 kB 17.0 MB/s eta 0:00:00\u001b[0m\n",
      "\u001b[34mDownloading typing_extensions-4.12.2-py3-none-any.whl (37 kB)\u001b[0m\n",
      "\u001b[34mDownloading zipp-3.19.2-py3-none-any.whl (9.0 kB)\u001b[0m\n",
      "\u001b[34mDownloading Mako-1.3.5-py3-none-any.whl (78 kB)\n",
      "   ━━━━━━━━━━━━━━━━━━━━━━━━━━━━━━━━━━━━━━━━ 78.6/78.6 kB 16.5 MB/s eta 0:00:00\u001b[0m\n",
      "\u001b[34mDownloading smmap-5.0.1-py3-none-any.whl (24 kB)\u001b[0m\n",
      "\u001b[34mDownloading wrapt-1.16.0-cp38-cp38-manylinux_2_5_x86_64.manylinux1_x86_64.manylinux_2_17_x86_64.manylinux2014_x86_64.whl (83 kB)\n",
      "   ━━━━━━━━━━━━━━━━━━━━━━━━━━━━━━━━━━━━━━━━ 83.4/83.4 kB 15.9 MB/s eta 0:00:00\u001b[0m\n",
      "\u001b[34mInstalling collected packages: aniso8601, zipp, wrapt, typing-extensions, sqlparse, smmap, querystring-parser, pyyaml, pyparsing, packaging, Mako, kiwisolver, graphql-core, fonttools, entrypoints, cycler, contourpy, cloudpickle, cachetools, sqlalchemy, importlib-resources, importlib-metadata, graphql-relay, gitdb, docker, deprecated, botocore, s3transfer, opentelemetry-api, matplotlib, markdown, graphene, gitpython, alembic, opentelemetry-semantic-conventions, boto3, opentelemetry-sdk, mlflow, sagemaker-mlflow\u001b[0m\n",
      "\u001b[34m  Attempting uninstall: botocore\n",
      "    Found existing installation: botocore 1.31.85\n",
      "    Uninstalling botocore-1.31.85:\u001b[0m\n",
      "\u001b[34m      Successfully uninstalled botocore-1.31.85\n",
      "  Attempting uninstall: s3transfer\n",
      "    Found existing installation: s3transfer 0.7.0\n",
      "    Uninstalling s3transfer-0.7.0:\n",
      "      Successfully uninstalled s3transfer-0.7.0\u001b[0m\n",
      "\u001b[34m  Attempting uninstall: boto3\n",
      "    Found existing installation: boto3 1.28.57\n",
      "    Uninstalling boto3-1.28.57:\n",
      "      Successfully uninstalled boto3-1.28.57\u001b[0m\n",
      "\u001b[34mERROR: pip's dependency resolver does not currently take into account all the packages that are installed. This behaviour is the source of the following dependency conflicts.\u001b[0m\n",
      "\u001b[34msagemaker-sklearn-container 2.0 requires boto3==1.28.57, but you have boto3 1.34.144 which is incompatible.\u001b[0m\n",
      "\u001b[34msagemaker-sklearn-container 2.0 requires botocore<1.32.0,>=1.31.57, but you have botocore 1.34.144 which is incompatible.\u001b[0m\n",
      "\u001b[34mSuccessfully installed Mako-1.3.5 alembic-1.13.2 aniso8601-9.0.1 boto3-1.34.144 botocore-1.34.144 cachetools-5.4.0 cloudpickle-3.0.0 contourpy-1.1.1 cycler-0.12.1 deprecated-1.2.14 docker-7.1.0 entrypoints-0.4 fonttools-4.53.1 gitdb-4.0.11 gitpython-3.1.43 graphene-3.3 graphql-core-3.2.3 graphql-relay-3.2.0 importlib-metadata-7.1.0 importlib-resources-6.4.0 kiwisolver-1.4.5 markdown-3.6 matplotlib-3.7.5 mlflow-2.13.2 opentelemetry-api-1.25.0 opentelemetry-sdk-1.25.0 opentelemetry-semantic-conventions-0.46b0 packaging-24.1 pyparsing-3.1.2 pyyaml-6.0.1 querystring-parser-1.2.4 s3transfer-0.10.2 sagemaker-mlflow-0.1.0 smmap-5.0.1 sqlalchemy-2.0.31 sqlparse-0.5.1 typing-extensions-4.12.2 wrapt-1.16.0 zipp-3.19.2\u001b[0m\n",
      "\u001b[34m2024/07/16 07:46:27 INFO mlflow.tracking.fluent: Autologging successfully enabled for sklearn.\u001b[0m\n",
      "\u001b[34mData split > train:(28831, 65) | validation:(8238, 65) | test:(4119, 65)\u001b[0m\n",
      "\u001b[34m## Processing complete. Exiting.\u001b[0m\n",
      "\n"
     ]
    }
   ],
   "source": [
    "sklearn_processor.run(\n",
    "    inputs=processing_inputs,\n",
    "    outputs=processing_outputs,\n",
    "    code='processing/preprocessing.py',\n",
    "    wait=True,\n",
    "    # arguments = ['arg1', 'arg2'],\n",
    ")\n",
    "\n",
    "mlflow.set_tags(\n",
    "    {\n",
    "        'mlflow.user':user_profile_name,\n",
    "        'mlflow.source.name':f'https://{region}.console.aws.amazon.com/sagemaker/home?region={region}#/processing-jobs/{sklearn_processor.latest_job.name}',\n",
    "        'mlflow.source.type':'JOB'\n",
    "    }\n",
    ")\n",
    "\n",
    "mlflow.end_run()"
   ]
  },
  {
   "cell_type": "markdown",
   "id": "9d9c8e0b",
   "metadata": {},
   "source": [
    "<img src=\"data:image/svg+xml;base64,Cjxzdmcgd2lkdGg9IjgwMCIgaGVpZ2h0PSI1MCIgdmlld0JveD0iMCAwIDgwMCA1MCIgeG1sbnM9Imh0dHA6Ly93d3cudzMub3JnLzIwMDAvc3ZnIj4KICAgIDxkZWZzPgogICAgICAgIDxsaW5lYXJHcmFkaWVudCBpZD0iZmFkZUdyYWRpZW50IiB4MT0iMCIgeDI9IjEiPgogICAgICAgICAgICA8c3RvcCBvZmZzZXQ9IjAlIiBzdG9wLWNvbG9yPSIjRjBGMEYwIi8+CiAgICAgICAgICAgIDxzdG9wIG9mZnNldD0iMTAwJSIgc3RvcC1jb2xvcj0iI0YwRjBGMCIgc3RvcC1vcGFjaXR5PSIwIi8+CiAgICAgICAgPC9saW5lYXJHcmFkaWVudD4KICAgICAgICA8bWFzayBpZD0iZmFkZU1hc2siPgogICAgICAgICAgICA8cmVjdCB4PSIwIiB5PSIwIiB3aWR0aD0iNzUwIiBoZWlnaHQ9IjUwIiBmaWxsPSJ3aGl0ZSIvPgogICAgICAgICAgICA8cmVjdCB4PSI3NTAiIHk9IjAiIHdpZHRoPSI1MCIgaGVpZ2h0PSI1MCIgZmlsbD0idXJsKCNmYWRlR3JhZGllbnQpIi8+CiAgICAgICAgPC9tYXNrPgogICAgPC9kZWZzPgogICAgPHBhdGggZD0iTTI1LDUwIFEwLDUwIDAsMjUgTDUwLDMgTDk3LDI1IEw3OTcsMjUgTDc5Nyw1MCBMMjUsNTAgWiIgZmlsbD0iI0YwRjBGMCIgc3Ryb2tlPSIjRTBFMEUwIiBzdHJva2Utd2lkdGg9IjEiIG1hc2s9InVybCgjZmFkZU1hc2spIi8+Cjwvc3ZnPgo=\" alt=\"Time alert close\"/>"
   ]
  },
  {
   "cell_type": "code",
   "execution_count": 19,
   "id": "d665ecf7-d836-40db-960e-ad8075c1ced4",
   "metadata": {
    "tags": []
   },
   "outputs": [
    {
     "name": "stdout",
     "output_type": "stream",
     "text": [
      "from-idea-to-prod-processing-2024-07-16-07-43-51-961 completed\n"
     ]
    }
   ],
   "source": [
    "# If you set wait to False in the previous code cell, wait until the job completes\n",
    "while sm.describe_processing_job(\n",
    "        ProcessingJobName=sklearn_processor._current_job_name\n",
    "    )[\"ProcessingJobStatus\"] != \"Completed\":\n",
    "    time.sleep(10)\n",
    "    print(f\"Wait until {sklearn_processor._current_job_name} completed\")\n",
    "else:\n",
    "    print(f\"{sklearn_processor._current_job_name} completed\")"
   ]
  },
  {
   "cell_type": "markdown",
   "id": "795e7281-d03b-42ba-8ef4-b0b30f9de0fd",
   "metadata": {},
   "source": [
    "To wait for job completion you can also use `boto3` [waiters](https://boto3.amazonaws.com/v1/documentation/api/latest/reference/services/sagemaker.html#waiters). For example:\n",
    "\n",
    "```python\n",
    "waiter = session.sagemaker_client.get_waiter('processing_job_completed_or_stopped')\n",
    "waiter.wait(ProcessingJobName=sklearn_processor._current_job_name)\n",
    "```"
   ]
  },
  {
   "cell_type": "code",
   "execution_count": 20,
   "id": "ad2ceb4b-ece3-40c6-8674-ce7b8db70a4b",
   "metadata": {
    "tags": []
   },
   "outputs": [],
   "source": [
    "# list the uploaded files\n",
    "# !aws s3 ls {bucket_name}/{bucket_prefix} --recursive"
   ]
  },
  {
   "cell_type": "markdown",
   "id": "68297752",
   "metadata": {},
   "source": [
    "## Run your local code remotely as a SageMaker job\n",
    "You an use [SageMaker Python SDK decorator `@remote`](https://sagemaker.readthedocs.io/en/stable/remote_function/sagemaker.remote_function.html) to run you local code in the notebook as a SageMaker processing job – called the \"Remote Function\". This is an even easier way to run your Python code at scale using SageMaker distributed processing and training.\n",
    "\n",
    "Refer to the [documentation](https://docs.aws.amazon.com/sagemaker/latest/dg/train-remote-decorator.html) in the Amazon SageMaker developer guide.\n",
    "\n",
    "In the following section you run the data processing code as a SageMaker job using `@remote` decorator."
   ]
  },
  {
   "cell_type": "markdown",
   "id": "a8e427a9-69b3-4c85-8ba3-ab0d12faf0f2",
   "metadata": {},
   "source": [
    "### Step 1: Develop and test you code locally\n",
    "First, you implement and test your code locally in the notebook to verify the correctness of code and environment."
   ]
  },
  {
   "cell_type": "code",
   "execution_count": 21,
   "id": "8d9b7032-835c-4abb-8269-7a66204120e2",
   "metadata": {
    "tags": []
   },
   "outputs": [],
   "source": [
    "# Load the dataset in to DataFrame\n",
    "file_name = \"bank-additional-full.csv\"\n",
    "input_path = \"./data/bank-additional\" \n",
    "df_data = pd.read_csv(os.path.join(input_path, file_name), sep=\";\")"
   ]
  },
  {
   "cell_type": "code",
   "execution_count": 22,
   "id": "5ab225a2-6cb0-43c7-a043-a2d0a0ba5335",
   "metadata": {
    "tags": []
   },
   "outputs": [],
   "source": [
    "from sklearn.preprocessing import MinMaxScaler, LabelEncoder\n",
    "\n",
    "# define a local function\n",
    "def preprocess(\n",
    "    df_data,\n",
    "    tracking_server_arn=mlflow_arn,\n",
    "    experiment_name=None,\n",
    "    run_id=None,\n",
    "):\n",
    "    import mlflow\n",
    "    from time import gmtime, strftime\n",
    "\n",
    "    try:\n",
    "        # Set the Tracking Server URI using the ARN of the Tracking Server you created\n",
    "        mlflow.set_tracking_uri(tracking_server_arn)\n",
    "        \n",
    "        # Enable autologging in MLflow\n",
    "        mlflow.autolog()\n",
    "    \n",
    "        suffix = strftime('%d-%H-%M-%S', gmtime())\n",
    "        mlflow.set_experiment(experiment_name=experiment_name if experiment_name else f\"preprocess-{suffix}\")\n",
    "        run = mlflow.start_run(run_id=run_id) if run_id else mlflow.start_run(run_name=f\"local-processing-{suffix}\", nested=True)\n",
    "    \n",
    "        target_col = \"y\"\n",
    "        \n",
    "        # Indicator variable to capture when pdays takes a value of 999\n",
    "        df_data[\"no_previous_contact\"] = np.where(df_data[\"pdays\"] == 999, 1, 0)\n",
    "    \n",
    "        # Indicator for individuals not actively employed\n",
    "        df_data[\"not_working\"] = np.where(\n",
    "            np.in1d(df_data[\"job\"], [\"student\", \"retired\", \"unemployed\"]), 1, 0\n",
    "        )\n",
    "    \n",
    "        # remove unnecessary data\n",
    "        df_model_data = df_data.drop(\n",
    "            [\"duration\", \"emp.var.rate\", \"cons.price.idx\", \"cons.conf.idx\", \"euribor3m\", \"nr.employed\"],\n",
    "            axis=1,\n",
    "        )\n",
    "    \n",
    "        bins = [18, 30, 40, 50, 60, 70, 90]\n",
    "        labels = ['18-29', '30-39', '40-49', '50-59', '60-69', '70-plus']\n",
    "    \n",
    "        df_model_data['age_range'] = pd.cut(df_model_data.age, bins, labels=labels, include_lowest=True)\n",
    "        df_model_data = pd.concat([df_model_data, pd.get_dummies(df_model_data['age_range'], prefix='age', dtype=int)], axis=1)\n",
    "        df_model_data.drop('age', axis=1, inplace=True)\n",
    "        df_model_data.drop('age_range', axis=1, inplace=True)\n",
    "    \n",
    "        scaled_features = ['pdays', 'previous', 'campaign']\n",
    "        df_model_data[scaled_features] = MinMaxScaler().fit_transform(df_model_data[scaled_features])\n",
    "    \n",
    "        df_model_data = pd.get_dummies(df_model_data, dtype=int)  # Convert categorical variables to sets of indicators\n",
    "    \n",
    "        # Replace \"y_no\" and \"y_yes\" with a single label column, and bring it to the front:\n",
    "        df_model_data = pd.concat(\n",
    "            [\n",
    "                df_model_data[\"y_yes\"].rename(target_col),\n",
    "                df_model_data.drop([\"y_no\", \"y_yes\"], axis=1),\n",
    "            ],\n",
    "            axis=1,\n",
    "        )\n",
    "    \n",
    "        # Shuffle and splitting dataset\n",
    "        train_data, validation_data, test_data = np.split(\n",
    "            df_model_data.sample(frac=1, random_state=1729),\n",
    "            [int(0.7 * len(df_model_data)), int(0.9 * len(df_model_data))],\n",
    "        )\n",
    "    \n",
    "        print(f\"Data split > train:{train_data.shape} | validation:{validation_data.shape} | test:{test_data.shape}\")\n",
    "\n",
    "        mlflow.log_params(\n",
    "            {\n",
    "                \"train\": train_data.shape,\n",
    "                \"validate\": validation_data.shape,\n",
    "                \"test\": test_data.shape\n",
    "            }\n",
    "        )\n",
    "        \n",
    "        baseline_data = df_model_data.drop([target_col], axis=1)\n",
    "        \n",
    "        print(\"## Processing complete. Exiting.\")\n",
    "        \n",
    "        return train_data, validation_data, test_data, baseline_data\n",
    "\n",
    "    except Exception as e:\n",
    "        print(f\"Exception in processing script: {e}\")\n",
    "        raise e\n",
    "    finally:\n",
    "        mlflow.end_run()"
   ]
  },
  {
   "cell_type": "code",
   "execution_count": 23,
   "id": "7d186016-1e10-46bc-9b2e-4ede2d86e8d5",
   "metadata": {
    "tags": []
   },
   "outputs": [
    {
     "name": "stderr",
     "output_type": "stream",
     "text": [
      "2024/07/16 08:04:02 INFO mlflow.tracking.fluent: Autologging successfully enabled for sklearn.\n",
      "/opt/conda/lib/python3.10/site-packages/numpy/core/fromnumeric.py:59: FutureWarning: 'DataFrame.swapaxes' is deprecated and will be removed in a future version. Please use 'DataFrame.transpose' instead.\n",
      "  return bound(*args, **kwds)\n"
     ]
    },
    {
     "name": "stdout",
     "output_type": "stream",
     "text": [
      "Data split > train:(28831, 65) | validation:(8238, 65) | test:(4119, 65)\n",
      "## Processing complete. Exiting.\n"
     ]
    }
   ],
   "source": [
    "# Call the function locally\n",
    "train_data, validation_data, test_data, baseline_data = preprocess(df_data, experiment_name=experiment_name)"
   ]
  },
  {
   "cell_type": "code",
   "execution_count": 24,
   "id": "14fd3745-80dd-45d1-beee-f24b78717c41",
   "metadata": {
    "tags": []
   },
   "outputs": [
    {
     "data": {
      "text/html": [
       "<div>\n",
       "<style scoped>\n",
       "    .dataframe tbody tr th:only-of-type {\n",
       "        vertical-align: middle;\n",
       "    }\n",
       "\n",
       "    .dataframe tbody tr th {\n",
       "        vertical-align: top;\n",
       "    }\n",
       "\n",
       "    .dataframe thead th {\n",
       "        text-align: right;\n",
       "    }\n",
       "</style>\n",
       "<table border=\"1\" class=\"dataframe\">\n",
       "  <thead>\n",
       "    <tr style=\"text-align: right;\">\n",
       "      <th></th>\n",
       "      <th>y</th>\n",
       "      <th>campaign</th>\n",
       "      <th>pdays</th>\n",
       "      <th>previous</th>\n",
       "      <th>no_previous_contact</th>\n",
       "      <th>not_working</th>\n",
       "      <th>age_18-29</th>\n",
       "      <th>age_30-39</th>\n",
       "      <th>age_40-49</th>\n",
       "      <th>age_50-59</th>\n",
       "      <th>...</th>\n",
       "      <th>month_oct</th>\n",
       "      <th>month_sep</th>\n",
       "      <th>day_of_week_fri</th>\n",
       "      <th>day_of_week_mon</th>\n",
       "      <th>day_of_week_thu</th>\n",
       "      <th>day_of_week_tue</th>\n",
       "      <th>day_of_week_wed</th>\n",
       "      <th>poutcome_failure</th>\n",
       "      <th>poutcome_nonexistent</th>\n",
       "      <th>poutcome_success</th>\n",
       "    </tr>\n",
       "  </thead>\n",
       "  <tbody>\n",
       "    <tr>\n",
       "      <th>40949</th>\n",
       "      <td>0</td>\n",
       "      <td>0.036364</td>\n",
       "      <td>1.0</td>\n",
       "      <td>0.0</td>\n",
       "      <td>1</td>\n",
       "      <td>0</td>\n",
       "      <td>0</td>\n",
       "      <td>0</td>\n",
       "      <td>0</td>\n",
       "      <td>1</td>\n",
       "      <td>...</td>\n",
       "      <td>1</td>\n",
       "      <td>0</td>\n",
       "      <td>0</td>\n",
       "      <td>0</td>\n",
       "      <td>1</td>\n",
       "      <td>0</td>\n",
       "      <td>0</td>\n",
       "      <td>0</td>\n",
       "      <td>1</td>\n",
       "      <td>0</td>\n",
       "    </tr>\n",
       "    <tr>\n",
       "      <th>9332</th>\n",
       "      <td>0</td>\n",
       "      <td>0.018182</td>\n",
       "      <td>1.0</td>\n",
       "      <td>0.0</td>\n",
       "      <td>1</td>\n",
       "      <td>0</td>\n",
       "      <td>0</td>\n",
       "      <td>0</td>\n",
       "      <td>0</td>\n",
       "      <td>1</td>\n",
       "      <td>...</td>\n",
       "      <td>0</td>\n",
       "      <td>0</td>\n",
       "      <td>1</td>\n",
       "      <td>0</td>\n",
       "      <td>0</td>\n",
       "      <td>0</td>\n",
       "      <td>0</td>\n",
       "      <td>0</td>\n",
       "      <td>1</td>\n",
       "      <td>0</td>\n",
       "    </tr>\n",
       "    <tr>\n",
       "      <th>32286</th>\n",
       "      <td>0</td>\n",
       "      <td>0.018182</td>\n",
       "      <td>1.0</td>\n",
       "      <td>0.0</td>\n",
       "      <td>1</td>\n",
       "      <td>0</td>\n",
       "      <td>0</td>\n",
       "      <td>1</td>\n",
       "      <td>0</td>\n",
       "      <td>0</td>\n",
       "      <td>...</td>\n",
       "      <td>0</td>\n",
       "      <td>0</td>\n",
       "      <td>1</td>\n",
       "      <td>0</td>\n",
       "      <td>0</td>\n",
       "      <td>0</td>\n",
       "      <td>0</td>\n",
       "      <td>0</td>\n",
       "      <td>1</td>\n",
       "      <td>0</td>\n",
       "    </tr>\n",
       "    <tr>\n",
       "      <th>3925</th>\n",
       "      <td>0</td>\n",
       "      <td>0.036364</td>\n",
       "      <td>1.0</td>\n",
       "      <td>0.0</td>\n",
       "      <td>1</td>\n",
       "      <td>0</td>\n",
       "      <td>0</td>\n",
       "      <td>0</td>\n",
       "      <td>1</td>\n",
       "      <td>0</td>\n",
       "      <td>...</td>\n",
       "      <td>0</td>\n",
       "      <td>0</td>\n",
       "      <td>0</td>\n",
       "      <td>1</td>\n",
       "      <td>0</td>\n",
       "      <td>0</td>\n",
       "      <td>0</td>\n",
       "      <td>0</td>\n",
       "      <td>1</td>\n",
       "      <td>0</td>\n",
       "    </tr>\n",
       "    <tr>\n",
       "      <th>9406</th>\n",
       "      <td>0</td>\n",
       "      <td>0.018182</td>\n",
       "      <td>1.0</td>\n",
       "      <td>0.0</td>\n",
       "      <td>1</td>\n",
       "      <td>0</td>\n",
       "      <td>0</td>\n",
       "      <td>1</td>\n",
       "      <td>0</td>\n",
       "      <td>0</td>\n",
       "      <td>...</td>\n",
       "      <td>0</td>\n",
       "      <td>0</td>\n",
       "      <td>1</td>\n",
       "      <td>0</td>\n",
       "      <td>0</td>\n",
       "      <td>0</td>\n",
       "      <td>0</td>\n",
       "      <td>0</td>\n",
       "      <td>1</td>\n",
       "      <td>0</td>\n",
       "    </tr>\n",
       "  </tbody>\n",
       "</table>\n",
       "<p>5 rows × 65 columns</p>\n",
       "</div>"
      ],
      "text/plain": [
       "       y  campaign  pdays  previous  no_previous_contact  not_working  \\\n",
       "40949  0  0.036364    1.0       0.0                    1            0   \n",
       "9332   0  0.018182    1.0       0.0                    1            0   \n",
       "32286  0  0.018182    1.0       0.0                    1            0   \n",
       "3925   0  0.036364    1.0       0.0                    1            0   \n",
       "9406   0  0.018182    1.0       0.0                    1            0   \n",
       "\n",
       "       age_18-29  age_30-39  age_40-49  age_50-59  ...  month_oct  month_sep  \\\n",
       "40949          0          0          0          1  ...          1          0   \n",
       "9332           0          0          0          1  ...          0          0   \n",
       "32286          0          1          0          0  ...          0          0   \n",
       "3925           0          0          1          0  ...          0          0   \n",
       "9406           0          1          0          0  ...          0          0   \n",
       "\n",
       "       day_of_week_fri  day_of_week_mon  day_of_week_thu  day_of_week_tue  \\\n",
       "40949                0                0                1                0   \n",
       "9332                 1                0                0                0   \n",
       "32286                1                0                0                0   \n",
       "3925                 0                1                0                0   \n",
       "9406                 1                0                0                0   \n",
       "\n",
       "       day_of_week_wed  poutcome_failure  poutcome_nonexistent  \\\n",
       "40949                0                 0                     1   \n",
       "9332                 0                 0                     1   \n",
       "32286                0                 0                     1   \n",
       "3925                 0                 0                     1   \n",
       "9406                 0                 0                     1   \n",
       "\n",
       "       poutcome_success  \n",
       "40949                 0  \n",
       "9332                  0  \n",
       "32286                 0  \n",
       "3925                  0  \n",
       "9406                  0  \n",
       "\n",
       "[5 rows x 65 columns]"
      ]
     },
     "execution_count": 24,
     "metadata": {},
     "output_type": "execute_result"
    }
   ],
   "source": [
    "# see the processed data\n",
    "train_data.head()"
   ]
  },
  {
   "cell_type": "markdown",
   "id": "eeff9ac0-798e-4e7e-8c1b-db9a86735e13",
   "metadata": {},
   "source": [
    "### Step 2: Execute the function remotely using RemoteExecutor\n",
    "You can use [`RemoteExecutor`](https://sagemaker.readthedocs.io/en/stable/remote_function/sagemaker.remote_function.html#remoteexecutor) SageMaker Python SDK class to run the local function remotely as a SageMaker job. You can run multiple jobs in paralle using `max_parallel_jobs` parameter to control the max number of parallel jobs."
   ]
  },
  {
   "cell_type": "code",
   "execution_count": 25,
   "id": "5fed14c2-cea6-478c-ac96-c8310b674b9c",
   "metadata": {
    "tags": []
   },
   "outputs": [],
   "source": [
    "from sagemaker.remote_function import remote, RemoteExecutor"
   ]
  },
  {
   "cell_type": "code",
   "execution_count": 26,
   "id": "72264ace-992a-42f7-9edc-6d16c063fee3",
   "metadata": {
    "tags": []
   },
   "outputs": [],
   "source": [
    "s3_root_uri = f\"s3://{bucket_name}/{bucket_prefix}\""
   ]
  },
  {
   "cell_type": "code",
   "execution_count": 27,
   "id": "9b7b1c58-b5da-4fda-b9a5-7bc7f9e05ebe",
   "metadata": {
    "tags": []
   },
   "outputs": [
    {
     "name": "stderr",
     "output_type": "stream",
     "text": [
      "2024-07-16 08:04:12,757 sagemaker.remote_function INFO     Serializing function code to s3://sagemaker-us-east-1-402709838713/from-idea-to-prod/xgboost/preprocess-2024-07-16-08-04-12-757/function\n",
      "2024-07-16 08:04:12,868 sagemaker.remote_function INFO     Serializing function arguments to s3://sagemaker-us-east-1-402709838713/from-idea-to-prod/xgboost/preprocess-2024-07-16-08-04-12-757/arguments\n",
      "2024-07-16 08:04:13,198 sagemaker.remote_function INFO     Copied dependencies file at './processing/requirements/requirements.txt' to '/tmp/tmpz8m2xpx6/temp_workspace/sagemaker_remote_function_workspace/requirements.txt'\n",
      "2024-07-16 08:04:13,199 sagemaker.remote_function INFO     Successfully created workdir archive at '/tmp/tmpz8m2xpx6/workspace.zip'\n",
      "2024-07-16 08:04:13,229 sagemaker.remote_function INFO     Successfully uploaded workdir to 's3://sagemaker-us-east-1-402709838713/from-idea-to-prod/xgboost/preprocess-2024-07-16-08-04-12-757/sm_rf_user_ws/workspace.zip'\n",
      "2024-07-16 08:04:13,231 sagemaker.remote_function INFO     Creating job: preprocess-2024-07-16-08-04-12-757\n"
     ]
    }
   ],
   "source": [
    "# this code will start a SageMaker job to execute prerpocess script\n",
    "with RemoteExecutor(dependencies=f\"{dependencies_dir}requirements.txt\",\n",
    "                    s3_root_uri=s3_root_uri, instance_type=processing_instance_type) as e:\n",
    "    future = e.submit(preprocess, df_data)                 "
   ]
  },
  {
   "cell_type": "code",
   "execution_count": 28,
   "id": "c4b90a53-40c4-499c-84f1-985a23011aec",
   "metadata": {
    "tags": []
   },
   "outputs": [
    {
     "name": "stdout",
     "output_type": "stream",
     "text": [
      "2024-07-16 08:07:48 Starting - Preparing the instances for training\n",
      "2024-07-16 08:07:48 Downloading - Downloading the training image\n",
      "2024-07-16 08:07:48 Training - Training image download completed. Training in progress.\n",
      "2024-07-16 08:07:48 Uploading - Uploading generated training model\n",
      "2024-07-16 08:07:48 Completed - Training job completed\u001b[34mINFO: CONDA_PKGS_DIRS is set to '/opt/ml/sagemaker/warmpoolcache/sm_remotefunction_user_dependencies_cache/conda/pkgs'\u001b[0m\n",
      "\u001b[34mINFO: PIP_CACHE_DIR is set to '/opt/ml/sagemaker/warmpoolcache/sm_remotefunction_user_dependencies_cache/pip'\u001b[0m\n",
      "\u001b[34mINFO: Bootstraping runtime environment.\u001b[0m\n",
      "\u001b[34m2024-07-16 08:07:18,611 sagemaker.remote_function INFO     The job is running on non-root user: sagemaker-user. Adding write permissions to the following job output directories: ['/opt/ml/output', '/opt/ml/model', '/tmp'].\u001b[0m\n",
      "\u001b[34m2024-07-16 08:07:18,611 sagemaker.remote_function INFO     Executing 'sudo chmod -R 777 /opt/ml/output /opt/ml/model /tmp'.\u001b[0m\n",
      "\u001b[34m2024-07-16 08:07:18,696 sagemaker.remote_function INFO     Successfully unpacked workspace archive at '/home/sagemaker-user'.\u001b[0m\n",
      "\u001b[34m2024-07-16 08:07:18,696 sagemaker.remote_function INFO     '/home/sagemaker-user/sagemaker_remote_function_workspace/pre_exec.sh' does not exist. Assuming no pre-execution commands to run\u001b[0m\n",
      "\u001b[34m2024-07-16 08:07:18,696 sagemaker.remote_function INFO     Running command: '/opt/conda/bin/python -m pip install -r /home/sagemaker-user/sagemaker_remote_function_workspace/requirements.txt -U' in the dir: '/home/sagemaker-user' \u001b[0m\n",
      "\u001b[34m2024-07-16 08:07:19,237 sagemaker.remote_function INFO     Collecting mlflow==2.13.2 (from -r /home/sagemaker-user/sagemaker_remote_function_workspace/requirements.txt (line 1))\u001b[0m\n",
      "\u001b[34m2024-07-16 08:07:19,259 sagemaker.remote_function INFO       Downloading mlflow-2.13.2-py3-none-any.whl.metadata (29 kB)\u001b[0m\n",
      "\u001b[34m2024-07-16 08:07:19,271 sagemaker.remote_function INFO     Collecting sagemaker-mlflow==0.1.0 (from -r /home/sagemaker-user/sagemaker_remote_function_workspace/requirements.txt (line 2))\u001b[0m\n",
      "\u001b[34m2024-07-16 08:07:19,276 sagemaker.remote_function INFO       Downloading sagemaker_mlflow-0.1.0-py3-none-any.whl.metadata (3.3 kB)\u001b[0m\n",
      "\u001b[34m2024-07-16 08:07:19,334 sagemaker.remote_function INFO     Requirement already satisfied: Flask<4 in /opt/conda/lib/python3.10/site-packages (from mlflow==2.13.2->-r /home/sagemaker-user/sagemaker_remote_function_workspace/requirements.txt (line 1)) (3.0.3)\u001b[0m\n",
      "\u001b[34m2024-07-16 08:07:19,378 sagemaker.remote_function INFO     Collecting alembic!=1.10.0,<2 (from mlflow==2.13.2->-r /home/sagemaker-user/sagemaker_remote_function_workspace/requirements.txt (line 1))\u001b[0m\n",
      "\u001b[34m2024-07-16 08:07:19,381 sagemaker.remote_function INFO       Downloading alembic-1.13.2-py3-none-any.whl.metadata (7.4 kB)\u001b[0m\n",
      "\u001b[34m2024-07-16 08:07:19,383 sagemaker.remote_function INFO     Requirement already satisfied: cachetools<6,>=5.0.0 in /opt/conda/lib/python3.10/site-packages (from mlflow==2.13.2->-r /home/sagemaker-user/sagemaker_remote_function_workspace/requirements.txt (line 1)) (5.3.3)\u001b[0m\n",
      "\u001b[34m2024-07-16 08:07:19,383 sagemaker.remote_function INFO     Requirement already satisfied: click<9,>=7.0 in /opt/conda/lib/python3.10/site-packages (from mlflow==2.13.2->-r /home/sagemaker-user/sagemaker_remote_function_workspace/requirements.txt (line 1)) (8.1.7)\u001b[0m\n",
      "\u001b[34m2024-07-16 08:07:19,384 sagemaker.remote_function INFO     Requirement already satisfied: cloudpickle<4 in /opt/conda/lib/python3.10/site-packages (from mlflow==2.13.2->-r /home/sagemaker-user/sagemaker_remote_function_workspace/requirements.txt (line 1)) (2.2.1)\u001b[0m\n",
      "\u001b[34m2024-07-16 08:07:19,385 sagemaker.remote_function INFO     Requirement already satisfied: docker<8,>=4.0.0 in /opt/conda/lib/python3.10/site-packages (from mlflow==2.13.2->-r /home/sagemaker-user/sagemaker_remote_function_workspace/requirements.txt (line 1)) (7.1.0)\u001b[0m\n",
      "\u001b[34m2024-07-16 08:07:19,386 sagemaker.remote_function INFO     Requirement already satisfied: entrypoints<1 in /opt/conda/lib/python3.10/site-packages (from mlflow==2.13.2->-r /home/sagemaker-user/sagemaker_remote_function_workspace/requirements.txt (line 1)) (0.4)\u001b[0m\n",
      "\u001b[34m2024-07-16 08:07:19,387 sagemaker.remote_function INFO     Requirement already satisfied: gitpython<4,>=3.1.9 in /opt/conda/lib/python3.10/site-packages (from mlflow==2.13.2->-r /home/sagemaker-user/sagemaker_remote_function_workspace/requirements.txt (line 1)) (3.1.43)\u001b[0m\n",
      "\u001b[34m2024-07-16 08:07:19,407 sagemaker.remote_function INFO     Collecting graphene<4 (from mlflow==2.13.2->-r /home/sagemaker-user/sagemaker_remote_function_workspace/requirements.txt (line 1))\u001b[0m\n",
      "\u001b[34m2024-07-16 08:07:19,411 sagemaker.remote_function INFO       Downloading graphene-3.3-py2.py3-none-any.whl.metadata (7.7 kB)\u001b[0m\n",
      "\u001b[34m2024-07-16 08:07:19,412 sagemaker.remote_function INFO     Requirement already satisfied: importlib-metadata!=4.7.0,<8,>=3.7.0 in /opt/conda/lib/python3.10/site-packages (from mlflow==2.13.2->-r /home/sagemaker-user/sagemaker_remote_function_workspace/requirements.txt (line 1)) (6.10.0)\u001b[0m\n",
      "\u001b[34m2024-07-16 08:07:19,413 sagemaker.remote_function INFO     Requirement already satisfied: markdown<4,>=3.3 in /opt/conda/lib/python3.10/site-packages (from mlflow==2.13.2->-r /home/sagemaker-user/sagemaker_remote_function_workspace/requirements.txt (line 1)) (3.6)\u001b[0m\n",
      "\u001b[34m2024-07-16 08:07:19,414 sagemaker.remote_function INFO     Requirement already satisfied: matplotlib<4 in /opt/conda/lib/python3.10/site-packages (from mlflow==2.13.2->-r /home/sagemaker-user/sagemaker_remote_function_workspace/requirements.txt (line 1)) (3.8.4)\u001b[0m\n",
      "\u001b[34m2024-07-16 08:07:19,415 sagemaker.remote_function INFO     Requirement already satisfied: numpy<2 in /opt/conda/lib/python3.10/site-packages (from mlflow==2.13.2->-r /home/sagemaker-user/sagemaker_remote_function_workspace/requirements.txt (line 1)) (1.26.4)\u001b[0m\n",
      "\u001b[34m2024-07-16 08:07:19,441 sagemaker.remote_function INFO     Collecting opentelemetry-api<3,>=1.0.0 (from mlflow==2.13.2->-r /home/sagemaker-user/sagemaker_remote_function_workspace/requirements.txt (line 1))\u001b[0m\n",
      "\u001b[34m2024-07-16 08:07:19,444 sagemaker.remote_function INFO       Downloading opentelemetry_api-1.25.0-py3-none-any.whl.metadata (1.4 kB)\u001b[0m\n",
      "\u001b[34m2024-07-16 08:07:19,471 sagemaker.remote_function INFO     Collecting opentelemetry-sdk<3,>=1.0.0 (from mlflow==2.13.2->-r /home/sagemaker-user/sagemaker_remote_function_workspace/requirements.txt (line 1))\u001b[0m\n",
      "\u001b[34m2024-07-16 08:07:19,474 sagemaker.remote_function INFO       Downloading opentelemetry_sdk-1.25.0-py3-none-any.whl.metadata (1.4 kB)\u001b[0m\n",
      "\u001b[34m2024-07-16 08:07:19,476 sagemaker.remote_function INFO     Requirement already satisfied: packaging<25 in /opt/conda/lib/python3.10/site-packages (from mlflow==2.13.2->-r /home/sagemaker-user/sagemaker_remote_function_workspace/requirements.txt (line 1)) (23.2)\u001b[0m\n",
      "\u001b[34m2024-07-16 08:07:19,476 sagemaker.remote_function INFO     Requirement already satisfied: pandas<3 in /opt/conda/lib/python3.10/site-packages (from mlflow==2.13.2->-r /home/sagemaker-user/sagemaker_remote_function_workspace/requirements.txt (line 1)) (2.1.4)\u001b[0m\n",
      "\u001b[34m2024-07-16 08:07:19,477 sagemaker.remote_function INFO     Requirement already satisfied: protobuf<5,>=3.12.0 in /opt/conda/lib/python3.10/site-packages (from mlflow==2.13.2->-r /home/sagemaker-user/sagemaker_remote_function_workspace/requirements.txt (line 1)) (4.24.4)\u001b[0m\n",
      "\u001b[34m2024-07-16 08:07:19,478 sagemaker.remote_function INFO     Requirement already satisfied: pyarrow<16,>=4.0.0 in /opt/conda/lib/python3.10/site-packages (from mlflow==2.13.2->-r /home/sagemaker-user/sagemaker_remote_function_workspace/requirements.txt (line 1)) (15.0.0)\u001b[0m\n",
      "\u001b[34m2024-07-16 08:07:19,479 sagemaker.remote_function INFO     Requirement already satisfied: pytz<2025 in /opt/conda/lib/python3.10/site-packages (from mlflow==2.13.2->-r /home/sagemaker-user/sagemaker_remote_function_workspace/requirements.txt (line 1)) (2023.3)\u001b[0m\n",
      "\u001b[34m2024-07-16 08:07:19,480 sagemaker.remote_function INFO     Requirement already satisfied: pyyaml<7,>=5.1 in /opt/conda/lib/python3.10/site-packages (from mlflow==2.13.2->-r /home/sagemaker-user/sagemaker_remote_function_workspace/requirements.txt (line 1)) (6.0.1)\u001b[0m\n",
      "\u001b[34m2024-07-16 08:07:19,489 sagemaker.remote_function INFO     Collecting querystring-parser<2 (from mlflow==2.13.2->-r /home/sagemaker-user/sagemaker_remote_function_workspace/requirements.txt (line 1))\u001b[0m\n",
      "\u001b[34m2024-07-16 08:07:19,493 sagemaker.remote_function INFO       Downloading querystring_parser-1.2.4-py2.py3-none-any.whl.metadata (559 bytes)\u001b[0m\n",
      "\u001b[34m2024-07-16 08:07:19,494 sagemaker.remote_function INFO     Requirement already satisfied: requests<3,>=2.17.3 in /opt/conda/lib/python3.10/site-packages (from mlflow==2.13.2->-r /home/sagemaker-user/sagemaker_remote_function_workspace/requirements.txt (line 1)) (2.32.3)\u001b[0m\n",
      "\u001b[34m2024-07-16 08:07:19,494 sagemaker.remote_function INFO     Requirement already satisfied: scikit-learn<2 in /opt/conda/lib/python3.10/site-packages (from mlflow==2.13.2->-r /home/sagemaker-user/sagemaker_remote_function_workspace/requirements.txt (line 1)) (1.4.2)\u001b[0m\n",
      "\u001b[34m2024-07-16 08:07:19,495 sagemaker.remote_function INFO     Requirement already satisfied: scipy<2 in /opt/conda/lib/python3.10/site-packages (from mlflow==2.13.2->-r /home/sagemaker-user/sagemaker_remote_function_workspace/requirements.txt (line 1)) (1.11.4)\u001b[0m\n",
      "\u001b[34m2024-07-16 08:07:19,496 sagemaker.remote_function INFO     Requirement already satisfied: sqlalchemy<3,>=1.4.0 in /opt/conda/lib/python3.10/site-packages (from mlflow==2.13.2->-r /home/sagemaker-user/sagemaker_remote_function_workspace/requirements.txt (line 1)) (2.0.30)\u001b[0m\n",
      "\u001b[34m2024-07-16 08:07:19,497 sagemaker.remote_function INFO     Requirement already satisfied: sqlparse<1,>=0.4.0 in /opt/conda/lib/python3.10/site-packages (from mlflow==2.13.2->-r /home/sagemaker-user/sagemaker_remote_function_workspace/requirements.txt (line 1)) (0.5.0)\u001b[0m\n",
      "\u001b[34m2024-07-16 08:07:19,498 sagemaker.remote_function INFO     Requirement already satisfied: Jinja2<4,>=2.11 in /opt/conda/lib/python3.10/site-packages (from mlflow==2.13.2->-r /home/sagemaker-user/sagemaker_remote_function_workspace/requirements.txt (line 1)) (3.1.4)\u001b[0m\n",
      "\u001b[34m2024-07-16 08:07:19,521 sagemaker.remote_function INFO     Collecting gunicorn<23 (from mlflow==2.13.2->-r /home/sagemaker-user/sagemaker_remote_function_workspace/requirements.txt (line 1))\u001b[0m\n",
      "\u001b[34m2024-07-16 08:07:19,525 sagemaker.remote_function INFO       Downloading gunicorn-22.0.0-py3-none-any.whl.metadata (4.4 kB)\u001b[0m\n",
      "\u001b[34m2024-07-16 08:07:19,537 sagemaker.remote_function INFO     Requirement already satisfied: boto3>=1.34 in /opt/conda/lib/python3.10/site-packages (from sagemaker-mlflow==0.1.0->-r /home/sagemaker-user/sagemaker_remote_function_workspace/requirements.txt (line 2)) (1.34.131)\u001b[0m\n",
      "\u001b[34m2024-07-16 08:07:19,572 sagemaker.remote_function INFO     Collecting Mako (from alembic!=1.10.0,<2->mlflow==2.13.2->-r /home/sagemaker-user/sagemaker_remote_function_workspace/requirements.txt (line 1))\u001b[0m\n",
      "\u001b[34m2024-07-16 08:07:19,575 sagemaker.remote_function INFO       Downloading Mako-1.3.5-py3-none-any.whl.metadata (2.9 kB)\u001b[0m\n",
      "\u001b[34m2024-07-16 08:07:19,577 sagemaker.remote_function INFO     Requirement already satisfied: typing-extensions>=4 in /opt/conda/lib/python3.10/site-packages (from alembic!=1.10.0,<2->mlflow==2.13.2->-r /home/sagemaker-user/sagemaker_remote_function_workspace/requirements.txt (line 1)) (4.12.2)\u001b[0m\n",
      "\u001b[34m2024-07-16 08:07:19,582 sagemaker.remote_function INFO     Requirement already satisfied: botocore<1.35.0,>=1.34.131 in /opt/conda/lib/python3.10/site-packages (from boto3>=1.34->sagemaker-mlflow==0.1.0->-r /home/sagemaker-user/sagemaker_remote_function_workspace/requirements.txt (line 2)) (1.34.131)\u001b[0m\n",
      "\u001b[34m2024-07-16 08:07:19,583 sagemaker.remote_function INFO     Requirement already satisfied: jmespath<2.0.0,>=0.7.1 in /opt/conda/lib/python3.10/site-packages (from boto3>=1.34->sagemaker-mlflow==0.1.0->-r /home/sagemaker-user/sagemaker_remote_function_workspace/requirements.txt (line 2)) (1.0.1)\u001b[0m\n",
      "\u001b[34m2024-07-16 08:07:19,584 sagemaker.remote_function INFO     Requirement already satisfied: s3transfer<0.11.0,>=0.10.0 in /opt/conda/lib/python3.10/site-packages (from boto3>=1.34->sagemaker-mlflow==0.1.0->-r /home/sagemaker-user/sagemaker_remote_function_workspace/requirements.txt (line 2)) (0.10.2)\u001b[0m\n",
      "\u001b[34m2024-07-16 08:07:19,599 sagemaker.remote_function INFO     Requirement already satisfied: urllib3>=1.26.0 in /opt/conda/lib/python3.10/site-packages (from docker<8,>=4.0.0->mlflow==2.13.2->-r /home/sagemaker-user/sagemaker_remote_function_workspace/requirements.txt (line 1)) (1.26.19)\u001b[0m\n",
      "\u001b[34m2024-07-16 08:07:19,608 sagemaker.remote_function INFO     Requirement already satisfied: Werkzeug>=3.0.0 in /opt/conda/lib/python3.10/site-packages (from Flask<4->mlflow==2.13.2->-r /home/sagemaker-user/sagemaker_remote_function_workspace/requirements.txt (line 1)) (3.0.3)\u001b[0m\n",
      "\u001b[34m2024-07-16 08:07:19,609 sagemaker.remote_function INFO     Requirement already satisfied: itsdangerous>=2.1.2 in /opt/conda/lib/python3.10/site-packages (from Flask<4->mlflow==2.13.2->-r /home/sagemaker-user/sagemaker_remote_function_workspace/requirements.txt (line 1)) (2.2.0)\u001b[0m\n",
      "\u001b[34m2024-07-16 08:07:19,610 sagemaker.remote_function INFO     Requirement already satisfied: blinker>=1.6.2 in /opt/conda/lib/python3.10/site-packages (from Flask<4->mlflow==2.13.2->-r /home/sagemaker-user/sagemaker_remote_function_workspace/requirements.txt (line 1)) (1.8.2)\u001b[0m\n",
      "\u001b[34m2024-07-16 08:07:19,629 sagemaker.remote_function INFO     Requirement already satisfied: gitdb<5,>=4.0.1 in /opt/conda/lib/python3.10/site-packages (from gitpython<4,>=3.1.9->mlflow==2.13.2->-r /home/sagemaker-user/sagemaker_remote_function_workspace/requirements.txt (line 1)) (4.0.11)\u001b[0m\n",
      "\u001b[34m2024-07-16 08:07:19,680 sagemaker.remote_function INFO     Collecting graphql-core<3.3,>=3.1 (from graphene<4->mlflow==2.13.2->-r /home/sagemaker-user/sagemaker_remote_function_workspace/requirements.txt (line 1))\u001b[0m\n",
      "\u001b[34m2024-07-16 08:07:19,683 sagemaker.remote_function INFO       Downloading graphql_core-3.2.3-py3-none-any.whl.metadata (10 kB)\u001b[0m\n",
      "\u001b[34m2024-07-16 08:07:19,698 sagemaker.remote_function INFO     Collecting graphql-relay<3.3,>=3.1 (from graphene<4->mlflow==2.13.2->-r /home/sagemaker-user/sagemaker_remote_function_workspace/requirements.txt (line 1))\u001b[0m\n",
      "\u001b[34m2024-07-16 08:07:19,702 sagemaker.remote_function INFO       Downloading graphql_relay-3.2.0-py3-none-any.whl.metadata (12 kB)\u001b[0m\n",
      "\u001b[34m2024-07-16 08:07:19,716 sagemaker.remote_function INFO     Collecting aniso8601<10,>=8 (from graphene<4->mlflow==2.13.2->-r /home/sagemaker-user/sagemaker_remote_function_workspace/requirements.txt (line 1))\u001b[0m\n",
      "\u001b[34m2024-07-16 08:07:19,719 sagemaker.remote_function INFO       Downloading aniso8601-9.0.1-py2.py3-none-any.whl.metadata (23 kB)\u001b[0m\n",
      "\u001b[34m2024-07-16 08:07:19,769 sagemaker.remote_function INFO     Requirement already satisfied: zipp>=0.5 in /opt/conda/lib/python3.10/site-packages (from importlib-metadata!=4.7.0,<8,>=3.7.0->mlflow==2.13.2->-r /home/sagemaker-user/sagemaker_remote_function_workspace/requirements.txt (line 1)) (3.19.2)\u001b[0m\n",
      "\u001b[34m2024-07-16 08:07:19,773 sagemaker.remote_function INFO     Requirement already satisfied: MarkupSafe>=2.0 in /opt/conda/lib/python3.10/site-packages (from Jinja2<4,>=2.11->mlflow==2.13.2->-r /home/sagemaker-user/sagemaker_remote_function_workspace/requirements.txt (line 1)) (2.1.5)\u001b[0m\n",
      "\u001b[34m2024-07-16 08:07:19,792 sagemaker.remote_function INFO     Requirement already satisfied: contourpy>=1.0.1 in /opt/conda/lib/python3.10/site-packages (from matplotlib<4->mlflow==2.13.2->-r /home/sagemaker-user/sagemaker_remote_function_workspace/requirements.txt (line 1)) (1.2.1)\u001b[0m\n",
      "\u001b[34m2024-07-16 08:07:19,793 sagemaker.remote_function INFO     Requirement already satisfied: cycler>=0.10 in /opt/conda/lib/python3.10/site-packages (from matplotlib<4->mlflow==2.13.2->-r /home/sagemaker-user/sagemaker_remote_function_workspace/requirements.txt (line 1)) (0.12.1)\u001b[0m\n",
      "\u001b[34m2024-07-16 08:07:19,794 sagemaker.remote_function INFO     Requirement already satisfied: fonttools>=4.22.0 in /opt/conda/lib/python3.10/site-packages (from matplotlib<4->mlflow==2.13.2->-r /home/sagemaker-user/sagemaker_remote_function_workspace/requirements.txt (line 1)) (4.53.0)\u001b[0m\n",
      "\u001b[34m2024-07-16 08:07:19,794 sagemaker.remote_function INFO     Requirement already satisfied: kiwisolver>=1.3.1 in /opt/conda/lib/python3.10/site-packages (from matplotlib<4->mlflow==2.13.2->-r /home/sagemaker-user/sagemaker_remote_function_workspace/requirements.txt (line 1)) (1.4.5)\u001b[0m\n",
      "\u001b[34m2024-07-16 08:07:19,795 sagemaker.remote_function INFO     Requirement already satisfied: pillow>=8 in /opt/conda/lib/python3.10/site-packages (from matplotlib<4->mlflow==2.13.2->-r /home/sagemaker-user/sagemaker_remote_function_workspace/requirements.txt (line 1)) (10.3.0)\u001b[0m\n",
      "\u001b[34m2024-07-16 08:07:19,796 sagemaker.remote_function INFO     Requirement already satisfied: pyparsing>=2.3.1 in /opt/conda/lib/python3.10/site-packages (from matplotlib<4->mlflow==2.13.2->-r /home/sagemaker-user/sagemaker_remote_function_workspace/requirements.txt (line 1)) (3.1.2)\u001b[0m\n",
      "\u001b[34m2024-07-16 08:07:19,797 sagemaker.remote_function INFO     Requirement already satisfied: python-dateutil>=2.7 in /opt/conda/lib/python3.10/site-packages (from matplotlib<4->mlflow==2.13.2->-r /home/sagemaker-user/sagemaker_remote_function_workspace/requirements.txt (line 1)) (2.9.0)\u001b[0m\n",
      "\u001b[34m2024-07-16 08:07:19,822 sagemaker.remote_function INFO     Collecting deprecated>=1.2.6 (from opentelemetry-api<3,>=1.0.0->mlflow==2.13.2->-r /home/sagemaker-user/sagemaker_remote_function_workspace/requirements.txt (line 1))\u001b[0m\n",
      "\u001b[34m2024-07-16 08:07:19,825 sagemaker.remote_function INFO       Downloading Deprecated-1.2.14-py2.py3-none-any.whl.metadata (5.4 kB)\u001b[0m\n",
      "\u001b[34m2024-07-16 08:07:19,855 sagemaker.remote_function INFO     Collecting opentelemetry-semantic-conventions==0.46b0 (from opentelemetry-sdk<3,>=1.0.0->mlflow==2.13.2->-r /home/sagemaker-user/sagemaker_remote_function_workspace/requirements.txt (line 1))\u001b[0m\n",
      "\u001b[34m2024-07-16 08:07:19,859 sagemaker.remote_function INFO       Downloading opentelemetry_semantic_conventions-0.46b0-py3-none-any.whl.metadata (2.3 kB)\u001b[0m\n",
      "\u001b[34m2024-07-16 08:07:19,941 sagemaker.remote_function INFO     Requirement already satisfied: tzdata>=2022.1 in /opt/conda/lib/python3.10/site-packages (from pandas<3->mlflow==2.13.2->-r /home/sagemaker-user/sagemaker_remote_function_workspace/requirements.txt (line 1)) (2024.1)\u001b[0m\n",
      "\u001b[34m2024-07-16 08:07:19,958 sagemaker.remote_function INFO     Requirement already satisfied: six in /opt/conda/lib/python3.10/site-packages (from querystring-parser<2->mlflow==2.13.2->-r /home/sagemaker-user/sagemaker_remote_function_workspace/requirements.txt (line 1)) (1.16.0)\u001b[0m\n",
      "\u001b[34m2024-07-16 08:07:19,967 sagemaker.remote_function INFO     Requirement already satisfied: charset-normalizer<4,>=2 in /opt/conda/lib/python3.10/site-packages (from requests<3,>=2.17.3->mlflow==2.13.2->-r /home/sagemaker-user/sagemaker_remote_function_workspace/requirements.txt (line 1)) (3.3.2)\u001b[0m\n",
      "\u001b[34m2024-07-16 08:07:19,968 sagemaker.remote_function INFO     Requirement already satisfied: idna<4,>=2.5 in /opt/conda/lib/python3.10/site-packages (from requests<3,>=2.17.3->mlflow==2.13.2->-r /home/sagemaker-user/sagemaker_remote_function_workspace/requirements.txt (line 1)) (3.7)\u001b[0m\n",
      "\u001b[34m2024-07-16 08:07:19,969 sagemaker.remote_function INFO     Requirement already satisfied: certifi>=2017.4.17 in /opt/conda/lib/python3.10/site-packages (from requests<3,>=2.17.3->mlflow==2.13.2->-r /home/sagemaker-user/sagemaker_remote_function_workspace/requirements.txt (line 1)) (2024.6.2)\u001b[0m\n",
      "\u001b[34m2024-07-16 08:07:20,003 sagemaker.remote_function INFO     Requirement already satisfied: joblib>=1.2.0 in /opt/conda/lib/python3.10/site-packages (from scikit-learn<2->mlflow==2.13.2->-r /home/sagemaker-user/sagemaker_remote_function_workspace/requirements.txt (line 1)) (1.4.2)\u001b[0m\n",
      "\u001b[34m2024-07-16 08:07:20,004 sagemaker.remote_function INFO     Requirement already satisfied: threadpoolctl>=2.0.0 in /opt/conda/lib/python3.10/site-packages (from scikit-learn<2->mlflow==2.13.2->-r /home/sagemaker-user/sagemaker_remote_function_workspace/requirements.txt (line 1)) (3.5.0)\u001b[0m\n",
      "\u001b[34m2024-07-16 08:07:20,071 sagemaker.remote_function INFO     Requirement already satisfied: greenlet!=0.4.17 in /opt/conda/lib/python3.10/site-packages (from sqlalchemy<3,>=1.4.0->mlflow==2.13.2->-r /home/sagemaker-user/sagemaker_remote_function_workspace/requirements.txt (line 1)) (3.0.3)\u001b[0m\n",
      "\u001b[34m2024-07-16 08:07:20,138 sagemaker.remote_function INFO     Requirement already satisfied: wrapt<2,>=1.10 in /opt/conda/lib/python3.10/site-packages (from deprecated>=1.2.6->opentelemetry-api<3,>=1.0.0->mlflow==2.13.2->-r /home/sagemaker-user/sagemaker_remote_function_workspace/requirements.txt (line 1)) (1.14.1)\u001b[0m\n",
      "\u001b[34m2024-07-16 08:07:20,183 sagemaker.remote_function INFO     Requirement already satisfied: smmap<6,>=3.0.1 in /opt/conda/lib/python3.10/site-packages (from gitdb<5,>=4.0.1->gitpython<4,>=3.1.9->mlflow==2.13.2->-r /home/sagemaker-user/sagemaker_remote_function_workspace/requirements.txt (line 1)) (5.0.0)\u001b[0m\n",
      "\u001b[34m2024-07-16 08:07:20,383 sagemaker.remote_function INFO     Downloading mlflow-2.13.2-py3-none-any.whl (25.0 MB)\u001b[0m\n",
      "\u001b[34m2024-07-16 08:07:20,479 sagemaker.remote_function INFO        ━━━━━━━━━━━━━━━━━━━━━━━━━━━━━━━━━━━━━━━━ 25.0/25.0 MB 307.8 MB/s eta 0:00:00\u001b[0m\n",
      "\u001b[34m2024-07-16 08:07:20,483 sagemaker.remote_function INFO     Downloading sagemaker_mlflow-0.1.0-py3-none-any.whl (24 kB)\u001b[0m\n",
      "\u001b[34m2024-07-16 08:07:20,488 sagemaker.remote_function INFO     Downloading alembic-1.13.2-py3-none-any.whl (232 kB)\u001b[0m\n",
      "\u001b[34m2024-07-16 08:07:20,492 sagemaker.remote_function INFO        ━━━━━━━━━━━━━━━━━━━━━━━━━━━━━━━━━━━━━━━ 233.0/233.0 kB 365.2 MB/s eta 0:00:00\u001b[0m\n",
      "\u001b[34m2024-07-16 08:07:20,496 sagemaker.remote_function INFO     Downloading graphene-3.3-py2.py3-none-any.whl (128 kB)\u001b[0m\n",
      "\u001b[34m2024-07-16 08:07:20,499 sagemaker.remote_function INFO        ━━━━━━━━━━━━━━━━━━━━━━━━━━━━━━━━━━━━━━━ 128.2/128.2 kB 316.3 MB/s eta 0:00:00\u001b[0m\n",
      "\u001b[34m2024-07-16 08:07:20,503 sagemaker.remote_function INFO     Downloading gunicorn-22.0.0-py3-none-any.whl (84 kB)\u001b[0m\n",
      "\u001b[34m2024-07-16 08:07:20,505 sagemaker.remote_function INFO        ━━━━━━━━━━━━━━━━━━━━━━━━━━━━━━━━━━━━━━━━ 84.4/84.4 kB 262.7 MB/s eta 0:00:00\u001b[0m\n",
      "\u001b[34m2024-07-16 08:07:20,508 sagemaker.remote_function INFO     Downloading opentelemetry_api-1.25.0-py3-none-any.whl (59 kB)\u001b[0m\n",
      "\u001b[34m2024-07-16 08:07:20,511 sagemaker.remote_function INFO        ━━━━━━━━━━━━━━━━━━━━━━━━━━━━━━━━━━━━━━━━ 59.9/59.9 kB 302.2 MB/s eta 0:00:00\u001b[0m\n",
      "\u001b[34m2024-07-16 08:07:20,514 sagemaker.remote_function INFO     Downloading opentelemetry_sdk-1.25.0-py3-none-any.whl (107 kB)\u001b[0m\n",
      "\u001b[34m2024-07-16 08:07:20,517 sagemaker.remote_function INFO        ━━━━━━━━━━━━━━━━━━━━━━━━━━━━━━━━━━━━━━━ 107.0/107.0 kB 306.5 MB/s eta 0:00:00\u001b[0m\n",
      "\u001b[34m2024-07-16 08:07:20,521 sagemaker.remote_function INFO     Downloading opentelemetry_semantic_conventions-0.46b0-py3-none-any.whl (130 kB)\u001b[0m\n",
      "\u001b[34m2024-07-16 08:07:20,523 sagemaker.remote_function INFO        ━━━━━━━━━━━━━━━━━━━━━━━━━━━━━━━━━━━━━━━ 130.5/130.5 kB 348.8 MB/s eta 0:00:00\u001b[0m\n",
      "\u001b[34m2024-07-16 08:07:20,527 sagemaker.remote_function INFO     Downloading querystring_parser-1.2.4-py2.py3-none-any.whl (7.9 kB)\u001b[0m\n",
      "\u001b[34m2024-07-16 08:07:20,530 sagemaker.remote_function INFO     Downloading aniso8601-9.0.1-py2.py3-none-any.whl (52 kB)\u001b[0m\n",
      "\u001b[34m2024-07-16 08:07:20,533 sagemaker.remote_function INFO        ━━━━━━━━━━━━━━━━━━━━━━━━━━━━━━━━━━━━━━━━ 52.8/52.8 kB 278.1 MB/s eta 0:00:00\u001b[0m\n",
      "\u001b[34m2024-07-16 08:07:20,536 sagemaker.remote_function INFO     Downloading Deprecated-1.2.14-py2.py3-none-any.whl (9.6 kB)\u001b[0m\n",
      "\u001b[34m2024-07-16 08:07:20,540 sagemaker.remote_function INFO     Downloading graphql_core-3.2.3-py3-none-any.whl (202 kB)\u001b[0m\n",
      "\u001b[34m2024-07-16 08:07:20,543 sagemaker.remote_function INFO        ━━━━━━━━━━━━━━━━━━━━━━━━━━━━━━━━━━━━━━━ 202.9/202.9 kB 356.5 MB/s eta 0:00:00\u001b[0m\n",
      "\u001b[34m2024-07-16 08:07:20,546 sagemaker.remote_function INFO     Downloading graphql_relay-3.2.0-py3-none-any.whl (16 kB)\u001b[0m\n",
      "\u001b[34m2024-07-16 08:07:20,549 sagemaker.remote_function INFO     Downloading Mako-1.3.5-py3-none-any.whl (78 kB)\u001b[0m\n",
      "\u001b[34m2024-07-16 08:07:20,551 sagemaker.remote_function INFO        ━━━━━━━━━━━━━━━━━━━━━━━━━━━━━━━━━━━━━━━━ 78.6/78.6 kB 311.0 MB/s eta 0:00:00\u001b[0m\n",
      "\u001b[34m2024-07-16 08:07:24,002 sagemaker.remote_function INFO     Installing collected packages: aniso8601, querystring-parser, Mako, gunicorn, graphql-core, deprecated, opentelemetry-api, graphql-relay, alembic, opentelemetry-semantic-conventions, graphene, opentelemetry-sdk, mlflow, sagemaker-mlflow\u001b[0m\n",
      "\u001b[34m2024-07-16 08:07:26,078 sagemaker.remote_function INFO     Successfully installed Mako-1.3.5 alembic-1.13.2 aniso8601-9.0.1 deprecated-1.2.14 graphene-3.3 graphql-core-3.2.3 graphql-relay-3.2.0 gunicorn-22.0.0 mlflow-2.13.2 opentelemetry-api-1.25.0 opentelemetry-sdk-1.25.0 opentelemetry-semantic-conventions-0.46b0 querystring-parser-1.2.4 sagemaker-mlflow-0.1.0\u001b[0m\n",
      "\u001b[34m2024-07-16 08:07:26,350 sagemaker.remote_function WARNING  WARNING: The directory '/opt/ml/sagemaker/warmpoolcache/sm_remotefunction_user_dependencies_cache/pip' or its parent directory is not owned or is not writable by the current user. The cache has been disabled. Check the permissions and owner of that directory. If executing pip with sudo, you should use sudo's -H flag.\u001b[0m\n",
      "\u001b[34m2024-07-16 08:07:26,350 sagemaker.remote_function INFO     Command /opt/conda/bin/python -m pip install -r /home/sagemaker-user/sagemaker_remote_function_workspace/requirements.txt -U ran successfully\u001b[0m\n",
      "\u001b[34msagemaker.config INFO - Not applying SDK defaults from location: /etc/xdg/sagemaker/config.yaml\u001b[0m\n",
      "\u001b[34msagemaker.config INFO - Not applying SDK defaults from location: /home/sagemaker-user/.config/sagemaker/config.yaml\u001b[0m\n",
      "\u001b[34m2024-07-16 08:07:27,756 sagemaker.remote_function WARNING  Inconsistent sagemaker versions found: sagemaker python sdk version found in the container is '2.224.1' which does not match the '2.226.0' on the local client. Please make sure that the sagemaker version used in the training container is the same as the local sagemaker version in case of unexpected behaviors.\u001b[0m\n",
      "\u001b[34mINFO: Changing workspace to sagemaker_remote_function_workspace.\u001b[0m\n",
      "\u001b[34mINFO: No conda env provided. Invoking remote function\u001b[0m\n",
      "\u001b[34msagemaker.config INFO - Not applying SDK defaults from location: /etc/xdg/sagemaker/config.yaml\u001b[0m\n",
      "\u001b[34msagemaker.config INFO - Not applying SDK defaults from location: /home/sagemaker-user/.config/sagemaker/config.yaml\u001b[0m\n",
      "\u001b[34m2024-07-16 08:07:29,340 sagemaker.remote_function INFO     Deserializing function code from s3://sagemaker-us-east-1-402709838713/from-idea-to-prod/xgboost/preprocess-2024-07-16-08-04-12-757/function\u001b[0m\n",
      "\u001b[34m2024-07-16 08:07:29,906 sagemaker.remote_function INFO     Deserializing function arguments from s3://sagemaker-us-east-1-402709838713/from-idea-to-prod/xgboost/preprocess-2024-07-16-08-04-12-757/arguments\u001b[0m\n",
      "\u001b[34m2024-07-16 08:07:30,201 sagemaker.remote_function INFO     Resolving pipeline variables\u001b[0m\n",
      "\u001b[34m2024-07-16 08:07:30,201 sagemaker.remote_function INFO     Invoking the function\u001b[0m\n",
      "\u001b[34m2024/07/16 08:07:31 INFO mlflow.tracking.fluent: Autologging successfully enabled for sklearn.\u001b[0m\n",
      "\u001b[34m2024/07/16 08:07:31 INFO mlflow.tracking.fluent: Experiment with name 'preprocess-16-08-07-31' does not exist. Creating a new experiment.\u001b[0m\n",
      "\u001b[34m/opt/conda/lib/python3.10/site-packages/numpy/core/fromnumeric.py:59: FutureWarning: 'DataFrame.swapaxes' is deprecated and will be removed in a future version. Please use 'DataFrame.transpose' instead.\n",
      "  return bound(*args, **kwds)\u001b[0m\n",
      "\u001b[34m2024-07-16 08:07:32,034 sagemaker.remote_function INFO     Serializing the function return and uploading to s3://sagemaker-us-east-1-402709838713/from-idea-to-prod/xgboost/preprocess-2024-07-16-08-04-12-757/results\u001b[0m\n",
      "\u001b[34mData split > train:(28831, 65) | validation:(8238, 65) | test:(4119, 65)\u001b[0m\n",
      "\u001b[34m## Processing complete. Exiting.\u001b[0m\n",
      "Training seconds: 170\n",
      "Billable seconds: 170\n"
     ]
    }
   ],
   "source": [
    "train_data, validation_data, test_data, baseline_data = future.result()"
   ]
  },
  {
   "cell_type": "code",
   "execution_count": 29,
   "id": "f472ed5c-2e54-4002-9fd5-818497ec8d5b",
   "metadata": {
    "tags": []
   },
   "outputs": [
    {
     "data": {
      "text/html": [
       "<div>\n",
       "<style scoped>\n",
       "    .dataframe tbody tr th:only-of-type {\n",
       "        vertical-align: middle;\n",
       "    }\n",
       "\n",
       "    .dataframe tbody tr th {\n",
       "        vertical-align: top;\n",
       "    }\n",
       "\n",
       "    .dataframe thead th {\n",
       "        text-align: right;\n",
       "    }\n",
       "</style>\n",
       "<table border=\"1\" class=\"dataframe\">\n",
       "  <thead>\n",
       "    <tr style=\"text-align: right;\">\n",
       "      <th></th>\n",
       "      <th>y</th>\n",
       "      <th>campaign</th>\n",
       "      <th>pdays</th>\n",
       "      <th>previous</th>\n",
       "      <th>no_previous_contact</th>\n",
       "      <th>not_working</th>\n",
       "      <th>age_18-29</th>\n",
       "      <th>age_30-39</th>\n",
       "      <th>age_40-49</th>\n",
       "      <th>age_50-59</th>\n",
       "      <th>...</th>\n",
       "      <th>month_oct</th>\n",
       "      <th>month_sep</th>\n",
       "      <th>day_of_week_fri</th>\n",
       "      <th>day_of_week_mon</th>\n",
       "      <th>day_of_week_thu</th>\n",
       "      <th>day_of_week_tue</th>\n",
       "      <th>day_of_week_wed</th>\n",
       "      <th>poutcome_failure</th>\n",
       "      <th>poutcome_nonexistent</th>\n",
       "      <th>poutcome_success</th>\n",
       "    </tr>\n",
       "  </thead>\n",
       "  <tbody>\n",
       "    <tr>\n",
       "      <th>40949</th>\n",
       "      <td>0</td>\n",
       "      <td>0.036364</td>\n",
       "      <td>1.0</td>\n",
       "      <td>0.0</td>\n",
       "      <td>1</td>\n",
       "      <td>0</td>\n",
       "      <td>0</td>\n",
       "      <td>0</td>\n",
       "      <td>0</td>\n",
       "      <td>1</td>\n",
       "      <td>...</td>\n",
       "      <td>1</td>\n",
       "      <td>0</td>\n",
       "      <td>0</td>\n",
       "      <td>0</td>\n",
       "      <td>1</td>\n",
       "      <td>0</td>\n",
       "      <td>0</td>\n",
       "      <td>0</td>\n",
       "      <td>1</td>\n",
       "      <td>0</td>\n",
       "    </tr>\n",
       "    <tr>\n",
       "      <th>9332</th>\n",
       "      <td>0</td>\n",
       "      <td>0.018182</td>\n",
       "      <td>1.0</td>\n",
       "      <td>0.0</td>\n",
       "      <td>1</td>\n",
       "      <td>0</td>\n",
       "      <td>0</td>\n",
       "      <td>0</td>\n",
       "      <td>0</td>\n",
       "      <td>1</td>\n",
       "      <td>...</td>\n",
       "      <td>0</td>\n",
       "      <td>0</td>\n",
       "      <td>1</td>\n",
       "      <td>0</td>\n",
       "      <td>0</td>\n",
       "      <td>0</td>\n",
       "      <td>0</td>\n",
       "      <td>0</td>\n",
       "      <td>1</td>\n",
       "      <td>0</td>\n",
       "    </tr>\n",
       "    <tr>\n",
       "      <th>32286</th>\n",
       "      <td>0</td>\n",
       "      <td>0.018182</td>\n",
       "      <td>1.0</td>\n",
       "      <td>0.0</td>\n",
       "      <td>1</td>\n",
       "      <td>0</td>\n",
       "      <td>0</td>\n",
       "      <td>1</td>\n",
       "      <td>0</td>\n",
       "      <td>0</td>\n",
       "      <td>...</td>\n",
       "      <td>0</td>\n",
       "      <td>0</td>\n",
       "      <td>1</td>\n",
       "      <td>0</td>\n",
       "      <td>0</td>\n",
       "      <td>0</td>\n",
       "      <td>0</td>\n",
       "      <td>0</td>\n",
       "      <td>1</td>\n",
       "      <td>0</td>\n",
       "    </tr>\n",
       "    <tr>\n",
       "      <th>3925</th>\n",
       "      <td>0</td>\n",
       "      <td>0.036364</td>\n",
       "      <td>1.0</td>\n",
       "      <td>0.0</td>\n",
       "      <td>1</td>\n",
       "      <td>0</td>\n",
       "      <td>0</td>\n",
       "      <td>0</td>\n",
       "      <td>1</td>\n",
       "      <td>0</td>\n",
       "      <td>...</td>\n",
       "      <td>0</td>\n",
       "      <td>0</td>\n",
       "      <td>0</td>\n",
       "      <td>1</td>\n",
       "      <td>0</td>\n",
       "      <td>0</td>\n",
       "      <td>0</td>\n",
       "      <td>0</td>\n",
       "      <td>1</td>\n",
       "      <td>0</td>\n",
       "    </tr>\n",
       "    <tr>\n",
       "      <th>9406</th>\n",
       "      <td>0</td>\n",
       "      <td>0.018182</td>\n",
       "      <td>1.0</td>\n",
       "      <td>0.0</td>\n",
       "      <td>1</td>\n",
       "      <td>0</td>\n",
       "      <td>0</td>\n",
       "      <td>1</td>\n",
       "      <td>0</td>\n",
       "      <td>0</td>\n",
       "      <td>...</td>\n",
       "      <td>0</td>\n",
       "      <td>0</td>\n",
       "      <td>1</td>\n",
       "      <td>0</td>\n",
       "      <td>0</td>\n",
       "      <td>0</td>\n",
       "      <td>0</td>\n",
       "      <td>0</td>\n",
       "      <td>1</td>\n",
       "      <td>0</td>\n",
       "    </tr>\n",
       "  </tbody>\n",
       "</table>\n",
       "<p>5 rows × 65 columns</p>\n",
       "</div>"
      ],
      "text/plain": [
       "       y  campaign  pdays  previous  no_previous_contact  not_working  \\\n",
       "40949  0  0.036364    1.0       0.0                    1            0   \n",
       "9332   0  0.018182    1.0       0.0                    1            0   \n",
       "32286  0  0.018182    1.0       0.0                    1            0   \n",
       "3925   0  0.036364    1.0       0.0                    1            0   \n",
       "9406   0  0.018182    1.0       0.0                    1            0   \n",
       "\n",
       "       age_18-29  age_30-39  age_40-49  age_50-59  ...  month_oct  month_sep  \\\n",
       "40949          0          0          0          1  ...          1          0   \n",
       "9332           0          0          0          1  ...          0          0   \n",
       "32286          0          1          0          0  ...          0          0   \n",
       "3925           0          0          1          0  ...          0          0   \n",
       "9406           0          1          0          0  ...          0          0   \n",
       "\n",
       "       day_of_week_fri  day_of_week_mon  day_of_week_thu  day_of_week_tue  \\\n",
       "40949                0                0                1                0   \n",
       "9332                 1                0                0                0   \n",
       "32286                1                0                0                0   \n",
       "3925                 0                1                0                0   \n",
       "9406                 1                0                0                0   \n",
       "\n",
       "       day_of_week_wed  poutcome_failure  poutcome_nonexistent  \\\n",
       "40949                0                 0                     1   \n",
       "9332                 0                 0                     1   \n",
       "32286                0                 0                     1   \n",
       "3925                 0                 0                     1   \n",
       "9406                 0                 0                     1   \n",
       "\n",
       "       poutcome_success  \n",
       "40949                 0  \n",
       "9332                  0  \n",
       "32286                 0  \n",
       "3925                  0  \n",
       "9406                  0  \n",
       "\n",
       "[5 rows x 65 columns]"
      ]
     },
     "execution_count": 29,
     "metadata": {},
     "output_type": "execute_result"
    }
   ],
   "source": [
    "# see the processed data\n",
    "train_data.head()"
   ]
  },
  {
   "cell_type": "markdown",
   "id": "704ef0e0",
   "metadata": {},
   "source": [
    "### Step 3: Run code with @remote decorator\n",
    "Now you can apply `@remote` to the function once the local and remote test runs successfully. \n",
    "You can also set default settings for remote functions via a [configuration file](https://docs.aws.amazon.com/sagemaker/latest/dg/train-remote-decorator-config.html). The configuration file is used when invoking a function with `@remote` decorator or `RemoteExecutor` API."
   ]
  },
  {
   "cell_type": "code",
   "execution_count": 30,
   "id": "31015e89-8d1a-4ceb-9a16-6e72aa874fc6",
   "metadata": {
    "tags": []
   },
   "outputs": [
    {
     "name": "stderr",
     "output_type": "stream",
     "text": [
      "INFO:sagemaker.telemetry.telemetry_logging:SageMaker Python SDK will collect telemetry to help us better understand our user's needs, diagnose issues, and deliver additional features.\n",
      "To opt out of telemetry, please disable via TelemetryOptOut parameter in SDK defaults config. For more information, refer to https://sagemaker.readthedocs.io/en/stable/overview.html#configuring-and-using-defaults-with-the-sagemaker-python-sdk.\n"
     ]
    }
   ],
   "source": [
    "@remote(dependencies=f\"{dependencies_dir}requirements.txt\",\n",
    "        s3_root_uri=s3_root_uri, instance_type=processing_instance_type)\n",
    "def preprocess(\n",
    "    df_data,\n",
    "    tracking_server_arn=mlflow_arn,\n",
    "    experiment_name=None,\n",
    "    run_id=None,\n",
    "):\n",
    "    import mlflow\n",
    "    from time import gmtime, strftime\n",
    "\n",
    "    try:\n",
    "        # Set the Tracking Server URI using the ARN of the Tracking Server you created\n",
    "        mlflow.set_tracking_uri(tracking_server_arn)\n",
    "        \n",
    "        # Enable autologging in MLflow\n",
    "        mlflow.autolog()\n",
    "    \n",
    "        suffix = strftime('%d-%H-%M-%S', gmtime())\n",
    "        mlflow.set_experiment(experiment_name=experiment_name if experiment_name else f\"preprocess-{suffix}\")\n",
    "        run = mlflow.start_run(run_id=run_id) if run_id else mlflow.start_run(run_name=f\"remote-processing-{suffix}\", nested=True)\n",
    "    \n",
    "        target_col = \"y\"\n",
    "        \n",
    "        # Indicator variable to capture when pdays takes a value of 999\n",
    "        df_data[\"no_previous_contact\"] = np.where(df_data[\"pdays\"] == 999, 1, 0)\n",
    "    \n",
    "        # Indicator for individuals not actively employed\n",
    "        df_data[\"not_working\"] = np.where(\n",
    "            np.in1d(df_data[\"job\"], [\"student\", \"retired\", \"unemployed\"]), 1, 0\n",
    "        )\n",
    "    \n",
    "        # remove unnecessary data\n",
    "        df_model_data = df_data.drop(\n",
    "            [\"duration\", \"emp.var.rate\", \"cons.price.idx\", \"cons.conf.idx\", \"euribor3m\", \"nr.employed\"],\n",
    "            axis=1,\n",
    "        )\n",
    "    \n",
    "        bins = [18, 30, 40, 50, 60, 70, 90]\n",
    "        labels = ['18-29', '30-39', '40-49', '50-59', '60-69', '70-plus']\n",
    "    \n",
    "        df_model_data['age_range'] = pd.cut(df_model_data.age, bins, labels=labels, include_lowest=True)\n",
    "        df_model_data = pd.concat([df_model_data, pd.get_dummies(df_model_data['age_range'], prefix='age', dtype=int)], axis=1)\n",
    "        df_model_data.drop('age', axis=1, inplace=True)\n",
    "        df_model_data.drop('age_range', axis=1, inplace=True)\n",
    "    \n",
    "        scaled_features = ['pdays', 'previous', 'campaign']\n",
    "        df_model_data[scaled_features] = MinMaxScaler().fit_transform(df_model_data[scaled_features])\n",
    "    \n",
    "        df_model_data = pd.get_dummies(df_model_data, dtype=int)  # Convert categorical variables to sets of indicators\n",
    "    \n",
    "        # Replace \"y_no\" and \"y_yes\" with a single label column, and bring it to the front:\n",
    "        df_model_data = pd.concat(\n",
    "            [\n",
    "                df_model_data[\"y_yes\"].rename(target_col),\n",
    "                df_model_data.drop([\"y_no\", \"y_yes\"], axis=1),\n",
    "            ],\n",
    "            axis=1,\n",
    "        )\n",
    "    \n",
    "        # Shuffle and splitting dataset\n",
    "        train_data, validation_data, test_data = np.split(\n",
    "            df_model_data.sample(frac=1, random_state=1729),\n",
    "            [int(0.7 * len(df_model_data)), int(0.9 * len(df_model_data))],\n",
    "        )\n",
    "    \n",
    "        print(f\"Data split > train:{train_data.shape} | validation:{validation_data.shape} | test:{test_data.shape}\")\n",
    "\n",
    "        mlflow.log_params(\n",
    "            {\n",
    "                \"train\": train_data.shape,\n",
    "                \"validate\": validation_data.shape,\n",
    "                \"test\": test_data.shape\n",
    "            }\n",
    "        )\n",
    "        \n",
    "        baseline_data = df_model_data.drop([target_col], axis=1)\n",
    "        \n",
    "        print(\"## Processing complete. Exiting.\")\n",
    "        \n",
    "        return train_data, validation_data, test_data, baseline_data\n",
    "\n",
    "    except Exception as e:\n",
    "        print(f\"Exception in processing script: {e}\")\n",
    "        raise e\n",
    "    finally:\n",
    "        mlflow.end_run()\n",
    "    return train_data, validation_data, test_data, baseline_data"
   ]
  },
  {
   "cell_type": "code",
   "execution_count": 31,
   "id": "6f15213c-d877-4033-b5bf-7ab63624b308",
   "metadata": {
    "tags": []
   },
   "outputs": [
    {
     "name": "stderr",
     "output_type": "stream",
     "text": [
      "2024-07-16 08:12:53,279 sagemaker.remote_function INFO     Serializing function code to s3://sagemaker-us-east-1-402709838713/from-idea-to-prod/xgboost/preprocess-2024-07-16-08-12-53-279/function\n",
      "2024-07-16 08:12:53,346 sagemaker.remote_function INFO     Serializing function arguments to s3://sagemaker-us-east-1-402709838713/from-idea-to-prod/xgboost/preprocess-2024-07-16-08-12-53-279/arguments\n",
      "2024-07-16 08:12:53,854 sagemaker.remote_function INFO     Copied dependencies file at './processing/requirements/requirements.txt' to '/tmp/tmpomc00vbs/temp_workspace/sagemaker_remote_function_workspace/requirements.txt'\n",
      "2024-07-16 08:12:53,856 sagemaker.remote_function INFO     Successfully created workdir archive at '/tmp/tmpomc00vbs/workspace.zip'\n",
      "2024-07-16 08:12:53,950 sagemaker.remote_function INFO     Successfully uploaded workdir to 's3://sagemaker-us-east-1-402709838713/from-idea-to-prod/xgboost/preprocess-2024-07-16-08-12-53-279/sm_rf_user_ws/workspace.zip'\n",
      "2024-07-16 08:12:53,953 sagemaker.remote_function INFO     Creating job: preprocess-2024-07-16-08-12-53-279\n"
     ]
    },
    {
     "name": "stdout",
     "output_type": "stream",
     "text": [
      "2024-07-16 08:12:54 Starting - Starting the training job...\n",
      "2024-07-16 08:13:08 Starting - Preparing the instances for training...\n",
      "2024-07-16 08:13:36 Downloading - Downloading input data...\n",
      "2024-07-16 08:14:01 Downloading - Downloading the training image.........\n",
      "2024-07-16 08:15:48 Training - Training image download completed. Training in progress..\u001b[34mINFO: CONDA_PKGS_DIRS is set to '/opt/ml/sagemaker/warmpoolcache/sm_remotefunction_user_dependencies_cache/conda/pkgs'\u001b[0m\n",
      "\u001b[34mINFO: PIP_CACHE_DIR is set to '/opt/ml/sagemaker/warmpoolcache/sm_remotefunction_user_dependencies_cache/pip'\u001b[0m\n",
      "\u001b[34mINFO: Bootstraping runtime environment.\u001b[0m\n",
      "\u001b[34m2024-07-16 08:15:52,613 sagemaker.remote_function INFO     The job is running on non-root user: sagemaker-user. Adding write permissions to the following job output directories: ['/opt/ml/output', '/opt/ml/model', '/tmp'].\u001b[0m\n",
      "\u001b[34m2024-07-16 08:15:52,614 sagemaker.remote_function INFO     Executing 'sudo chmod -R 777 /opt/ml/output /opt/ml/model /tmp'.\u001b[0m\n",
      "\u001b[34m2024-07-16 08:15:52,669 sagemaker.remote_function INFO     Successfully unpacked workspace archive at '/home/sagemaker-user'.\u001b[0m\n",
      "\u001b[34m2024-07-16 08:15:52,669 sagemaker.remote_function INFO     '/home/sagemaker-user/sagemaker_remote_function_workspace/pre_exec.sh' does not exist. Assuming no pre-execution commands to run\u001b[0m\n",
      "\u001b[34m2024-07-16 08:15:52,669 sagemaker.remote_function INFO     Running command: '/opt/conda/bin/python -m pip install -r /home/sagemaker-user/sagemaker_remote_function_workspace/requirements.txt -U' in the dir: '/home/sagemaker-user' \u001b[0m\n",
      "\u001b[34m2024-07-16 08:15:53,196 sagemaker.remote_function INFO     Collecting mlflow==2.13.2 (from -r /home/sagemaker-user/sagemaker_remote_function_workspace/requirements.txt (line 1))\u001b[0m\n",
      "\u001b[34m2024-07-16 08:15:53,216 sagemaker.remote_function INFO       Downloading mlflow-2.13.2-py3-none-any.whl.metadata (29 kB)\u001b[0m\n",
      "\u001b[34m2024-07-16 08:15:53,227 sagemaker.remote_function INFO     Collecting sagemaker-mlflow==0.1.0 (from -r /home/sagemaker-user/sagemaker_remote_function_workspace/requirements.txt (line 2))\u001b[0m\n",
      "\u001b[34m2024-07-16 08:15:53,231 sagemaker.remote_function INFO       Downloading sagemaker_mlflow-0.1.0-py3-none-any.whl.metadata (3.3 kB)\u001b[0m\n",
      "\u001b[34m2024-07-16 08:15:53,289 sagemaker.remote_function INFO     Requirement already satisfied: Flask<4 in /opt/conda/lib/python3.10/site-packages (from mlflow==2.13.2->-r /home/sagemaker-user/sagemaker_remote_function_workspace/requirements.txt (line 1)) (3.0.3)\u001b[0m\n",
      "\u001b[34m2024-07-16 08:15:53,333 sagemaker.remote_function INFO     Collecting alembic!=1.10.0,<2 (from mlflow==2.13.2->-r /home/sagemaker-user/sagemaker_remote_function_workspace/requirements.txt (line 1))\u001b[0m\n",
      "\u001b[34m2024-07-16 08:15:53,336 sagemaker.remote_function INFO       Downloading alembic-1.13.2-py3-none-any.whl.metadata (7.4 kB)\u001b[0m\n",
      "\u001b[34m2024-07-16 08:15:53,337 sagemaker.remote_function INFO     Requirement already satisfied: cachetools<6,>=5.0.0 in /opt/conda/lib/python3.10/site-packages (from mlflow==2.13.2->-r /home/sagemaker-user/sagemaker_remote_function_workspace/requirements.txt (line 1)) (5.3.3)\u001b[0m\n",
      "\u001b[34m2024-07-16 08:15:53,338 sagemaker.remote_function INFO     Requirement already satisfied: click<9,>=7.0 in /opt/conda/lib/python3.10/site-packages (from mlflow==2.13.2->-r /home/sagemaker-user/sagemaker_remote_function_workspace/requirements.txt (line 1)) (8.1.7)\u001b[0m\n",
      "\u001b[34m2024-07-16 08:15:53,339 sagemaker.remote_function INFO     Requirement already satisfied: cloudpickle<4 in /opt/conda/lib/python3.10/site-packages (from mlflow==2.13.2->-r /home/sagemaker-user/sagemaker_remote_function_workspace/requirements.txt (line 1)) (2.2.1)\u001b[0m\n",
      "\u001b[34m2024-07-16 08:15:53,340 sagemaker.remote_function INFO     Requirement already satisfied: docker<8,>=4.0.0 in /opt/conda/lib/python3.10/site-packages (from mlflow==2.13.2->-r /home/sagemaker-user/sagemaker_remote_function_workspace/requirements.txt (line 1)) (7.1.0)\u001b[0m\n",
      "\u001b[34m2024-07-16 08:15:53,341 sagemaker.remote_function INFO     Requirement already satisfied: entrypoints<1 in /opt/conda/lib/python3.10/site-packages (from mlflow==2.13.2->-r /home/sagemaker-user/sagemaker_remote_function_workspace/requirements.txt (line 1)) (0.4)\u001b[0m\n",
      "\u001b[34m2024-07-16 08:15:53,342 sagemaker.remote_function INFO     Requirement already satisfied: gitpython<4,>=3.1.9 in /opt/conda/lib/python3.10/site-packages (from mlflow==2.13.2->-r /home/sagemaker-user/sagemaker_remote_function_workspace/requirements.txt (line 1)) (3.1.43)\u001b[0m\n",
      "\u001b[34m2024-07-16 08:15:53,362 sagemaker.remote_function INFO     Collecting graphene<4 (from mlflow==2.13.2->-r /home/sagemaker-user/sagemaker_remote_function_workspace/requirements.txt (line 1))\u001b[0m\n",
      "\u001b[34m2024-07-16 08:15:53,366 sagemaker.remote_function INFO       Downloading graphene-3.3-py2.py3-none-any.whl.metadata (7.7 kB)\u001b[0m\n",
      "\u001b[34m2024-07-16 08:15:53,367 sagemaker.remote_function INFO     Requirement already satisfied: importlib-metadata!=4.7.0,<8,>=3.7.0 in /opt/conda/lib/python3.10/site-packages (from mlflow==2.13.2->-r /home/sagemaker-user/sagemaker_remote_function_workspace/requirements.txt (line 1)) (6.10.0)\u001b[0m\n",
      "\u001b[34m2024-07-16 08:15:53,368 sagemaker.remote_function INFO     Requirement already satisfied: markdown<4,>=3.3 in /opt/conda/lib/python3.10/site-packages (from mlflow==2.13.2->-r /home/sagemaker-user/sagemaker_remote_function_workspace/requirements.txt (line 1)) (3.6)\u001b[0m\n",
      "\u001b[34m2024-07-16 08:15:53,369 sagemaker.remote_function INFO     Requirement already satisfied: matplotlib<4 in /opt/conda/lib/python3.10/site-packages (from mlflow==2.13.2->-r /home/sagemaker-user/sagemaker_remote_function_workspace/requirements.txt (line 1)) (3.8.4)\u001b[0m\n",
      "\u001b[34m2024-07-16 08:15:53,370 sagemaker.remote_function INFO     Requirement already satisfied: numpy<2 in /opt/conda/lib/python3.10/site-packages (from mlflow==2.13.2->-r /home/sagemaker-user/sagemaker_remote_function_workspace/requirements.txt (line 1)) (1.26.4)\u001b[0m\n",
      "\u001b[34m2024-07-16 08:15:53,395 sagemaker.remote_function INFO     Collecting opentelemetry-api<3,>=1.0.0 (from mlflow==2.13.2->-r /home/sagemaker-user/sagemaker_remote_function_workspace/requirements.txt (line 1))\u001b[0m\n",
      "\u001b[34m2024-07-16 08:15:53,398 sagemaker.remote_function INFO       Downloading opentelemetry_api-1.25.0-py3-none-any.whl.metadata (1.4 kB)\u001b[0m\n",
      "\u001b[34m2024-07-16 08:15:53,424 sagemaker.remote_function INFO     Collecting opentelemetry-sdk<3,>=1.0.0 (from mlflow==2.13.2->-r /home/sagemaker-user/sagemaker_remote_function_workspace/requirements.txt (line 1))\u001b[0m\n",
      "\u001b[34m2024-07-16 08:15:53,427 sagemaker.remote_function INFO       Downloading opentelemetry_sdk-1.25.0-py3-none-any.whl.metadata (1.4 kB)\u001b[0m\n",
      "\u001b[34m2024-07-16 08:15:53,428 sagemaker.remote_function INFO     Requirement already satisfied: packaging<25 in /opt/conda/lib/python3.10/site-packages (from mlflow==2.13.2->-r /home/sagemaker-user/sagemaker_remote_function_workspace/requirements.txt (line 1)) (23.2)\u001b[0m\n",
      "\u001b[34m2024-07-16 08:15:53,429 sagemaker.remote_function INFO     Requirement already satisfied: pandas<3 in /opt/conda/lib/python3.10/site-packages (from mlflow==2.13.2->-r /home/sagemaker-user/sagemaker_remote_function_workspace/requirements.txt (line 1)) (2.1.4)\u001b[0m\n",
      "\u001b[34m2024-07-16 08:15:53,430 sagemaker.remote_function INFO     Requirement already satisfied: protobuf<5,>=3.12.0 in /opt/conda/lib/python3.10/site-packages (from mlflow==2.13.2->-r /home/sagemaker-user/sagemaker_remote_function_workspace/requirements.txt (line 1)) (4.24.4)\u001b[0m\n",
      "\u001b[34m2024-07-16 08:15:53,431 sagemaker.remote_function INFO     Requirement already satisfied: pyarrow<16,>=4.0.0 in /opt/conda/lib/python3.10/site-packages (from mlflow==2.13.2->-r /home/sagemaker-user/sagemaker_remote_function_workspace/requirements.txt (line 1)) (15.0.0)\u001b[0m\n",
      "\u001b[34m2024-07-16 08:15:53,431 sagemaker.remote_function INFO     Requirement already satisfied: pytz<2025 in /opt/conda/lib/python3.10/site-packages (from mlflow==2.13.2->-r /home/sagemaker-user/sagemaker_remote_function_workspace/requirements.txt (line 1)) (2023.3)\u001b[0m\n",
      "\u001b[34m2024-07-16 08:15:53,432 sagemaker.remote_function INFO     Requirement already satisfied: pyyaml<7,>=5.1 in /opt/conda/lib/python3.10/site-packages (from mlflow==2.13.2->-r /home/sagemaker-user/sagemaker_remote_function_workspace/requirements.txt (line 1)) (6.0.1)\u001b[0m\n",
      "\u001b[34m2024-07-16 08:15:53,441 sagemaker.remote_function INFO     Collecting querystring-parser<2 (from mlflow==2.13.2->-r /home/sagemaker-user/sagemaker_remote_function_workspace/requirements.txt (line 1))\u001b[0m\n",
      "\u001b[34m2024-07-16 08:15:53,444 sagemaker.remote_function INFO       Downloading querystring_parser-1.2.4-py2.py3-none-any.whl.metadata (559 bytes)\u001b[0m\n",
      "\u001b[34m2024-07-16 08:15:53,445 sagemaker.remote_function INFO     Requirement already satisfied: requests<3,>=2.17.3 in /opt/conda/lib/python3.10/site-packages (from mlflow==2.13.2->-r /home/sagemaker-user/sagemaker_remote_function_workspace/requirements.txt (line 1)) (2.32.3)\u001b[0m\n",
      "\u001b[34m2024-07-16 08:15:53,446 sagemaker.remote_function INFO     Requirement already satisfied: scikit-learn<2 in /opt/conda/lib/python3.10/site-packages (from mlflow==2.13.2->-r /home/sagemaker-user/sagemaker_remote_function_workspace/requirements.txt (line 1)) (1.4.2)\u001b[0m\n",
      "\u001b[34m2024-07-16 08:15:53,446 sagemaker.remote_function INFO     Requirement already satisfied: scipy<2 in /opt/conda/lib/python3.10/site-packages (from mlflow==2.13.2->-r /home/sagemaker-user/sagemaker_remote_function_workspace/requirements.txt (line 1)) (1.11.4)\u001b[0m\n",
      "\u001b[34m2024-07-16 08:15:53,447 sagemaker.remote_function INFO     Requirement already satisfied: sqlalchemy<3,>=1.4.0 in /opt/conda/lib/python3.10/site-packages (from mlflow==2.13.2->-r /home/sagemaker-user/sagemaker_remote_function_workspace/requirements.txt (line 1)) (2.0.30)\u001b[0m\n",
      "\u001b[34m2024-07-16 08:15:53,449 sagemaker.remote_function INFO     Requirement already satisfied: sqlparse<1,>=0.4.0 in /opt/conda/lib/python3.10/site-packages (from mlflow==2.13.2->-r /home/sagemaker-user/sagemaker_remote_function_workspace/requirements.txt (line 1)) (0.5.0)\u001b[0m\n",
      "\u001b[34m2024-07-16 08:15:53,450 sagemaker.remote_function INFO     Requirement already satisfied: Jinja2<4,>=2.11 in /opt/conda/lib/python3.10/site-packages (from mlflow==2.13.2->-r /home/sagemaker-user/sagemaker_remote_function_workspace/requirements.txt (line 1)) (3.1.4)\u001b[0m\n",
      "\u001b[34m2024-07-16 08:15:53,476 sagemaker.remote_function INFO     Collecting gunicorn<23 (from mlflow==2.13.2->-r /home/sagemaker-user/sagemaker_remote_function_workspace/requirements.txt (line 1))\u001b[0m\n",
      "\u001b[34m2024-07-16 08:15:53,479 sagemaker.remote_function INFO       Downloading gunicorn-22.0.0-py3-none-any.whl.metadata (4.4 kB)\u001b[0m\n",
      "\u001b[34m2024-07-16 08:15:53,491 sagemaker.remote_function INFO     Requirement already satisfied: boto3>=1.34 in /opt/conda/lib/python3.10/site-packages (from sagemaker-mlflow==0.1.0->-r /home/sagemaker-user/sagemaker_remote_function_workspace/requirements.txt (line 2)) (1.34.131)\u001b[0m\n",
      "\u001b[34m2024-07-16 08:15:53,524 sagemaker.remote_function INFO     Collecting Mako (from alembic!=1.10.0,<2->mlflow==2.13.2->-r /home/sagemaker-user/sagemaker_remote_function_workspace/requirements.txt (line 1))\u001b[0m\n",
      "\u001b[34m2024-07-16 08:15:53,528 sagemaker.remote_function INFO       Downloading Mako-1.3.5-py3-none-any.whl.metadata (2.9 kB)\u001b[0m\n",
      "\u001b[34m2024-07-16 08:15:53,529 sagemaker.remote_function INFO     Requirement already satisfied: typing-extensions>=4 in /opt/conda/lib/python3.10/site-packages (from alembic!=1.10.0,<2->mlflow==2.13.2->-r /home/sagemaker-user/sagemaker_remote_function_workspace/requirements.txt (line 1)) (4.12.2)\u001b[0m\n",
      "\u001b[34m2024-07-16 08:15:53,535 sagemaker.remote_function INFO     Requirement already satisfied: botocore<1.35.0,>=1.34.131 in /opt/conda/lib/python3.10/site-packages (from boto3>=1.34->sagemaker-mlflow==0.1.0->-r /home/sagemaker-user/sagemaker_remote_function_workspace/requirements.txt (line 2)) (1.34.131)\u001b[0m\n",
      "\u001b[34m2024-07-16 08:15:53,535 sagemaker.remote_function INFO     Requirement already satisfied: jmespath<2.0.0,>=0.7.1 in /opt/conda/lib/python3.10/site-packages (from boto3>=1.34->sagemaker-mlflow==0.1.0->-r /home/sagemaker-user/sagemaker_remote_function_workspace/requirements.txt (line 2)) (1.0.1)\u001b[0m\n",
      "\u001b[34m2024-07-16 08:15:53,536 sagemaker.remote_function INFO     Requirement already satisfied: s3transfer<0.11.0,>=0.10.0 in /opt/conda/lib/python3.10/site-packages (from boto3>=1.34->sagemaker-mlflow==0.1.0->-r /home/sagemaker-user/sagemaker_remote_function_workspace/requirements.txt (line 2)) (0.10.2)\u001b[0m\n",
      "\u001b[34m2024-07-16 08:15:53,553 sagemaker.remote_function INFO     Requirement already satisfied: urllib3>=1.26.0 in /opt/conda/lib/python3.10/site-packages (from docker<8,>=4.0.0->mlflow==2.13.2->-r /home/sagemaker-user/sagemaker_remote_function_workspace/requirements.txt (line 1)) (1.26.19)\u001b[0m\n",
      "\u001b[34m2024-07-16 08:15:53,561 sagemaker.remote_function INFO     Requirement already satisfied: Werkzeug>=3.0.0 in /opt/conda/lib/python3.10/site-packages (from Flask<4->mlflow==2.13.2->-r /home/sagemaker-user/sagemaker_remote_function_workspace/requirements.txt (line 1)) (3.0.3)\u001b[0m\n",
      "\u001b[34m2024-07-16 08:15:53,563 sagemaker.remote_function INFO     Requirement already satisfied: itsdangerous>=2.1.2 in /opt/conda/lib/python3.10/site-packages (from Flask<4->mlflow==2.13.2->-r /home/sagemaker-user/sagemaker_remote_function_workspace/requirements.txt (line 1)) (2.2.0)\u001b[0m\n",
      "\u001b[34m2024-07-16 08:15:53,564 sagemaker.remote_function INFO     Requirement already satisfied: blinker>=1.6.2 in /opt/conda/lib/python3.10/site-packages (from Flask<4->mlflow==2.13.2->-r /home/sagemaker-user/sagemaker_remote_function_workspace/requirements.txt (line 1)) (1.8.2)\u001b[0m\n",
      "\u001b[34m2024-07-16 08:15:53,583 sagemaker.remote_function INFO     Requirement already satisfied: gitdb<5,>=4.0.1 in /opt/conda/lib/python3.10/site-packages (from gitpython<4,>=3.1.9->mlflow==2.13.2->-r /home/sagemaker-user/sagemaker_remote_function_workspace/requirements.txt (line 1)) (4.0.11)\u001b[0m\n",
      "\u001b[34m2024-07-16 08:15:53,634 sagemaker.remote_function INFO     Collecting graphql-core<3.3,>=3.1 (from graphene<4->mlflow==2.13.2->-r /home/sagemaker-user/sagemaker_remote_function_workspace/requirements.txt (line 1))\u001b[0m\n",
      "\u001b[34m2024-07-16 08:15:53,637 sagemaker.remote_function INFO       Downloading graphql_core-3.2.3-py3-none-any.whl.metadata (10 kB)\u001b[0m\n",
      "\u001b[34m2024-07-16 08:15:53,652 sagemaker.remote_function INFO     Collecting graphql-relay<3.3,>=3.1 (from graphene<4->mlflow==2.13.2->-r /home/sagemaker-user/sagemaker_remote_function_workspace/requirements.txt (line 1))\u001b[0m\n",
      "\u001b[34m2024-07-16 08:15:53,656 sagemaker.remote_function INFO       Downloading graphql_relay-3.2.0-py3-none-any.whl.metadata (12 kB)\u001b[0m\n",
      "\u001b[34m2024-07-16 08:15:53,670 sagemaker.remote_function INFO     Collecting aniso8601<10,>=8 (from graphene<4->mlflow==2.13.2->-r /home/sagemaker-user/sagemaker_remote_function_workspace/requirements.txt (line 1))\u001b[0m\n",
      "\u001b[34m2024-07-16 08:15:53,673 sagemaker.remote_function INFO       Downloading aniso8601-9.0.1-py2.py3-none-any.whl.metadata (23 kB)\u001b[0m\n",
      "\u001b[34m2024-07-16 08:15:53,724 sagemaker.remote_function INFO     Requirement already satisfied: zipp>=0.5 in /opt/conda/lib/python3.10/site-packages (from importlib-metadata!=4.7.0,<8,>=3.7.0->mlflow==2.13.2->-r /home/sagemaker-user/sagemaker_remote_function_workspace/requirements.txt (line 1)) (3.19.2)\u001b[0m\n",
      "\u001b[34m2024-07-16 08:15:53,728 sagemaker.remote_function INFO     Requirement already satisfied: MarkupSafe>=2.0 in /opt/conda/lib/python3.10/site-packages (from Jinja2<4,>=2.11->mlflow==2.13.2->-r /home/sagemaker-user/sagemaker_remote_function_workspace/requirements.txt (line 1)) (2.1.5)\u001b[0m\n",
      "\u001b[34m2024-07-16 08:15:53,747 sagemaker.remote_function INFO     Requirement already satisfied: contourpy>=1.0.1 in /opt/conda/lib/python3.10/site-packages (from matplotlib<4->mlflow==2.13.2->-r /home/sagemaker-user/sagemaker_remote_function_workspace/requirements.txt (line 1)) (1.2.1)\u001b[0m\n",
      "\u001b[34m2024-07-16 08:15:53,748 sagemaker.remote_function INFO     Requirement already satisfied: cycler>=0.10 in /opt/conda/lib/python3.10/site-packages (from matplotlib<4->mlflow==2.13.2->-r /home/sagemaker-user/sagemaker_remote_function_workspace/requirements.txt (line 1)) (0.12.1)\u001b[0m\n",
      "\u001b[34m2024-07-16 08:15:53,749 sagemaker.remote_function INFO     Requirement already satisfied: fonttools>=4.22.0 in /opt/conda/lib/python3.10/site-packages (from matplotlib<4->mlflow==2.13.2->-r /home/sagemaker-user/sagemaker_remote_function_workspace/requirements.txt (line 1)) (4.53.0)\u001b[0m\n",
      "\u001b[34m2024-07-16 08:15:53,749 sagemaker.remote_function INFO     Requirement already satisfied: kiwisolver>=1.3.1 in /opt/conda/lib/python3.10/site-packages (from matplotlib<4->mlflow==2.13.2->-r /home/sagemaker-user/sagemaker_remote_function_workspace/requirements.txt (line 1)) (1.4.5)\u001b[0m\n",
      "\u001b[34m2024-07-16 08:15:53,750 sagemaker.remote_function INFO     Requirement already satisfied: pillow>=8 in /opt/conda/lib/python3.10/site-packages (from matplotlib<4->mlflow==2.13.2->-r /home/sagemaker-user/sagemaker_remote_function_workspace/requirements.txt (line 1)) (10.3.0)\u001b[0m\n",
      "\u001b[34m2024-07-16 08:15:53,751 sagemaker.remote_function INFO     Requirement already satisfied: pyparsing>=2.3.1 in /opt/conda/lib/python3.10/site-packages (from matplotlib<4->mlflow==2.13.2->-r /home/sagemaker-user/sagemaker_remote_function_workspace/requirements.txt (line 1)) (3.1.2)\u001b[0m\n",
      "\u001b[34m2024-07-16 08:15:53,752 sagemaker.remote_function INFO     Requirement already satisfied: python-dateutil>=2.7 in /opt/conda/lib/python3.10/site-packages (from matplotlib<4->mlflow==2.13.2->-r /home/sagemaker-user/sagemaker_remote_function_workspace/requirements.txt (line 1)) (2.9.0)\u001b[0m\n",
      "\u001b[34m2024-07-16 08:15:53,776 sagemaker.remote_function INFO     Collecting deprecated>=1.2.6 (from opentelemetry-api<3,>=1.0.0->mlflow==2.13.2->-r /home/sagemaker-user/sagemaker_remote_function_workspace/requirements.txt (line 1))\u001b[0m\n",
      "\u001b[34m2024-07-16 08:15:53,780 sagemaker.remote_function INFO       Downloading Deprecated-1.2.14-py2.py3-none-any.whl.metadata (5.4 kB)\u001b[0m\n",
      "\u001b[34m2024-07-16 08:15:53,809 sagemaker.remote_function INFO     Collecting opentelemetry-semantic-conventions==0.46b0 (from opentelemetry-sdk<3,>=1.0.0->mlflow==2.13.2->-r /home/sagemaker-user/sagemaker_remote_function_workspace/requirements.txt (line 1))\u001b[0m\n",
      "\u001b[34m2024-07-16 08:15:53,812 sagemaker.remote_function INFO       Downloading opentelemetry_semantic_conventions-0.46b0-py3-none-any.whl.metadata (2.3 kB)\u001b[0m\n",
      "\u001b[34m2024-07-16 08:15:53,901 sagemaker.remote_function INFO     Requirement already satisfied: tzdata>=2022.1 in /opt/conda/lib/python3.10/site-packages (from pandas<3->mlflow==2.13.2->-r /home/sagemaker-user/sagemaker_remote_function_workspace/requirements.txt (line 1)) (2024.1)\u001b[0m\n",
      "\u001b[34m2024-07-16 08:15:53,918 sagemaker.remote_function INFO     Requirement already satisfied: six in /opt/conda/lib/python3.10/site-packages (from querystring-parser<2->mlflow==2.13.2->-r /home/sagemaker-user/sagemaker_remote_function_workspace/requirements.txt (line 1)) (1.16.0)\u001b[0m\n",
      "\u001b[34m2024-07-16 08:15:53,926 sagemaker.remote_function INFO     Requirement already satisfied: charset-normalizer<4,>=2 in /opt/conda/lib/python3.10/site-packages (from requests<3,>=2.17.3->mlflow==2.13.2->-r /home/sagemaker-user/sagemaker_remote_function_workspace/requirements.txt (line 1)) (3.3.2)\u001b[0m\n",
      "\u001b[34m2024-07-16 08:15:53,927 sagemaker.remote_function INFO     Requirement already satisfied: idna<4,>=2.5 in /opt/conda/lib/python3.10/site-packages (from requests<3,>=2.17.3->mlflow==2.13.2->-r /home/sagemaker-user/sagemaker_remote_function_workspace/requirements.txt (line 1)) (3.7)\u001b[0m\n",
      "\u001b[34m2024-07-16 08:15:53,928 sagemaker.remote_function INFO     Requirement already satisfied: certifi>=2017.4.17 in /opt/conda/lib/python3.10/site-packages (from requests<3,>=2.17.3->mlflow==2.13.2->-r /home/sagemaker-user/sagemaker_remote_function_workspace/requirements.txt (line 1)) (2024.6.2)\u001b[0m\n",
      "\u001b[34m2024-07-16 08:15:53,963 sagemaker.remote_function INFO     Requirement already satisfied: joblib>=1.2.0 in /opt/conda/lib/python3.10/site-packages (from scikit-learn<2->mlflow==2.13.2->-r /home/sagemaker-user/sagemaker_remote_function_workspace/requirements.txt (line 1)) (1.4.2)\u001b[0m\n",
      "\u001b[34m2024-07-16 08:15:53,964 sagemaker.remote_function INFO     Requirement already satisfied: threadpoolctl>=2.0.0 in /opt/conda/lib/python3.10/site-packages (from scikit-learn<2->mlflow==2.13.2->-r /home/sagemaker-user/sagemaker_remote_function_workspace/requirements.txt (line 1)) (3.5.0)\u001b[0m\n",
      "\u001b[34m2024-07-16 08:15:54,029 sagemaker.remote_function INFO     Requirement already satisfied: greenlet!=0.4.17 in /opt/conda/lib/python3.10/site-packages (from sqlalchemy<3,>=1.4.0->mlflow==2.13.2->-r /home/sagemaker-user/sagemaker_remote_function_workspace/requirements.txt (line 1)) (3.0.3)\u001b[0m\n",
      "\u001b[34m2024-07-16 08:15:54,096 sagemaker.remote_function INFO     Requirement already satisfied: wrapt<2,>=1.10 in /opt/conda/lib/python3.10/site-packages (from deprecated>=1.2.6->opentelemetry-api<3,>=1.0.0->mlflow==2.13.2->-r /home/sagemaker-user/sagemaker_remote_function_workspace/requirements.txt (line 1)) (1.14.1)\u001b[0m\n",
      "\u001b[34m2024-07-16 08:15:54,141 sagemaker.remote_function INFO     Requirement already satisfied: smmap<6,>=3.0.1 in /opt/conda/lib/python3.10/site-packages (from gitdb<5,>=4.0.1->gitpython<4,>=3.1.9->mlflow==2.13.2->-r /home/sagemaker-user/sagemaker_remote_function_workspace/requirements.txt (line 1)) (5.0.0)\u001b[0m\n",
      "\u001b[34m2024-07-16 08:15:54,337 sagemaker.remote_function INFO     Downloading mlflow-2.13.2-py3-none-any.whl (25.0 MB)\u001b[0m\n",
      "\u001b[34m2024-07-16 08:15:54,426 sagemaker.remote_function INFO        ━━━━━━━━━━━━━━━━━━━━━━━━━━━━━━━━━━━━━━━━ 25.0/25.0 MB 295.1 MB/s eta 0:00:00\u001b[0m\n",
      "\u001b[34m2024-07-16 08:15:54,430 sagemaker.remote_function INFO     Downloading sagemaker_mlflow-0.1.0-py3-none-any.whl (24 kB)\u001b[0m\n",
      "\u001b[34m2024-07-16 08:15:54,433 sagemaker.remote_function INFO     Downloading alembic-1.13.2-py3-none-any.whl (232 kB)\u001b[0m\n",
      "\u001b[34m2024-07-16 08:15:54,436 sagemaker.remote_function INFO        ━━━━━━━━━━━━━━━━━━━━━━━━━━━━━━━━━━━━━━━ 233.0/233.0 kB 331.5 MB/s eta 0:00:00\u001b[0m\n",
      "\u001b[34m2024-07-16 08:15:54,439 sagemaker.remote_function INFO     Downloading graphene-3.3-py2.py3-none-any.whl (128 kB)\u001b[0m\n",
      "\u001b[34m2024-07-16 08:15:54,442 sagemaker.remote_function INFO        ━━━━━━━━━━━━━━━━━━━━━━━━━━━━━━━━━━━━━━━ 128.2/128.2 kB 313.8 MB/s eta 0:00:00\u001b[0m\n",
      "\u001b[34m2024-07-16 08:15:54,445 sagemaker.remote_function INFO     Downloading gunicorn-22.0.0-py3-none-any.whl (84 kB)\u001b[0m\n",
      "\u001b[34m2024-07-16 08:15:54,447 sagemaker.remote_function INFO        ━━━━━━━━━━━━━━━━━━━━━━━━━━━━━━━━━━━━━━━━ 84.4/84.4 kB 281.8 MB/s eta 0:00:00\u001b[0m\n",
      "\u001b[34m2024-07-16 08:15:54,450 sagemaker.remote_function INFO     Downloading opentelemetry_api-1.25.0-py3-none-any.whl (59 kB)\u001b[0m\n",
      "\u001b[34m2024-07-16 08:15:54,452 sagemaker.remote_function INFO        ━━━━━━━━━━━━━━━━━━━━━━━━━━━━━━━━━━━━━━━━ 59.9/59.9 kB 290.2 MB/s eta 0:00:00\u001b[0m\n",
      "\u001b[34m2024-07-16 08:15:54,459 sagemaker.remote_function INFO     Downloading opentelemetry_sdk-1.25.0-py3-none-any.whl (107 kB)\u001b[0m\n",
      "\u001b[34m2024-07-16 08:15:54,462 sagemaker.remote_function INFO        ━━━━━━━━━━━━━━━━━━━━━━━━━━━━━━━━━━━━━━━ 107.0/107.0 kB 293.4 MB/s eta 0:00:00\u001b[0m\n",
      "\u001b[34m2024-07-16 08:15:54,465 sagemaker.remote_function INFO     Downloading opentelemetry_semantic_conventions-0.46b0-py3-none-any.whl (130 kB)\u001b[0m\n",
      "\u001b[34m2024-07-16 08:15:54,468 sagemaker.remote_function INFO        ━━━━━━━━━━━━━━━━━━━━━━━━━━━━━━━━━━━━━━━ 130.5/130.5 kB 271.6 MB/s eta 0:00:00\u001b[0m\n",
      "\u001b[34m2024-07-16 08:15:54,471 sagemaker.remote_function INFO     Downloading querystring_parser-1.2.4-py2.py3-none-any.whl (7.9 kB)\u001b[0m\n",
      "\u001b[34m2024-07-16 08:15:54,473 sagemaker.remote_function INFO     Downloading aniso8601-9.0.1-py2.py3-none-any.whl (52 kB)\u001b[0m\n",
      "\u001b[34m2024-07-16 08:15:54,476 sagemaker.remote_function INFO        ━━━━━━━━━━━━━━━━━━━━━━━━━━━━━━━━━━━━━━━━ 52.8/52.8 kB 243.8 MB/s eta 0:00:00\u001b[0m\n",
      "\u001b[34m2024-07-16 08:15:54,479 sagemaker.remote_function INFO     Downloading Deprecated-1.2.14-py2.py3-none-any.whl (9.6 kB)\u001b[0m\n",
      "\u001b[34m2024-07-16 08:15:54,482 sagemaker.remote_function INFO     Downloading graphql_core-3.2.3-py3-none-any.whl (202 kB)\u001b[0m\n",
      "\u001b[34m2024-07-16 08:15:54,485 sagemaker.remote_function INFO        ━━━━━━━━━━━━━━━━━━━━━━━━━━━━━━━━━━━━━━━ 202.9/202.9 kB 342.1 MB/s eta 0:00:00\u001b[0m\n",
      "\u001b[34m2024-07-16 08:15:54,488 sagemaker.remote_function INFO     Downloading graphql_relay-3.2.0-py3-none-any.whl (16 kB)\u001b[0m\n",
      "\u001b[34m2024-07-16 08:15:54,491 sagemaker.remote_function INFO     Downloading Mako-1.3.5-py3-none-any.whl (78 kB)\u001b[0m\n",
      "\u001b[34m2024-07-16 08:15:54,493 sagemaker.remote_function INFO        ━━━━━━━━━━━━━━━━━━━━━━━━━━━━━━━━━━━━━━━━ 78.6/78.6 kB 324.5 MB/s eta 0:00:00\u001b[0m\n",
      "\u001b[34m2024-07-16 08:15:57,939 sagemaker.remote_function INFO     Installing collected packages: aniso8601, querystring-parser, Mako, gunicorn, graphql-core, deprecated, opentelemetry-api, graphql-relay, alembic, opentelemetry-semantic-conventions, graphene, opentelemetry-sdk, mlflow, sagemaker-mlflow\u001b[0m\n",
      "\u001b[34m2024-07-16 08:16:00,067 sagemaker.remote_function INFO     Successfully installed Mako-1.3.5 alembic-1.13.2 aniso8601-9.0.1 deprecated-1.2.14 graphene-3.3 graphql-core-3.2.3 graphql-relay-3.2.0 gunicorn-22.0.0 mlflow-2.13.2 opentelemetry-api-1.25.0 opentelemetry-sdk-1.25.0 opentelemetry-semantic-conventions-0.46b0 querystring-parser-1.2.4 sagemaker-mlflow-0.1.0\u001b[0m\n",
      "\u001b[34m2024-07-16 08:16:00,329 sagemaker.remote_function WARNING  WARNING: The directory '/opt/ml/sagemaker/warmpoolcache/sm_remotefunction_user_dependencies_cache/pip' or its parent directory is not owned or is not writable by the current user. The cache has been disabled. Check the permissions and owner of that directory. If executing pip with sudo, you should use sudo's -H flag.\u001b[0m\n",
      "\u001b[34m2024-07-16 08:16:00,329 sagemaker.remote_function INFO     Command /opt/conda/bin/python -m pip install -r /home/sagemaker-user/sagemaker_remote_function_workspace/requirements.txt -U ran successfully\u001b[0m\n",
      "\u001b[34msagemaker.config INFO - Not applying SDK defaults from location: /etc/xdg/sagemaker/config.yaml\u001b[0m\n",
      "\u001b[34msagemaker.config INFO - Not applying SDK defaults from location: /home/sagemaker-user/.config/sagemaker/config.yaml\u001b[0m\n",
      "\u001b[34m2024-07-16 08:16:01,768 sagemaker.remote_function WARNING  Inconsistent sagemaker versions found: sagemaker python sdk version found in the container is '2.224.1' which does not match the '2.226.0' on the local client. Please make sure that the sagemaker version used in the training container is the same as the local sagemaker version in case of unexpected behaviors.\u001b[0m\n",
      "\u001b[34mINFO: Changing workspace to sagemaker_remote_function_workspace.\u001b[0m\n",
      "\u001b[34mINFO: No conda env provided. Invoking remote function\u001b[0m\n",
      "\u001b[34msagemaker.config INFO - Not applying SDK defaults from location: /etc/xdg/sagemaker/config.yaml\u001b[0m\n",
      "\u001b[34msagemaker.config INFO - Not applying SDK defaults from location: /home/sagemaker-user/.config/sagemaker/config.yaml\u001b[0m\n",
      "\u001b[34m2024-07-16 08:16:04,006 sagemaker.remote_function INFO     Deserializing function code from s3://sagemaker-us-east-1-402709838713/from-idea-to-prod/xgboost/preprocess-2024-07-16-08-12-53-279/function\u001b[0m\n",
      "\u001b[34m2024-07-16 08:16:04,520 sagemaker.remote_function INFO     Deserializing function arguments from s3://sagemaker-us-east-1-402709838713/from-idea-to-prod/xgboost/preprocess-2024-07-16-08-12-53-279/arguments\u001b[0m\n",
      "\u001b[34m2024-07-16 08:16:05,104 sagemaker.remote_function INFO     Resolving pipeline variables\u001b[0m\n",
      "\u001b[34m2024-07-16 08:16:05,104 sagemaker.remote_function INFO     Invoking the function\u001b[0m\n",
      "\u001b[34m2024/07/16 08:16:05 INFO mlflow.tracking.fluent: Autologging successfully enabled for sklearn.\u001b[0m\n",
      "\u001b[34m2024/07/16 08:16:06 INFO mlflow.tracking.fluent: Experiment with name 'preprocess-16-08-16-05' does not exist. Creating a new experiment.\u001b[0m\n",
      "\u001b[34m/opt/conda/lib/python3.10/site-packages/numpy/core/fromnumeric.py:59: FutureWarning: 'DataFrame.swapaxes' is deprecated and will be removed in a future version. Please use 'DataFrame.transpose' instead.\n",
      "  return bound(*args, **kwds)\u001b[0m\n",
      "\u001b[34m2024-07-16 08:16:06,784 sagemaker.remote_function INFO     Serializing the function return and uploading to s3://sagemaker-us-east-1-402709838713/from-idea-to-prod/xgboost/preprocess-2024-07-16-08-12-53-279/results\u001b[0m\n",
      "\u001b[34mData split > train:(28831, 65) | validation:(8238, 65) | test:(4119, 65)\u001b[0m\n",
      "\u001b[34m## Processing complete. Exiting.\u001b[0m\n",
      "\n",
      "2024-07-16 08:16:13 Uploading - Uploading generated training model\n",
      "2024-07-16 08:16:26 Completed - Training job completed\n",
      "Training seconds: 170\n",
      "Billable seconds: 170\n"
     ]
    }
   ],
   "source": [
    "# This call creates and run a SageMaker job\n",
    "# This will also create a new experiment in MLflow\n",
    "train_data, validation_data, test_data, baseline_data = preprocess(df_data)"
   ]
  },
  {
   "cell_type": "code",
   "execution_count": 32,
   "id": "efb425ed-1006-45a9-a28d-217b4ee8a77d",
   "metadata": {
    "editable": true,
    "slideshow": {
     "slide_type": ""
    },
    "tags": [
     "parameters"
    ]
   },
   "outputs": [
    {
     "data": {
      "text/html": [
       "<div>\n",
       "<style scoped>\n",
       "    .dataframe tbody tr th:only-of-type {\n",
       "        vertical-align: middle;\n",
       "    }\n",
       "\n",
       "    .dataframe tbody tr th {\n",
       "        vertical-align: top;\n",
       "    }\n",
       "\n",
       "    .dataframe thead th {\n",
       "        text-align: right;\n",
       "    }\n",
       "</style>\n",
       "<table border=\"1\" class=\"dataframe\">\n",
       "  <thead>\n",
       "    <tr style=\"text-align: right;\">\n",
       "      <th></th>\n",
       "      <th>y</th>\n",
       "      <th>campaign</th>\n",
       "      <th>pdays</th>\n",
       "      <th>previous</th>\n",
       "      <th>no_previous_contact</th>\n",
       "      <th>not_working</th>\n",
       "      <th>age_18-29</th>\n",
       "      <th>age_30-39</th>\n",
       "      <th>age_40-49</th>\n",
       "      <th>age_50-59</th>\n",
       "      <th>...</th>\n",
       "      <th>month_oct</th>\n",
       "      <th>month_sep</th>\n",
       "      <th>day_of_week_fri</th>\n",
       "      <th>day_of_week_mon</th>\n",
       "      <th>day_of_week_thu</th>\n",
       "      <th>day_of_week_tue</th>\n",
       "      <th>day_of_week_wed</th>\n",
       "      <th>poutcome_failure</th>\n",
       "      <th>poutcome_nonexistent</th>\n",
       "      <th>poutcome_success</th>\n",
       "    </tr>\n",
       "  </thead>\n",
       "  <tbody>\n",
       "    <tr>\n",
       "      <th>40949</th>\n",
       "      <td>0</td>\n",
       "      <td>0.036364</td>\n",
       "      <td>1.0</td>\n",
       "      <td>0.0</td>\n",
       "      <td>1</td>\n",
       "      <td>0</td>\n",
       "      <td>0</td>\n",
       "      <td>0</td>\n",
       "      <td>0</td>\n",
       "      <td>1</td>\n",
       "      <td>...</td>\n",
       "      <td>1</td>\n",
       "      <td>0</td>\n",
       "      <td>0</td>\n",
       "      <td>0</td>\n",
       "      <td>1</td>\n",
       "      <td>0</td>\n",
       "      <td>0</td>\n",
       "      <td>0</td>\n",
       "      <td>1</td>\n",
       "      <td>0</td>\n",
       "    </tr>\n",
       "    <tr>\n",
       "      <th>9332</th>\n",
       "      <td>0</td>\n",
       "      <td>0.018182</td>\n",
       "      <td>1.0</td>\n",
       "      <td>0.0</td>\n",
       "      <td>1</td>\n",
       "      <td>0</td>\n",
       "      <td>0</td>\n",
       "      <td>0</td>\n",
       "      <td>0</td>\n",
       "      <td>1</td>\n",
       "      <td>...</td>\n",
       "      <td>0</td>\n",
       "      <td>0</td>\n",
       "      <td>1</td>\n",
       "      <td>0</td>\n",
       "      <td>0</td>\n",
       "      <td>0</td>\n",
       "      <td>0</td>\n",
       "      <td>0</td>\n",
       "      <td>1</td>\n",
       "      <td>0</td>\n",
       "    </tr>\n",
       "    <tr>\n",
       "      <th>32286</th>\n",
       "      <td>0</td>\n",
       "      <td>0.018182</td>\n",
       "      <td>1.0</td>\n",
       "      <td>0.0</td>\n",
       "      <td>1</td>\n",
       "      <td>0</td>\n",
       "      <td>0</td>\n",
       "      <td>1</td>\n",
       "      <td>0</td>\n",
       "      <td>0</td>\n",
       "      <td>...</td>\n",
       "      <td>0</td>\n",
       "      <td>0</td>\n",
       "      <td>1</td>\n",
       "      <td>0</td>\n",
       "      <td>0</td>\n",
       "      <td>0</td>\n",
       "      <td>0</td>\n",
       "      <td>0</td>\n",
       "      <td>1</td>\n",
       "      <td>0</td>\n",
       "    </tr>\n",
       "    <tr>\n",
       "      <th>3925</th>\n",
       "      <td>0</td>\n",
       "      <td>0.036364</td>\n",
       "      <td>1.0</td>\n",
       "      <td>0.0</td>\n",
       "      <td>1</td>\n",
       "      <td>0</td>\n",
       "      <td>0</td>\n",
       "      <td>0</td>\n",
       "      <td>1</td>\n",
       "      <td>0</td>\n",
       "      <td>...</td>\n",
       "      <td>0</td>\n",
       "      <td>0</td>\n",
       "      <td>0</td>\n",
       "      <td>1</td>\n",
       "      <td>0</td>\n",
       "      <td>0</td>\n",
       "      <td>0</td>\n",
       "      <td>0</td>\n",
       "      <td>1</td>\n",
       "      <td>0</td>\n",
       "    </tr>\n",
       "    <tr>\n",
       "      <th>9406</th>\n",
       "      <td>0</td>\n",
       "      <td>0.018182</td>\n",
       "      <td>1.0</td>\n",
       "      <td>0.0</td>\n",
       "      <td>1</td>\n",
       "      <td>0</td>\n",
       "      <td>0</td>\n",
       "      <td>1</td>\n",
       "      <td>0</td>\n",
       "      <td>0</td>\n",
       "      <td>...</td>\n",
       "      <td>0</td>\n",
       "      <td>0</td>\n",
       "      <td>1</td>\n",
       "      <td>0</td>\n",
       "      <td>0</td>\n",
       "      <td>0</td>\n",
       "      <td>0</td>\n",
       "      <td>0</td>\n",
       "      <td>1</td>\n",
       "      <td>0</td>\n",
       "    </tr>\n",
       "  </tbody>\n",
       "</table>\n",
       "<p>5 rows × 65 columns</p>\n",
       "</div>"
      ],
      "text/plain": [
       "       y  campaign  pdays  previous  no_previous_contact  not_working  \\\n",
       "40949  0  0.036364    1.0       0.0                    1            0   \n",
       "9332   0  0.018182    1.0       0.0                    1            0   \n",
       "32286  0  0.018182    1.0       0.0                    1            0   \n",
       "3925   0  0.036364    1.0       0.0                    1            0   \n",
       "9406   0  0.018182    1.0       0.0                    1            0   \n",
       "\n",
       "       age_18-29  age_30-39  age_40-49  age_50-59  ...  month_oct  month_sep  \\\n",
       "40949          0          0          0          1  ...          1          0   \n",
       "9332           0          0          0          1  ...          0          0   \n",
       "32286          0          1          0          0  ...          0          0   \n",
       "3925           0          0          1          0  ...          0          0   \n",
       "9406           0          1          0          0  ...          0          0   \n",
       "\n",
       "       day_of_week_fri  day_of_week_mon  day_of_week_thu  day_of_week_tue  \\\n",
       "40949                0                0                1                0   \n",
       "9332                 1                0                0                0   \n",
       "32286                1                0                0                0   \n",
       "3925                 0                1                0                0   \n",
       "9406                 1                0                0                0   \n",
       "\n",
       "       day_of_week_wed  poutcome_failure  poutcome_nonexistent  \\\n",
       "40949                0                 0                     1   \n",
       "9332                 0                 0                     1   \n",
       "32286                0                 0                     1   \n",
       "3925                 0                 0                     1   \n",
       "9406                 0                 0                     1   \n",
       "\n",
       "       poutcome_success  \n",
       "40949                 0  \n",
       "9332                  0  \n",
       "32286                 0  \n",
       "3925                  0  \n",
       "9406                  0  \n",
       "\n",
       "[5 rows x 65 columns]"
      ]
     },
     "execution_count": 32,
     "metadata": {},
     "output_type": "execute_result"
    }
   ],
   "source": [
    "# see the processed data\n",
    "train_data.head()"
   ]
  },
  {
   "cell_type": "markdown",
   "id": "8ff0d818-61da-43f2-aa66-4f8ee0af24db",
   "metadata": {},
   "source": [
    "For more examples of remote functions see SageMaker [example notebooks](https://docs.aws.amazon.com/sagemaker/latest/dg/train-remote-decorator-examples.html)."
   ]
  },
  {
   "cell_type": "markdown",
   "id": "1d25d03a-e988-4a73-acdd-874718d03a74",
   "metadata": {},
   "source": [
    "## Model training with SageMaker training job\n",
    "Follow the same approach and now run the model training as a [SageMaker training job](https://sagemaker.readthedocs.io/en/stable/overview.html#using-estimators) with a built-in algorithm container."
   ]
  },
  {
   "cell_type": "code",
   "execution_count": 33,
   "id": "dfbeec6d-419d-4d88-a3f6-194440dd0124",
   "metadata": {
    "tags": []
   },
   "outputs": [
    {
     "name": "stderr",
     "output_type": "stream",
     "text": [
      "INFO:sagemaker.image_uris:Ignoring unnecessary instance type: None.\n"
     ]
    },
    {
     "name": "stdout",
     "output_type": "stream",
     "text": [
      "683313688378.dkr.ecr.us-east-1.amazonaws.com/sagemaker-xgboost:1.5-1\n"
     ]
    }
   ],
   "source": [
    "# get training container uri\n",
    "training_image = sagemaker.image_uris.retrieve(\"xgboost\", region=region, version=\"1.5-1\")\n",
    "\n",
    "print(training_image)"
   ]
  },
  {
   "cell_type": "markdown",
   "id": "64034359-5102-4678-af52-aba7f21a4212",
   "metadata": {},
   "source": [
    "Define the data input channels for the training job. Set _train_ and _validation_ channels via the SageMaker SDK [`TrainingInput`](https://sagemaker.readthedocs.io/en/stable/api/utility/inputs.html#sagemaker.inputs.TrainingInput) class:"
   ]
  },
  {
   "cell_type": "code",
   "execution_count": 34,
   "id": "82550351-737f-4a55-9578-0ae58ca1c156",
   "metadata": {
    "tags": []
   },
   "outputs": [],
   "source": [
    "s3_input_train = sagemaker.inputs.TrainingInput(train_s3_url, content_type='csv')\n",
    "s3_input_validation = sagemaker.inputs.TrainingInput(validation_s3_url, content_type='csv')"
   ]
  },
  {
   "cell_type": "code",
   "execution_count": 35,
   "id": "86c9a303-928a-4053-9002-cd618cffa6dd",
   "metadata": {
    "tags": []
   },
   "outputs": [
    {
     "name": "stdout",
     "output_type": "stream",
     "text": [
      "Stored 'output_s3_url' (str)\n"
     ]
    }
   ],
   "source": [
    "train_instance_count = 1\n",
    "train_instance_type = \"ml.m5.xlarge\"\n",
    "\n",
    "# Define where the training job stores the model artifact\n",
    "output_s3_url = f\"s3://{bucket_name}/{bucket_prefix}/output\"\n",
    "\n",
    "%store output_s3_url"
   ]
  },
  {
   "cell_type": "markdown",
   "id": "54807668-6a2d-44ac-9007-d945ec19198a",
   "metadata": {},
   "source": [
    "Instantiate an [Estimator](https://sagemaker.readthedocs.io/en/stable/api/training/estimators.html) object and set algorithm's hyperparameters. Refer to [XGBoost hyperparameters](https://docs.aws.amazon.com/sagemaker/latest/dg/xgboost_hyperparameters.html) for more information."
   ]
  },
  {
   "cell_type": "code",
   "execution_count": 36,
   "id": "db1a89cc-c841-4e5d-99b3-d4fe5b6435cc",
   "metadata": {
    "tags": []
   },
   "outputs": [],
   "source": [
    "# Instantiate an XGBoost estimator object\n",
    "estimator = sagemaker.estimator.Estimator(\n",
    "    image_uri=training_image,  # XGBoost algorithm container\n",
    "    instance_type=train_instance_type,  # type of training instance\n",
    "    instance_count=train_instance_count,  # number of instances to be used\n",
    "    role=sm_role,  # IAM execution role to be used\n",
    "    max_run=20 * 60,  # Maximum allowed active runtime\n",
    "    # use_spot_instances=True,  # Use spot instances to reduce cost\n",
    "    # max_wait=30 * 60,  # Maximum clock time (including spot delays)\n",
    "    output_path=output_s3_url, # S3 location for saving the training result\n",
    "    sagemaker_session=session, # Session object which manages interactions with SageMaker API and AWS services\n",
    "    base_job_name=\"from-idea-to-prod-training\", # Prefix for training job name\n",
    ")\n",
    "\n",
    "# define its hyperparameters\n",
    "estimator.set_hyperparameters(\n",
    "    num_round=50, # the number of rounds to run the training\n",
    "    max_depth=3, # maximum depth of a tree\n",
    "    eta=0.5, # step size shrinkage used in updates to prevent overfitting\n",
    "    alpha=2.5, # L1 regularization term on weights\n",
    "    objective=\"binary:logistic\",\n",
    "    eval_metric=\"auc\", # evaluation metrics for validation data\n",
    "    subsample=0.8, # subsample ratio of the training instance\n",
    "    colsample_bytree=0.8, # subsample ratio of columns when constructing each tree\n",
    "    min_child_weight=3, # minimum sum of instance weight (hessian) needed in a child\n",
    "    early_stopping_rounds=10, # the model trains until the validation score stops improving\n",
    "    verbosity=1, # verbosity of printing messages\n",
    ")"
   ]
  },
  {
   "cell_type": "code",
   "execution_count": 37,
   "id": "c8ee39d9-70d8-4f97-b749-9cc5b09e70c8",
   "metadata": {},
   "outputs": [
    {
     "data": {
      "text/plain": [
       "{'num_round': 50,\n",
       " 'max_depth': 3,\n",
       " 'eta': 0.5,\n",
       " 'alpha': 2.5,\n",
       " 'objective': 'binary:logistic',\n",
       " 'eval_metric': 'auc',\n",
       " 'subsample': 0.8,\n",
       " 'colsample_bytree': 0.8,\n",
       " 'min_child_weight': 3,\n",
       " 'early_stopping_rounds': 10,\n",
       " 'verbosity': 1}"
      ]
     },
     "execution_count": 37,
     "metadata": {},
     "output_type": "execute_result"
    }
   ],
   "source": [
    "estimator.hyperparameters()"
   ]
  },
  {
   "cell_type": "markdown",
   "id": "61c24e6c-6007-4503-a7d9-a349b27ebb5b",
   "metadata": {},
   "source": [
    "Set training inputs and outputs:"
   ]
  },
  {
   "cell_type": "code",
   "execution_count": 38,
   "id": "856cde4f-c1a3-436e-ad17-daeb77ebd60f",
   "metadata": {
    "tags": []
   },
   "outputs": [],
   "source": [
    "training_inputs = {'train': s3_input_train, 'validation': s3_input_validation}"
   ]
  },
  {
   "cell_type": "code",
   "execution_count": 39,
   "id": "5f7886c8-7bdd-4659-b045-8fac4b2755e1",
   "metadata": {},
   "outputs": [],
   "source": [
    "# helper function to load XGBoost model into xgboost.Booster\n",
    "def load_model(model_data_s3_uri):\n",
    "    import xgboost as xgb\n",
    "    import tarfile\n",
    "    import pickle as pkl\n",
    "\n",
    "    model_file = \"./xgboost-model.tar.gz\"\n",
    "    bucket, key = model_data_s3_uri.replace(\"s3://\", \"\").split(\"/\", 1)\n",
    "    boto3.client(\"s3\").download_file(bucket, key, model_file)\n",
    "    \n",
    "    with tarfile.open(model_file, \"r:gz\") as t:\n",
    "        t.extractall(path=\".\")\n",
    "    \n",
    "    # Load model\n",
    "    model = xgb.Booster()\n",
    "    model.load_model(\"xgboost-model\")\n",
    "\n",
    "    return model"
   ]
  },
  {
   "cell_type": "markdown",
   "id": "a3022218-4f87-4e59-8f58-9bab2a44bb96",
   "metadata": {},
   "source": [
    "Run the training:"
   ]
  },
  {
   "cell_type": "markdown",
   "id": "2ca5a53b",
   "metadata": {},
   "source": [
    "<img src=\"data:image/svg+xml;base64,Cjxzdmcgd2lkdGg9IjgwMCIgaGVpZ2h0PSIxMjUiIHZpZXdCb3g9IjAgMCA4MDAgMTI1IiB4bWxucz0iaHR0cDovL3d3dy53My5vcmcvMjAwMC9zdmciPgogICAgPGRlZnM+CiAgICAgICAgPGxpbmVhckdyYWRpZW50IGlkPSJmYWRlR3JhZGllbnQiIHgxPSIwIiB4Mj0iMSI+CiAgICAgICAgICAgIDxzdG9wIG9mZnNldD0iMCUiIHN0b3AtY29sb3I9IiNGMEYwRjAiLz4KICAgICAgICAgICAgPHN0b3Agb2Zmc2V0PSIxMDAlIiBzdG9wLWNvbG9yPSIjRjBGMEYwIiBzdG9wLW9wYWNpdHk9IjAiLz4KICAgICAgICA8L2xpbmVhckdyYWRpZW50PgogICAgICAgIDxtYXNrIGlkPSJmYWRlTWFzayI+CiAgICAgICAgICAgIDxyZWN0IHg9IjAiIHk9IjAiIHdpZHRoPSI3NTAiIGhlaWdodD0iMTI1IiBmaWxsPSJ3aGl0ZSIvPgogICAgICAgICAgICA8cmVjdCB4PSI3NTAiIHk9IjAiIHdpZHRoPSI1MCIgaGVpZ2h0PSIxMjUiIGZpbGw9InVybCgjZmFkZUdyYWRpZW50KSIvPgogICAgICAgIDwvbWFzaz4KICAgIDwvZGVmcz4KICAgIDxwYXRoIGQ9Ik0zLDUwIEE1MCw1MCAwIDAgMSA1MywzIEw3OTcsMyBMNzk3LDk3IEw5Nyw5NyBMNTAsMTE1IEwzLDk3IFoiIGZpbGw9IiNGMEYwRjAiIHN0cm9rZT0iI0UwRTBFMCIgc3Ryb2tlLXdpZHRoPSIxIiBtYXNrPSJ1cmwoI2ZhZGVNYXNrKSIvPgogICAgPGNpcmNsZSBjeD0iNTAiIGN5PSI1MCIgcj0iMzAiIGZpbGw9IiM1N2M0ZjgiIHN0cm9rZT0iIzU3YzRmOCIgc3Ryb2tlLXdpZHRoPSIxIi8+CiAgICA8Y2lyY2xlIGN4PSI1MCIgY3k9IjUwIiByPSIyNSIgZmlsbD0iI0YwRjBGMCIvPgogICAgPGxpbmUgeDE9IjUwIiB5MT0iNTAiIHgyPSI1MCIgeTI9IjMwIiBzdHJva2U9IiM1N2M0ZjgiIHN0cm9rZS13aWR0aD0iMyIgc3Ryb2tlLWxpbmVjYXA9InJvdW5kIi8+CiAgICA8bGluZSB4MT0iNTAiIHkxPSI1MCIgeDI9IjY1IiB5Mj0iNTAiIHN0cm9rZT0iIzU3YzRmOCIgc3Ryb2tlLXdpZHRoPSIzIiBzdHJva2UtbGluZWNhcD0icm91bmQiLz4KICAgIDx0ZXh0IHg9IjEwMCIgeT0iMzQiIGZvbnQtZmFtaWx5PSJBcmlhbCwgc2Fucy1zZXJpZiIgZm9udC1zaXplPSIxNCIgZmlsbD0iIzMzMzMzMyI+VGhlIG5leHQgY2VsbCBtYXkgdGFrZSBhIGZldyBtaW51dGVzIHRvIHJ1bi48L3RleHQ+Cjwvc3ZnPgo=\" alt=\"Time alert open medium\"/>"
   ]
  },
  {
   "cell_type": "code",
   "execution_count": 40,
   "id": "287da7a9-c0ca-479e-8677-24176d91f95f",
   "metadata": {
    "tags": []
   },
   "outputs": [
    {
     "name": "stderr",
     "output_type": "stream",
     "text": [
      "INFO:sagemaker:Creating training-job with name: from-idea-to-prod-training-2024-07-16-08-20-24-920\n"
     ]
    },
    {
     "name": "stdout",
     "output_type": "stream",
     "text": [
      "\n",
      "2024-07-16 08:20:26 Starting - Starting the training job.\n",
      "2024-07-16 08:20:40 Starting - Preparing the instances for training.....\n",
      "2024-07-16 08:21:07 Downloading - Downloading input data.....\n",
      "2024-07-16 08:21:37 Downloading - Downloading the training image.......\n",
      "2024-07-16 08:22:18 Training - Training image download completed. Training in progress...\n",
      "2024-07-16 08:22:33 Uploading - Uploading generated training model.\n",
      "2024-07-16 08:22:42 Completed - Training job completed\n"
     ]
    },
    {
     "name": "stderr",
     "output_type": "stream",
     "text": [
      "WARNING:sagemaker.analytics:Warning: No metrics called train:mae found\n",
      "WARNING:sagemaker.analytics:Warning: No metrics called validation:aucpr found\n",
      "WARNING:sagemaker.analytics:Warning: No metrics called validation:f1_binary found\n",
      "WARNING:sagemaker.analytics:Warning: No metrics called validation:mae found\n",
      "WARNING:sagemaker.analytics:Warning: No metrics called validation:logloss found\n",
      "WARNING:sagemaker.analytics:Warning: No metrics called validation:f1 found\n",
      "WARNING:sagemaker.analytics:Warning: No metrics called train:accuracy found\n",
      "WARNING:sagemaker.analytics:Warning: No metrics called train:mse found\n",
      "WARNING:sagemaker.analytics:Warning: No metrics called validation:recall found\n",
      "WARNING:sagemaker.analytics:Warning: No metrics called validation:poisson-nloglik found\n",
      "WARNING:sagemaker.analytics:Warning: No metrics called validation:precision found\n",
      "WARNING:sagemaker.analytics:Warning: No metrics called train:error found\n",
      "WARNING:sagemaker.analytics:Warning: No metrics called train:ndcg found\n",
      "WARNING:sagemaker.analytics:Warning: No metrics called validation:map found\n",
      "WARNING:sagemaker.analytics:Warning: No metrics called train:f1_binary found\n",
      "WARNING:sagemaker.analytics:Warning: No metrics called validation:error found\n",
      "WARNING:sagemaker.analytics:Warning: No metrics called train:poisson-nloglik found\n",
      "WARNING:sagemaker.analytics:Warning: No metrics called train:rmse found\n",
      "WARNING:sagemaker.analytics:Warning: No metrics called train:logloss found\n",
      "WARNING:sagemaker.analytics:Warning: No metrics called validation:accuracy found\n",
      "WARNING:sagemaker.analytics:Warning: No metrics called train:aucpr found\n",
      "WARNING:sagemaker.analytics:Warning: No metrics called validation:balanced_accuracy found\n",
      "WARNING:sagemaker.analytics:Warning: No metrics called validation:rmse found\n",
      "WARNING:sagemaker.analytics:Warning: No metrics called validation:mse found\n",
      "WARNING:sagemaker.analytics:Warning: No metrics called validation:ndcg found\n",
      "WARNING:sagemaker.analytics:Warning: No metrics called train:f1 found\n",
      "WARNING:sagemaker.analytics:Warning: No metrics called train:map found\n",
      "2024/07/16 08:22:47 INFO mlflow.tracking.fluent: Autologging successfully enabled for xgboost.\n",
      "/opt/conda/lib/python3.10/site-packages/_distutils_hack/__init__.py:26: UserWarning: Setuptools is replacing distutils.\n",
      "  warnings.warn(\"Setuptools is replacing distutils.\")\n"
     ]
    }
   ],
   "source": [
    "mlflow.set_experiment(experiment_name=experiment_name)\n",
    "with mlflow.start_run(\n",
    "    run_name=f\"container-training-{strftime('%d-%H-%M-%S', gmtime())}\",\n",
    "    description=\"training in the notebook 02 with a training job\") as run:\n",
    "    mlflow.log_params(estimator.hyperparameters())\n",
    "        \n",
    "    estimator.fit(\n",
    "        training_inputs,\n",
    "        wait=True,\n",
    "        logs=False,\n",
    "    ) \n",
    "    \n",
    "    mlflow.set_tags(\n",
    "        {\n",
    "            'mlflow.user':user_profile_name,\n",
    "            'mlflow.source.name':f'https://{region}.console.aws.amazon.com/sagemaker/home?region={region}#/jobs/{estimator.latest_training_job.name}',\n",
    "            'mlflow.source.type':'JOB'\n",
    "        }\n",
    "    )\n",
    "    mlflow.log_param(\"training job name\", estimator.latest_training_job.name)\n",
    "    mlflow.log_metrics({i['metric_name'].replace(':', '_'):i['value'] for i in estimator.training_job_analytics.dataframe().iloc})\n",
    "    mlflow.xgboost.log_model(load_model(estimator.model_data), artifact_path=\"xgboost\")"
   ]
  },
  {
   "cell_type": "markdown",
   "id": "acf59a4c",
   "metadata": {},
   "source": [
    "<img src=\"data:image/svg+xml;base64,Cjxzdmcgd2lkdGg9IjgwMCIgaGVpZ2h0PSI1MCIgdmlld0JveD0iMCAwIDgwMCA1MCIgeG1sbnM9Imh0dHA6Ly93d3cudzMub3JnLzIwMDAvc3ZnIj4KICAgIDxkZWZzPgogICAgICAgIDxsaW5lYXJHcmFkaWVudCBpZD0iZmFkZUdyYWRpZW50IiB4MT0iMCIgeDI9IjEiPgogICAgICAgICAgICA8c3RvcCBvZmZzZXQ9IjAlIiBzdG9wLWNvbG9yPSIjRjBGMEYwIi8+CiAgICAgICAgICAgIDxzdG9wIG9mZnNldD0iMTAwJSIgc3RvcC1jb2xvcj0iI0YwRjBGMCIgc3RvcC1vcGFjaXR5PSIwIi8+CiAgICAgICAgPC9saW5lYXJHcmFkaWVudD4KICAgICAgICA8bWFzayBpZD0iZmFkZU1hc2siPgogICAgICAgICAgICA8cmVjdCB4PSIwIiB5PSIwIiB3aWR0aD0iNzUwIiBoZWlnaHQ9IjUwIiBmaWxsPSJ3aGl0ZSIvPgogICAgICAgICAgICA8cmVjdCB4PSI3NTAiIHk9IjAiIHdpZHRoPSI1MCIgaGVpZ2h0PSI1MCIgZmlsbD0idXJsKCNmYWRlR3JhZGllbnQpIi8+CiAgICAgICAgPC9tYXNrPgogICAgPC9kZWZzPgogICAgPHBhdGggZD0iTTI1LDUwIFEwLDUwIDAsMjUgTDUwLDMgTDk3LDI1IEw3OTcsMjUgTDc5Nyw1MCBMMjUsNTAgWiIgZmlsbD0iI0YwRjBGMCIgc3Ryb2tlPSIjRTBFMEUwIiBzdHJva2Utd2lkdGg9IjEiIG1hc2s9InVybCgjZmFkZU1hc2spIi8+Cjwvc3ZnPgo=\" alt=\"Time alert close\"/>"
   ]
  },
  {
   "cell_type": "markdown",
   "id": "8afae60b-0239-48c7-a315-265f81273e54",
   "metadata": {},
   "source": [
    "Register this model in MLflow model registry. The model is automatically replicated into SageMaker Model Registry."
   ]
  },
  {
   "cell_type": "code",
   "execution_count": 41,
   "id": "b32095f3-324a-4719-8b9d-b9a4e1406e20",
   "metadata": {},
   "outputs": [
    {
     "name": "stderr",
     "output_type": "stream",
     "text": [
      "Successfully registered model 'from-idea-to-prod-job-model-16-07-42-00'.\n",
      "2024/07/16 08:25:48 INFO mlflow.store.model_registry.abstract_store: Waiting up to 300 seconds for model version to finish creation. Model name: from-idea-to-prod-job-model-16-07-42-00, version 1\n",
      "Created version '1' of model 'from-idea-to-prod-job-model-16-07-42-00'.\n"
     ]
    }
   ],
   "source": [
    "model_uri = f\"runs:/{mlflow.last_active_run().info.run_id}/xgboost\"\n",
    "mv = mlflow.register_model(model_uri, registered_model_name)"
   ]
  },
  {
   "cell_type": "markdown",
   "id": "4525ff7c-527d-4cd3-8708-83d516e47a02",
   "metadata": {},
   "source": [
    "### Reduce training job startup time with warm pools\n",
    "💡 Instead of using each time a new ephemeral computation cluster to train your models, you can keep your model training hardware instances warm after every job for a specified period. Refer to [Reduce ML Model Training Job startup time by up to 8x using SageMaker Training Managed Warm Pools](https://aws.amazon.com/about-aws/whats-new/2022/09/reduce-ml-model-training-job-startup-time-8x-sagemaker-training-managed-warm-pools/) for more details. If you opt to use warm pools, you are billed for the instances and EBS volumes for the duration of the keep-alive period. \n",
    "Refer to [ Train Using SageMaker Managed Warm Pools](https://docs.aws.amazon.com/sagemaker/latest/dg/train-warm-pools.html) in the Amazon SageMaker Developer Guide for details on training API."
   ]
  },
  {
   "cell_type": "markdown",
   "id": "a7af5386",
   "metadata": {},
   "source": [
    "<div style=\"border: 4px solid coral; text-align: center; margin: auto;\">\n",
    "    <p style=\" text-align: center; margin: auto;\">To use warm pool feature you must have a corresponding warm pool quota for a required instance type set to value greater than 0.\n",
    "    <br>\n",
    "    <br>\n",
    "    Do not run this section in AWS provisioned workshop account as the warm pool quota is set to 0.\n",
    "    The following section checks the quota value for the training instance type.\n",
    "    </p>\n",
    "</div>"
   ]
  },
  {
   "cell_type": "code",
   "execution_count": 42,
   "id": "909030b3-4db3-4229-a1ce-5ee453e4b88e",
   "metadata": {
    "tags": []
   },
   "outputs": [],
   "source": [
    "def check_quota(quota_code, min_v):\n",
    "    r = quotas_client.get_service_quota(\n",
    "        ServiceCode=\"sagemaker\",\n",
    "        QuotaCode=quota_code,\n",
    "    )\n",
    "    \n",
    "    q = r[\"Quota\"][\"Value\"]\n",
    "    n = r[\"Quota\"][\"QuotaName\"]\n",
    "\n",
    "    if q < min_v:\n",
    "        print (\n",
    "            f\"WARNING: Your quota {q} for {n} is less than required value of {min_v}\"\n",
    "        )\n",
    "    else:\n",
    "        print(\n",
    "            f\"SUCCESS: Your quota {q} for {n} is equal or more than required value of {min_v}\"\n",
    "        )"
   ]
  },
  {
   "cell_type": "code",
   "execution_count": 43,
   "id": "60632a28-8cc2-45ca-8e21-dbb8ea38f4b7",
   "metadata": {
    "tags": []
   },
   "outputs": [
    {
     "name": "stdout",
     "output_type": "stream",
     "text": [
      "WARNING: Your quota 0.0 for ml.m5.xlarge for training warm pool usage is less than required value of 1\n"
     ]
    }
   ],
   "source": [
    "quotas_client = boto3.client(\"service-quotas\")\n",
    "                      \n",
    "quotas = {\n",
    "    \"ml.m5.large\": [\"L-2DD73636\", 1],\n",
    "    \"ml.m5.xlarge\": [\"L-0BEF44E8\", 1],\n",
    "    \"ml.m5.2xlarge\": [\"L-1686EE8B\", 1],\n",
    "}\n",
    "     \n",
    "check_quota(quotas[train_instance_type][0], quotas[train_instance_type][1])"
   ]
  },
  {
   "cell_type": "markdown",
   "id": "bd3f1e66",
   "metadata": {},
   "source": [
    "#### Optional: Train with SageMaker warm pools\n",
    "Let's use this feature and run XGBoost training using warm pools.\n",
    "Notice the matching attributes of a training job to re-use the provisioned infrastructure from a previous job: [Matching criteria](https://docs.aws.amazon.com/sagemaker/latest/dg/train-warm-pools.html#train-warm-pools-matching-criteria)\n",
    "\n",
    "To create a warm pool you need to set `KeepAlivePeriodInSeconds` parameter in `Estimator` configuration to value greater than 0."
   ]
  },
  {
   "cell_type": "code",
   "execution_count": 46,
   "id": "0e13412d",
   "metadata": {
    "tags": []
   },
   "outputs": [],
   "source": [
    "# Instantiate an XGBoost estimator object\n",
    "warm_pool_estimator = sagemaker.estimator.Estimator(\n",
    "    image_uri=training_image,  # XGBoost algorithm container\n",
    "    instance_type=train_instance_type,  # type of training instance\n",
    "    instance_count=train_instance_count,  # number of instances to be used\n",
    "    role=sm_role,  # IAM execution role to be used\n",
    "    max_run=20 * 60,  # Maximum allowed active runtime\n",
    "    # use_spot_instances=True,  # Use spot instances to reduce cost\n",
    "    # max_wait=30 * 60,  # Maximum clock time (including spot delays)\n",
    "    output_path=output_s3_url, # S3 location for saving the training result\n",
    "    sagemaker_session=session, # Session object which manages interactions with SageMaker API and AWS services\n",
    "    base_job_name=\"from-idea-to-prod-training\", # Prefix for training job name\n",
    "    keep_alive_period_in_seconds=1800, # use the warm pool feature\n",
    ")"
   ]
  },
  {
   "cell_type": "code",
   "execution_count": 47,
   "id": "c0a7a049",
   "metadata": {
    "tags": []
   },
   "outputs": [],
   "source": [
    "training_inputs = {'train': s3_input_train, 'validation': s3_input_validation}"
   ]
  },
  {
   "cell_type": "markdown",
   "id": "5688fd05",
   "metadata": {},
   "source": [
    "Run a training job by calling `estimator.fit()` several consequent times with different hyperparameters. The initial training job \"cold-starts\" as SageMaker provisions required compute infrastructure for it. When this job completes, the infrastructure kept alive for the period `KeepAlivePeriodInSeconds`. The warm pool stays `Available` until it either identifies a matching training job for reuse or it exceeds the specified `KeepAlivePeriodInSeconds` and is terminated."
   ]
  },
  {
   "cell_type": "code",
   "execution_count": 48,
   "id": "628ca868",
   "metadata": {
    "tags": []
   },
   "outputs": [
    {
     "name": "stderr",
     "output_type": "stream",
     "text": [
      "2024/07/07 20:33:51 INFO mlflow.tracking.fluent: Experiment with name 'from-idea-to-prod-warm-pools-07-20-33-51' does not exist. Creating a new experiment.\n",
      "INFO:sagemaker:Creating training-job with name: from-idea-to-prod-training-2024-07-07-20-33-51-926\n"
     ]
    },
    {
     "name": "stdout",
     "output_type": "stream",
     "text": [
      "Fit estimator with max_depth=2\n",
      "\n",
      "2024-07-07 20:33:53 Starting - Starting the training job..\n",
      "2024-07-07 20:34:07 Starting - Preparing the instances for training....\n",
      "2024-07-07 20:34:34 Downloading - Downloading input data....\n",
      "2024-07-07 20:35:00 Downloading - Downloading the training image........\n",
      "2024-07-07 20:35:45 Training - Training image download completed. Training in progress...\n",
      "2024-07-07 20:36:01 Uploading - Uploading generated training model.\n",
      "2024-07-07 20:36:10 Completed - Resource retained for reuse"
     ]
    },
    {
     "name": "stderr",
     "output_type": "stream",
     "text": [
      "WARNING:sagemaker.analytics:Warning: No metrics called train:mae found\n",
      "WARNING:sagemaker.analytics:Warning: No metrics called validation:aucpr found\n",
      "WARNING:sagemaker.analytics:Warning: No metrics called validation:f1_binary found\n",
      "WARNING:sagemaker.analytics:Warning: No metrics called validation:mae found\n",
      "WARNING:sagemaker.analytics:Warning: No metrics called validation:logloss found\n"
     ]
    },
    {
     "name": "stdout",
     "output_type": "stream",
     "text": [
      "\n"
     ]
    },
    {
     "name": "stderr",
     "output_type": "stream",
     "text": [
      "WARNING:sagemaker.analytics:Warning: No metrics called validation:f1 found\n",
      "WARNING:sagemaker.analytics:Warning: No metrics called train:accuracy found\n",
      "WARNING:sagemaker.analytics:Warning: No metrics called train:mse found\n",
      "WARNING:sagemaker.analytics:Warning: No metrics called validation:recall found\n",
      "WARNING:sagemaker.analytics:Warning: No metrics called validation:poisson-nloglik found\n",
      "WARNING:sagemaker.analytics:Warning: No metrics called validation:precision found\n",
      "WARNING:sagemaker.analytics:Warning: No metrics called train:error found\n",
      "WARNING:sagemaker.analytics:Warning: No metrics called train:ndcg found\n",
      "WARNING:sagemaker.analytics:Warning: No metrics called validation:map found\n",
      "WARNING:sagemaker.analytics:Warning: No metrics called train:f1_binary found\n",
      "WARNING:sagemaker.analytics:Warning: No metrics called validation:error found\n",
      "WARNING:sagemaker.analytics:Warning: No metrics called train:poisson-nloglik found\n",
      "WARNING:sagemaker.analytics:Warning: No metrics called train:rmse found\n",
      "WARNING:sagemaker.analytics:Warning: No metrics called train:logloss found\n",
      "WARNING:sagemaker.analytics:Warning: No metrics called validation:accuracy found\n",
      "WARNING:sagemaker.analytics:Warning: No metrics called train:aucpr found\n",
      "WARNING:sagemaker.analytics:Warning: No metrics called validation:balanced_accuracy found\n",
      "WARNING:sagemaker.analytics:Warning: No metrics called validation:rmse found\n",
      "WARNING:sagemaker.analytics:Warning: No metrics called validation:mse found\n",
      "WARNING:sagemaker.analytics:Warning: No metrics called validation:ndcg found\n",
      "WARNING:sagemaker.analytics:Warning: No metrics called train:f1 found\n",
      "WARNING:sagemaker.analytics:Warning: No metrics called train:map found\n",
      "INFO:sagemaker:Creating training-job with name: from-idea-to-prod-training-2024-07-07-20-36-14-354\n"
     ]
    },
    {
     "name": "stdout",
     "output_type": "stream",
     "text": [
      "Fit estimator with max_depth=3\n",
      "\n",
      "2024-07-07 20:36:17 Starting - Found matching resource for reuse\n",
      "2024-07-07 20:36:17 Downloading - Downloading input data.\n",
      "2024-07-07 20:36:28 Training - Training image download completed. Training in progress..\n",
      "2024-07-07 20:36:38 Uploading - Uploading generated training model.\n",
      "2024-07-07 20:36:48 Completed - Resource retained for reuse"
     ]
    },
    {
     "name": "stderr",
     "output_type": "stream",
     "text": [
      "WARNING:sagemaker.analytics:Warning: No metrics called train:mae found\n",
      "WARNING:sagemaker.analytics:Warning: No metrics called validation:aucpr found\n",
      "WARNING:sagemaker.analytics:Warning: No metrics called validation:f1_binary found\n",
      "WARNING:sagemaker.analytics:Warning: No metrics called validation:mae found\n",
      "WARNING:sagemaker.analytics:Warning: No metrics called validation:logloss found\n",
      "WARNING:sagemaker.analytics:Warning: No metrics called validation:f1 found\n",
      "WARNING:sagemaker.analytics:Warning: No metrics called train:accuracy found\n",
      "WARNING:sagemaker.analytics:Warning: No metrics called train:mse found\n",
      "WARNING:sagemaker.analytics:Warning: No metrics called validation:recall found\n",
      "WARNING:sagemaker.analytics:Warning: No metrics called validation:poisson-nloglik found\n"
     ]
    },
    {
     "name": "stdout",
     "output_type": "stream",
     "text": [
      "\n"
     ]
    },
    {
     "name": "stderr",
     "output_type": "stream",
     "text": [
      "WARNING:sagemaker.analytics:Warning: No metrics called validation:precision found\n",
      "WARNING:sagemaker.analytics:Warning: No metrics called train:error found\n",
      "WARNING:sagemaker.analytics:Warning: No metrics called train:ndcg found\n",
      "WARNING:sagemaker.analytics:Warning: No metrics called validation:map found\n",
      "WARNING:sagemaker.analytics:Warning: No metrics called train:f1_binary found\n",
      "WARNING:sagemaker.analytics:Warning: No metrics called validation:error found\n",
      "WARNING:sagemaker.analytics:Warning: No metrics called train:poisson-nloglik found\n",
      "WARNING:sagemaker.analytics:Warning: No metrics called train:rmse found\n",
      "WARNING:sagemaker.analytics:Warning: No metrics called train:logloss found\n",
      "WARNING:sagemaker.analytics:Warning: No metrics called validation:accuracy found\n",
      "WARNING:sagemaker.analytics:Warning: No metrics called train:aucpr found\n",
      "WARNING:sagemaker.analytics:Warning: No metrics called validation:balanced_accuracy found\n",
      "WARNING:sagemaker.analytics:Warning: No metrics called validation:rmse found\n",
      "WARNING:sagemaker.analytics:Warning: No metrics called validation:mse found\n",
      "WARNING:sagemaker.analytics:Warning: No metrics called validation:ndcg found\n",
      "WARNING:sagemaker.analytics:Warning: No metrics called train:f1 found\n",
      "WARNING:sagemaker.analytics:Warning: No metrics called train:map found\n"
     ]
    },
    {
     "name": "stdout",
     "output_type": "stream",
     "text": [
      "Fit estimator with max_depth=5\n"
     ]
    },
    {
     "name": "stderr",
     "output_type": "stream",
     "text": [
      "INFO:sagemaker:Creating training-job with name: from-idea-to-prod-training-2024-07-07-20-36-50-796\n"
     ]
    },
    {
     "name": "stdout",
     "output_type": "stream",
     "text": [
      "\n",
      "2024-07-07 20:36:55 Starting - Found matching resource for reuse\n",
      "2024-07-07 20:36:55 Downloading - Downloading input data.\n",
      "2024-07-07 20:37:05 Training - Training image download completed. Training in progress.\n",
      "2024-07-07 20:37:11 Uploading - Uploading generated training model..\n",
      "2024-07-07 20:37:25 Completed - Resource retained for reuse"
     ]
    },
    {
     "name": "stderr",
     "output_type": "stream",
     "text": [
      "WARNING:sagemaker.analytics:Warning: No metrics called train:mae found\n",
      "WARNING:sagemaker.analytics:Warning: No metrics called validation:aucpr found\n",
      "WARNING:sagemaker.analytics:Warning: No metrics called validation:f1_binary found\n",
      "WARNING:sagemaker.analytics:Warning: No metrics called validation:mae found\n",
      "WARNING:sagemaker.analytics:Warning: No metrics called validation:logloss found\n",
      "WARNING:sagemaker.analytics:Warning: No metrics called validation:f1 found\n",
      "WARNING:sagemaker.analytics:Warning: No metrics called train:accuracy found\n",
      "WARNING:sagemaker.analytics:Warning: No metrics called train:mse found\n",
      "WARNING:sagemaker.analytics:Warning: No metrics called validation:recall found\n"
     ]
    },
    {
     "name": "stdout",
     "output_type": "stream",
     "text": [
      "\n"
     ]
    },
    {
     "name": "stderr",
     "output_type": "stream",
     "text": [
      "WARNING:sagemaker.analytics:Warning: No metrics called validation:poisson-nloglik found\n",
      "WARNING:sagemaker.analytics:Warning: No metrics called validation:precision found\n",
      "WARNING:sagemaker.analytics:Warning: No metrics called train:error found\n",
      "WARNING:sagemaker.analytics:Warning: No metrics called train:ndcg found\n",
      "WARNING:sagemaker.analytics:Warning: No metrics called validation:map found\n",
      "WARNING:sagemaker.analytics:Warning: No metrics called train:f1_binary found\n",
      "WARNING:sagemaker.analytics:Warning: No metrics called validation:error found\n",
      "WARNING:sagemaker.analytics:Warning: No metrics called train:poisson-nloglik found\n",
      "WARNING:sagemaker.analytics:Warning: No metrics called train:rmse found\n",
      "WARNING:sagemaker.analytics:Warning: No metrics called train:logloss found\n",
      "WARNING:sagemaker.analytics:Warning: No metrics called validation:accuracy found\n",
      "WARNING:sagemaker.analytics:Warning: No metrics called train:aucpr found\n",
      "WARNING:sagemaker.analytics:Warning: No metrics called validation:balanced_accuracy found\n",
      "WARNING:sagemaker.analytics:Warning: No metrics called validation:rmse found\n",
      "WARNING:sagemaker.analytics:Warning: No metrics called validation:mse found\n",
      "WARNING:sagemaker.analytics:Warning: No metrics called validation:ndcg found\n",
      "WARNING:sagemaker.analytics:Warning: No metrics called train:f1 found\n",
      "WARNING:sagemaker.analytics:Warning: No metrics called train:map found\n",
      "INFO:sagemaker:Creating training-job with name: from-idea-to-prod-training-2024-07-07-20-37-27-163\n"
     ]
    },
    {
     "name": "stdout",
     "output_type": "stream",
     "text": [
      "Fit estimator with max_depth=10\n",
      "\n",
      "2024-07-07 20:37:31 Starting - Found matching resource for reuse\n",
      "2024-07-07 20:37:31 Downloading - Downloading input data.\n",
      "2024-07-07 20:37:41 Training - Training image download completed. Training in progress.\n",
      "2024-07-07 20:37:47 Uploading - Uploading generated training model..\n",
      "2024-07-07 20:38:01 Completed - Resource retained for reuse"
     ]
    },
    {
     "name": "stderr",
     "output_type": "stream",
     "text": [
      "WARNING:sagemaker.analytics:Warning: No metrics called train:mae found\n",
      "WARNING:sagemaker.analytics:Warning: No metrics called validation:aucpr found\n",
      "WARNING:sagemaker.analytics:Warning: No metrics called validation:f1_binary found\n",
      "WARNING:sagemaker.analytics:Warning: No metrics called validation:mae found\n",
      "WARNING:sagemaker.analytics:Warning: No metrics called validation:logloss found\n",
      "WARNING:sagemaker.analytics:Warning: No metrics called validation:f1 found\n",
      "WARNING:sagemaker.analytics:Warning: No metrics called train:accuracy found\n",
      "WARNING:sagemaker.analytics:Warning: No metrics called train:mse found\n",
      "WARNING:sagemaker.analytics:Warning: No metrics called validation:recall found\n",
      "WARNING:sagemaker.analytics:Warning: No metrics called validation:poisson-nloglik found\n"
     ]
    },
    {
     "name": "stdout",
     "output_type": "stream",
     "text": [
      "\n"
     ]
    },
    {
     "name": "stderr",
     "output_type": "stream",
     "text": [
      "WARNING:sagemaker.analytics:Warning: No metrics called validation:precision found\n",
      "WARNING:sagemaker.analytics:Warning: No metrics called train:error found\n",
      "WARNING:sagemaker.analytics:Warning: No metrics called train:ndcg found\n",
      "WARNING:sagemaker.analytics:Warning: No metrics called validation:map found\n",
      "WARNING:sagemaker.analytics:Warning: No metrics called train:f1_binary found\n",
      "WARNING:sagemaker.analytics:Warning: No metrics called validation:error found\n",
      "WARNING:sagemaker.analytics:Warning: No metrics called train:poisson-nloglik found\n",
      "WARNING:sagemaker.analytics:Warning: No metrics called train:rmse found\n",
      "WARNING:sagemaker.analytics:Warning: No metrics called train:logloss found\n",
      "WARNING:sagemaker.analytics:Warning: No metrics called validation:accuracy found\n",
      "WARNING:sagemaker.analytics:Warning: No metrics called train:aucpr found\n",
      "WARNING:sagemaker.analytics:Warning: No metrics called validation:balanced_accuracy found\n",
      "WARNING:sagemaker.analytics:Warning: No metrics called validation:rmse found\n",
      "WARNING:sagemaker.analytics:Warning: No metrics called validation:mse found\n",
      "WARNING:sagemaker.analytics:Warning: No metrics called validation:ndcg found\n",
      "WARNING:sagemaker.analytics:Warning: No metrics called train:f1 found\n",
      "WARNING:sagemaker.analytics:Warning: No metrics called train:map found\n",
      "INFO:sagemaker:Creating training-job with name: from-idea-to-prod-training-2024-07-07-20-38-03-577\n"
     ]
    },
    {
     "name": "stdout",
     "output_type": "stream",
     "text": [
      "Fit estimator with max_depth=20\n",
      "\n",
      "2024-07-07 20:38:08 Starting - Found matching resource for reuse\n",
      "2024-07-07 20:38:08 Downloading - Downloading input data.\n",
      "2024-07-07 20:38:18 Training - Training image download completed. Training in progress..\n",
      "2024-07-07 20:38:29 Uploading - Uploading generated training model.\n",
      "2024-07-07 20:38:38 Completed - Resource retained for reuse"
     ]
    },
    {
     "name": "stderr",
     "output_type": "stream",
     "text": [
      "WARNING:sagemaker.analytics:Warning: No metrics called train:mae found\n",
      "WARNING:sagemaker.analytics:Warning: No metrics called validation:aucpr found\n",
      "WARNING:sagemaker.analytics:Warning: No metrics called validation:f1_binary found\n",
      "WARNING:sagemaker.analytics:Warning: No metrics called validation:mae found\n",
      "WARNING:sagemaker.analytics:Warning: No metrics called validation:logloss found\n",
      "WARNING:sagemaker.analytics:Warning: No metrics called validation:f1 found\n",
      "WARNING:sagemaker.analytics:Warning: No metrics called train:accuracy found\n",
      "WARNING:sagemaker.analytics:Warning: No metrics called train:mse found\n",
      "WARNING:sagemaker.analytics:Warning: No metrics called validation:recall found\n"
     ]
    },
    {
     "name": "stdout",
     "output_type": "stream",
     "text": [
      "\n"
     ]
    },
    {
     "name": "stderr",
     "output_type": "stream",
     "text": [
      "WARNING:sagemaker.analytics:Warning: No metrics called validation:poisson-nloglik found\n",
      "WARNING:sagemaker.analytics:Warning: No metrics called validation:precision found\n",
      "WARNING:sagemaker.analytics:Warning: No metrics called train:error found\n",
      "WARNING:sagemaker.analytics:Warning: No metrics called train:ndcg found\n",
      "WARNING:sagemaker.analytics:Warning: No metrics called validation:map found\n",
      "WARNING:sagemaker.analytics:Warning: No metrics called train:f1_binary found\n",
      "WARNING:sagemaker.analytics:Warning: No metrics called validation:error found\n",
      "WARNING:sagemaker.analytics:Warning: No metrics called train:poisson-nloglik found\n",
      "WARNING:sagemaker.analytics:Warning: No metrics called train:rmse found\n",
      "WARNING:sagemaker.analytics:Warning: No metrics called train:logloss found\n",
      "WARNING:sagemaker.analytics:Warning: No metrics called validation:accuracy found\n",
      "WARNING:sagemaker.analytics:Warning: No metrics called train:aucpr found\n",
      "WARNING:sagemaker.analytics:Warning: No metrics called validation:balanced_accuracy found\n",
      "WARNING:sagemaker.analytics:Warning: No metrics called validation:rmse found\n",
      "WARNING:sagemaker.analytics:Warning: No metrics called validation:mse found\n",
      "WARNING:sagemaker.analytics:Warning: No metrics called validation:ndcg found\n",
      "WARNING:sagemaker.analytics:Warning: No metrics called train:f1 found\n",
      "WARNING:sagemaker.analytics:Warning: No metrics called train:map found\n"
     ]
    }
   ],
   "source": [
    "# Start a new experiment to log execution times for each estimator fit\n",
    "suffix = strftime('%d-%H-%M-%S', gmtime())\n",
    "mlflow.set_experiment(experiment_name=f\"from-idea-to-prod-warm-pools-{suffix}\")\n",
    "\n",
    "with mlflow.start_run(\n",
    "    run_name=f\"container-warm-pools-{suffix}\",\n",
    "    description=\"warm pools experiment in the notebook 02\") as parent_run:\n",
    "    # run the training job five times\n",
    "    for i, d in enumerate([2, 3, 5, 10, 20]):\n",
    "        print(f\"Fit estimator with max_depth={d}\")\n",
    "    \n",
    "        warm_pool_estimator.set_hyperparameters(\n",
    "            num_round=50, # the number of rounds to run the training\n",
    "            max_depth=d, # maximum depth of a tree\n",
    "            objective=\"binary:logistic\",\n",
    "            eval_metric=\"auc\", # evaluation metrics for validation data\n",
    "            early_stopping_rounds=10, # the model trains until the validation score stops improving\n",
    "        )\n",
    "\n",
    "        with mlflow.start_run(\n",
    "            run_name=f\"max_depth={d}\",\n",
    "            description=f\"Fit estimator with max_depth={d}\",\n",
    "            nested=True) as child_run:\n",
    "            mlflow.log_params(warm_pool_estimator.hyperparameters())\n",
    "            \n",
    "            warm_pool_estimator.fit(\n",
    "                training_inputs,\n",
    "                wait=True,\n",
    "                logs=False,\n",
    "            )\n",
    "            \n",
    "            mlflow.log_metrics({i['metric_name'].replace(':', '_'):i['value'] for i in warm_pool_estimator.training_job_analytics.dataframe().iloc})"
   ]
  },
  {
   "cell_type": "markdown",
   "id": "a248adc4-3d60-4d5c-9b25-923b51473de0",
   "metadata": {},
   "source": [
    "You can validate that a warm pool used for this training job by going to the [SageMaker training job console](https://console.aws.amazon.com/sagemaker/home?#/jobs) and inspect the training job list:\n",
    "\n",
    "![](img/warm-pools-training-jobs.png)\n",
    "\n",
    "The first training job should take about several minutes, but all subsequent jobs reuse the same compute instance and completed in several seconds. You can also see the warm pool status and time left.\n",
    "\n",
    "You can also open an MLflow experiment list and select an `from-idea-to-prod-warm-pools-<timestamp>` experiment. The logged run duration shows that the first training took about 2 min and all consequent runs less than 40 sec:\n",
    "\n",
    "![](img/warm-pools-mlflow.png)"
   ]
  },
  {
   "cell_type": "markdown",
   "id": "a7b9af81-09c1-45b1-b59b-489a0d14fa76",
   "metadata": {},
   "source": [
    "### Output model performance"
   ]
  },
  {
   "cell_type": "code",
   "execution_count": 44,
   "id": "052e9640-3a0b-4a30-a897-ecd2ee102ca4",
   "metadata": {
    "tags": []
   },
   "outputs": [],
   "source": [
    "if estimator._current_job_name:\n",
    "    training_job_name = estimator._current_job_name"
   ]
  },
  {
   "cell_type": "code",
   "execution_count": 45,
   "id": "a69d7a0c-8cbe-4fd1-af44-9677107b5229",
   "metadata": {
    "tags": []
   },
   "outputs": [
    {
     "name": "stdout",
     "output_type": "stream",
     "text": [
      "Train-auc:0.79, Validate-auc:0.77\n"
     ]
    }
   ],
   "source": [
    "metrics = None\n",
    "while not metrics:\n",
    "    metrics = sm.describe_training_job(\n",
    "        TrainingJobName=training_job_name\n",
    "        ).get(\"FinalMetricDataList\")\n",
    "\n",
    "    if not metrics:\n",
    "        print(f\"Training job {training_job_name} hasn't finished yet!\")\n",
    "        time.sleep(10)\n",
    "    \n",
    "train_auc = float([m['Value'] for m in metrics if m['MetricName'] == 'train:auc'][0])\n",
    "validate_auc = float([m['Value'] for m in metrics if m['MetricName'] == 'validation:auc'][0])\n",
    "\n",
    "print(f\"Train-auc:{train_auc:.2f}, Validate-auc:{validate_auc:.2f}\")"
   ]
  },
  {
   "cell_type": "markdown",
   "id": "f82f6f3e-5920-4712-b37c-cc088b3180cf",
   "metadata": {},
   "source": [
    "You can also see the model metrics from the MLflow registered model. You registered the model after the latest training job run:"
   ]
  },
  {
   "cell_type": "code",
   "execution_count": 46,
   "id": "85df1eba-5cdb-4875-a909-5a9c33a122c7",
   "metadata": {},
   "outputs": [
    {
     "data": {
      "text/plain": [
       "{'validation_auc': 0.770995, 'train_auc': 0.78251}"
      ]
     },
     "execution_count": 46,
     "metadata": {},
     "output_type": "execute_result"
    }
   ],
   "source": [
    "mlflow.get_run(mv.run_id).data.metrics"
   ]
  },
  {
   "cell_type": "code",
   "execution_count": 47,
   "id": "e83a2509-8e2c-4e1c-874f-215745be46e2",
   "metadata": {
    "tags": []
   },
   "outputs": [
    {
     "name": "stdout",
     "output_type": "stream",
     "text": [
      "Stored 'training_job_name' (str)\n"
     ]
    }
   ],
   "source": [
    "%store training_job_name"
   ]
  },
  {
   "cell_type": "code",
   "execution_count": 48,
   "id": "05a41f7a-4f7e-413b-9f5f-a7557bf4060a",
   "metadata": {
    "tags": []
   },
   "outputs": [
    {
     "data": {
      "text/plain": [
       "'s3://sagemaker-us-east-1-402709838713/from-idea-to-prod/xgboost/output/from-idea-to-prod-training-2024-07-16-08-20-24-920/output/model.tar.gz'"
      ]
     },
     "execution_count": 48,
     "metadata": {},
     "output_type": "execute_result"
    }
   ],
   "source": [
    "# Print the S3 path to the model artifact:\n",
    "estimator.model_data"
   ]
  },
  {
   "cell_type": "markdown",
   "id": "1aa43bd9-7cab-48da-b128-635b90c49971",
   "metadata": {},
   "source": [
    "## Validate model\n",
    "The training job saved a model in the specified location on Amazon S3.\n",
    "\n",
    "You can deploy the model as a [real-time endpoint](https://docs.aws.amazon.com/sagemaker/latest/dg/realtime-endpoints.html), which is just one [function call](https://sagemaker.readthedocs.io/en/stable/api/training/estimators.html#sagemaker.estimator.Estimator.deploy), or create a [batch transform](https://docs.aws.amazon.com/sagemaker/latest/dg/batch-transform.html) to predict a label for a large dataset."
   ]
  },
  {
   "cell_type": "markdown",
   "id": "d2b02426-0b29-4b42-a182-7e62ba951767",
   "metadata": {},
   "source": [
    "### Real-time inference\n",
    "To test [real-time inference](https://docs.aws.amazon.com/sagemaker/latest/dg/realtime-endpoints.html) you create a real-time endpoint using the trained estimator."
   ]
  },
  {
   "cell_type": "code",
   "execution_count": 49,
   "id": "feb0d417-99e8-480d-baa4-7ab18d9b5427",
   "metadata": {
    "tags": []
   },
   "outputs": [
    {
     "name": "stderr",
     "output_type": "stream",
     "text": [
      "INFO:sagemaker:Creating model with name: from-idea-to-prod-training-2024-07-16-08-27-27-103\n",
      "INFO:sagemaker:Creating endpoint-config with name from-idea-to-prod-endpoint-16-08-27-27\n",
      "INFO:sagemaker:Creating endpoint with name from-idea-to-prod-endpoint-16-08-27-27\n"
     ]
    }
   ],
   "source": [
    "# Real-time endpoint\n",
    "endpoint_name = f\"from-idea-to-prod-endpoint-{strftime('%d-%H-%M-%S', gmtime())}\"\n",
    "\n",
    "try:\n",
    "    predictor = estimator.deploy(\n",
    "        initial_instance_count=1,\n",
    "        instance_type=\"ml.m5.large\",\n",
    "        wait=False,  # Remember, predictor.predict() won't work until deployment finishes!\n",
    "        # Turn on data capture here, in case you want to experiment with monitoring:\n",
    "        data_capture_config=sagemaker.model_monitor.DataCaptureConfig(\n",
    "            enable_capture=True,\n",
    "            sampling_percentage=100,\n",
    "            destination_s3_uri=f\"s3://{bucket_name}/{bucket_prefix}/data-capture\",\n",
    "        ),\n",
    "        endpoint_name=endpoint_name,\n",
    "        serializer=sagemaker.serializers.CSVSerializer(),\n",
    "        deserializer=sagemaker.deserializers.CSVDeserializer(),\n",
    "    )\n",
    "except botocore.exceptions.ClientError as e:\n",
    "    if e.response['Error']['Code'] == 'AccessDeniedException':\n",
    "        print(f\"Ignore AccessDeniedException: {e.response['Error']['Message']} because of the slow resource tag auto propagation\")\n",
    "        predictor = sagemaker.predictor.Predictor(endpoint_name=endpoint_name,\n",
    "                                                  sagemaker_session=session,\n",
    "                                                  serializer=sagemaker.serializers.CSVSerializer(),\n",
    "                                                  deserializer=sagemaker.deserializers.CSVDeserializer(),\n",
    "                                                 )\n",
    "    else:\n",
    "        raise e"
   ]
  },
  {
   "cell_type": "markdown",
   "id": "5974be01",
   "metadata": {},
   "source": [
    "<img src=\"data:image/svg+xml;base64,Cjxzdmcgd2lkdGg9IjgwMCIgaGVpZ2h0PSIxMjUiIHZpZXdCb3g9IjAgMCA4MDAgMTI1IiB4bWxucz0iaHR0cDovL3d3dy53My5vcmcvMjAwMC9zdmciPgogICAgPGRlZnM+CiAgICAgICAgPGxpbmVhckdyYWRpZW50IGlkPSJmYWRlR3JhZGllbnQiIHgxPSIwIiB4Mj0iMSI+CiAgICAgICAgICAgIDxzdG9wIG9mZnNldD0iMCUiIHN0b3AtY29sb3I9IiNGMEYwRjAiLz4KICAgICAgICAgICAgPHN0b3Agb2Zmc2V0PSIxMDAlIiBzdG9wLWNvbG9yPSIjRjBGMEYwIiBzdG9wLW9wYWNpdHk9IjAiLz4KICAgICAgICA8L2xpbmVhckdyYWRpZW50PgogICAgICAgIDxtYXNrIGlkPSJmYWRlTWFzayI+CiAgICAgICAgICAgIDxyZWN0IHg9IjAiIHk9IjAiIHdpZHRoPSI3NTAiIGhlaWdodD0iMTI1IiBmaWxsPSJ3aGl0ZSIvPgogICAgICAgICAgICA8cmVjdCB4PSI3NTAiIHk9IjAiIHdpZHRoPSI1MCIgaGVpZ2h0PSIxMjUiIGZpbGw9InVybCgjZmFkZUdyYWRpZW50KSIvPgogICAgICAgIDwvbWFzaz4KICAgIDwvZGVmcz4KICAgIDxwYXRoIGQ9Ik0zLDUwIEE1MCw1MCAwIDAgMSA1MywzIEw3OTcsMyBMNzk3LDk3IEw5Nyw5NyBMNTAsMTE1IEwzLDk3IFoiIGZpbGw9IiNGMEYwRjAiIHN0cm9rZT0iI0UwRTBFMCIgc3Ryb2tlLXdpZHRoPSIxIiBtYXNrPSJ1cmwoI2ZhZGVNYXNrKSIvPgogICAgPGNpcmNsZSBjeD0iNTAiIGN5PSI1MCIgcj0iMzAiIGZpbGw9IiM1N2M0ZjgiIHN0cm9rZT0iIzU3YzRmOCIgc3Ryb2tlLXdpZHRoPSIxIi8+CiAgICA8Y2lyY2xlIGN4PSI1MCIgY3k9IjUwIiByPSIyNSIgZmlsbD0iI0YwRjBGMCIvPgogICAgPGxpbmUgeDE9IjUwIiB5MT0iNTAiIHgyPSI1MCIgeTI9IjMwIiBzdHJva2U9IiM1N2M0ZjgiIHN0cm9rZS13aWR0aD0iMyIgc3Ryb2tlLWxpbmVjYXA9InJvdW5kIi8+CiAgICA8bGluZSB4MT0iNTAiIHkxPSI1MCIgeDI9IjY1IiB5Mj0iNTAiIHN0cm9rZT0iIzU3YzRmOCIgc3Ryb2tlLXdpZHRoPSIzIiBzdHJva2UtbGluZWNhcD0icm91bmQiLz4KICAgIDx0ZXh0IHg9IjEwMCIgeT0iMzQiIGZvbnQtZmFtaWx5PSJBcmlhbCwgc2Fucy1zZXJpZiIgZm9udC1zaXplPSIxNCIgZmlsbD0iIzMzMzMzMyI+VGhlIG5leHQgY2VsbCBtYXkgdGFrZSBhIGZldyBtaW51dGVzIHRvIHJ1bi48L3RleHQ+Cjwvc3ZnPgo=\" alt=\"Time alert open medium\"/>"
   ]
  },
  {
   "cell_type": "code",
   "execution_count": 50,
   "id": "a1714f00-78da-4d99-b665-77822581f50a",
   "metadata": {
    "tags": []
   },
   "outputs": [],
   "source": [
    "# Wait until the endpoint has the status InService\n",
    "waiter = session.sagemaker_client.get_waiter('endpoint_in_service')\n",
    "waiter.wait(EndpointName=endpoint_name)"
   ]
  },
  {
   "cell_type": "markdown",
   "id": "d747bb89",
   "metadata": {},
   "source": [
    "<img src=\"data:image/svg+xml;base64,Cjxzdmcgd2lkdGg9IjgwMCIgaGVpZ2h0PSI1MCIgdmlld0JveD0iMCAwIDgwMCA1MCIgeG1sbnM9Imh0dHA6Ly93d3cudzMub3JnLzIwMDAvc3ZnIj4KICAgIDxkZWZzPgogICAgICAgIDxsaW5lYXJHcmFkaWVudCBpZD0iZmFkZUdyYWRpZW50IiB4MT0iMCIgeDI9IjEiPgogICAgICAgICAgICA8c3RvcCBvZmZzZXQ9IjAlIiBzdG9wLWNvbG9yPSIjRjBGMEYwIi8+CiAgICAgICAgICAgIDxzdG9wIG9mZnNldD0iMTAwJSIgc3RvcC1jb2xvcj0iI0YwRjBGMCIgc3RvcC1vcGFjaXR5PSIwIi8+CiAgICAgICAgPC9saW5lYXJHcmFkaWVudD4KICAgICAgICA8bWFzayBpZD0iZmFkZU1hc2siPgogICAgICAgICAgICA8cmVjdCB4PSIwIiB5PSIwIiB3aWR0aD0iNzUwIiBoZWlnaHQ9IjUwIiBmaWxsPSJ3aGl0ZSIvPgogICAgICAgICAgICA8cmVjdCB4PSI3NTAiIHk9IjAiIHdpZHRoPSI1MCIgaGVpZ2h0PSI1MCIgZmlsbD0idXJsKCNmYWRlR3JhZGllbnQpIi8+CiAgICAgICAgPC9tYXNrPgogICAgPC9kZWZzPgogICAgPHBhdGggZD0iTTI1LDUwIFEwLDUwIDAsMjUgTDUwLDMgTDk3LDI1IEw3OTcsMjUgTDc5Nyw1MCBMMjUsNTAgWiIgZmlsbD0iI0YwRjBGMCIgc3Ryb2tlPSIjRTBFMEUwIiBzdHJva2Utd2lkdGg9IjEiIG1hc2s9InVybCgjZmFkZU1hc2spIi8+Cjwvc3ZnPgo=\" alt=\"Time alert close\"/>"
   ]
  },
  {
   "cell_type": "markdown",
   "id": "9e2e7b68-7b53-420d-b716-c62a98bd0c5d",
   "metadata": {},
   "source": [
    "#### Predict"
   ]
  },
  {
   "cell_type": "code",
   "execution_count": 7,
   "id": "afe4d085-0c98-49db-bc61-b14e93e9f21e",
   "metadata": {
    "tags": []
   },
   "outputs": [
    {
     "name": "stdout",
     "output_type": "stream",
     "text": [
      "download: s3://sagemaker-us-east-1-402709838713/from-idea-to-prod/xgboost/test/test_x.csv to tmp/test_x.csv\n",
      "download: s3://sagemaker-us-east-1-402709838713/from-idea-to-prod/xgboost/test/test_y.csv to tmp/test_y.csv\n"
     ]
    }
   ],
   "source": [
    "!aws s3 cp $test_s3_url/test_x.csv tmp/test_x.csv\n",
    "!aws s3 cp $test_s3_url/test_y.csv tmp/test_y.csv"
   ]
  },
  {
   "cell_type": "code",
   "execution_count": 8,
   "id": "cbfeb79b-014e-4784-a7bd-52f88b9957db",
   "metadata": {
    "tags": []
   },
   "outputs": [],
   "source": [
    "test_x = pd.read_csv(\"tmp/test_x.csv\", header=None)\n",
    "test_y = pd.read_csv(\"tmp/test_y.csv\", names=['y'])"
   ]
  },
  {
   "cell_type": "code",
   "execution_count": 53,
   "id": "b5d420ff-2e3e-466a-b8e4-91a2f407f26d",
   "metadata": {
    "tags": []
   },
   "outputs": [
    {
     "data": {
      "text/plain": [
       "array([0.05938949, 0.07139037, 0.18536061, ..., 0.04092945, 0.0345034 ,\n",
       "       0.03125406])"
      ]
     },
     "execution_count": 53,
     "metadata": {},
     "output_type": "execute_result"
    }
   ],
   "source": [
    "predictions = np.array(predictor.predict(test_x.values), dtype=float).squeeze()\n",
    "predictions"
   ]
  },
  {
   "cell_type": "markdown",
   "id": "772ebdad-ab4a-4cf1-bda5-82618d6d6261",
   "metadata": {},
   "source": [
    "#### Evaluate predictions"
   ]
  },
  {
   "cell_type": "code",
   "execution_count": 54,
   "id": "ce21400a-6cbd-4817-869d-89e289fa165b",
   "metadata": {
    "tags": []
   },
   "outputs": [
    {
     "data": {
      "text/html": [
       "<div>\n",
       "<style scoped>\n",
       "    .dataframe tbody tr th:only-of-type {\n",
       "        vertical-align: middle;\n",
       "    }\n",
       "\n",
       "    .dataframe tbody tr th {\n",
       "        vertical-align: top;\n",
       "    }\n",
       "\n",
       "    .dataframe thead th {\n",
       "        text-align: right;\n",
       "    }\n",
       "</style>\n",
       "<table border=\"1\" class=\"dataframe\">\n",
       "  <thead>\n",
       "    <tr style=\"text-align: right;\">\n",
       "      <th></th>\n",
       "      <th>y_pred</th>\n",
       "      <th>0</th>\n",
       "      <th>1</th>\n",
       "      <th>2</th>\n",
       "      <th>3</th>\n",
       "      <th>4</th>\n",
       "      <th>5</th>\n",
       "      <th>6</th>\n",
       "      <th>7</th>\n",
       "      <th>8</th>\n",
       "      <th>...</th>\n",
       "      <th>54</th>\n",
       "      <th>55</th>\n",
       "      <th>56</th>\n",
       "      <th>57</th>\n",
       "      <th>58</th>\n",
       "      <th>59</th>\n",
       "      <th>60</th>\n",
       "      <th>61</th>\n",
       "      <th>62</th>\n",
       "      <th>63</th>\n",
       "    </tr>\n",
       "  </thead>\n",
       "  <tbody>\n",
       "    <tr>\n",
       "      <th>0</th>\n",
       "      <td>0.059389</td>\n",
       "      <td>0.000000</td>\n",
       "      <td>1.0</td>\n",
       "      <td>0.000000</td>\n",
       "      <td>1</td>\n",
       "      <td>0</td>\n",
       "      <td>1</td>\n",
       "      <td>0</td>\n",
       "      <td>0</td>\n",
       "      <td>0</td>\n",
       "      <td>...</td>\n",
       "      <td>0</td>\n",
       "      <td>0</td>\n",
       "      <td>0</td>\n",
       "      <td>1</td>\n",
       "      <td>0</td>\n",
       "      <td>0</td>\n",
       "      <td>0</td>\n",
       "      <td>0</td>\n",
       "      <td>1</td>\n",
       "      <td>0</td>\n",
       "    </tr>\n",
       "    <tr>\n",
       "      <th>1</th>\n",
       "      <td>0.071390</td>\n",
       "      <td>0.036364</td>\n",
       "      <td>1.0</td>\n",
       "      <td>0.000000</td>\n",
       "      <td>1</td>\n",
       "      <td>0</td>\n",
       "      <td>1</td>\n",
       "      <td>0</td>\n",
       "      <td>0</td>\n",
       "      <td>0</td>\n",
       "      <td>...</td>\n",
       "      <td>0</td>\n",
       "      <td>0</td>\n",
       "      <td>0</td>\n",
       "      <td>0</td>\n",
       "      <td>0</td>\n",
       "      <td>1</td>\n",
       "      <td>0</td>\n",
       "      <td>0</td>\n",
       "      <td>1</td>\n",
       "      <td>0</td>\n",
       "    </tr>\n",
       "    <tr>\n",
       "      <th>2</th>\n",
       "      <td>0.185361</td>\n",
       "      <td>0.000000</td>\n",
       "      <td>1.0</td>\n",
       "      <td>0.000000</td>\n",
       "      <td>1</td>\n",
       "      <td>0</td>\n",
       "      <td>0</td>\n",
       "      <td>1</td>\n",
       "      <td>0</td>\n",
       "      <td>0</td>\n",
       "      <td>...</td>\n",
       "      <td>0</td>\n",
       "      <td>0</td>\n",
       "      <td>0</td>\n",
       "      <td>1</td>\n",
       "      <td>0</td>\n",
       "      <td>0</td>\n",
       "      <td>0</td>\n",
       "      <td>0</td>\n",
       "      <td>1</td>\n",
       "      <td>0</td>\n",
       "    </tr>\n",
       "    <tr>\n",
       "      <th>3</th>\n",
       "      <td>0.240570</td>\n",
       "      <td>0.000000</td>\n",
       "      <td>1.0</td>\n",
       "      <td>0.142857</td>\n",
       "      <td>1</td>\n",
       "      <td>0</td>\n",
       "      <td>0</td>\n",
       "      <td>1</td>\n",
       "      <td>0</td>\n",
       "      <td>0</td>\n",
       "      <td>...</td>\n",
       "      <td>0</td>\n",
       "      <td>0</td>\n",
       "      <td>0</td>\n",
       "      <td>1</td>\n",
       "      <td>0</td>\n",
       "      <td>0</td>\n",
       "      <td>0</td>\n",
       "      <td>1</td>\n",
       "      <td>0</td>\n",
       "      <td>0</td>\n",
       "    </tr>\n",
       "    <tr>\n",
       "      <th>4</th>\n",
       "      <td>0.040983</td>\n",
       "      <td>0.000000</td>\n",
       "      <td>1.0</td>\n",
       "      <td>0.000000</td>\n",
       "      <td>1</td>\n",
       "      <td>0</td>\n",
       "      <td>0</td>\n",
       "      <td>1</td>\n",
       "      <td>0</td>\n",
       "      <td>0</td>\n",
       "      <td>...</td>\n",
       "      <td>0</td>\n",
       "      <td>0</td>\n",
       "      <td>0</td>\n",
       "      <td>0</td>\n",
       "      <td>0</td>\n",
       "      <td>1</td>\n",
       "      <td>0</td>\n",
       "      <td>0</td>\n",
       "      <td>1</td>\n",
       "      <td>0</td>\n",
       "    </tr>\n",
       "  </tbody>\n",
       "</table>\n",
       "<p>5 rows × 65 columns</p>\n",
       "</div>"
      ],
      "text/plain": [
       "     y_pred         0    1         2  3  4  5  6  7  8  ...  54  55  56  57  \\\n",
       "0  0.059389  0.000000  1.0  0.000000  1  0  1  0  0  0  ...   0   0   0   1   \n",
       "1  0.071390  0.036364  1.0  0.000000  1  0  1  0  0  0  ...   0   0   0   0   \n",
       "2  0.185361  0.000000  1.0  0.000000  1  0  0  1  0  0  ...   0   0   0   1   \n",
       "3  0.240570  0.000000  1.0  0.142857  1  0  0  1  0  0  ...   0   0   0   1   \n",
       "4  0.040983  0.000000  1.0  0.000000  1  0  0  1  0  0  ...   0   0   0   0   \n",
       "\n",
       "   58  59  60  61  62  63  \n",
       "0   0   0   0   0   1   0  \n",
       "1   0   1   0   0   1   0  \n",
       "2   0   0   0   0   1   0  \n",
       "3   0   0   0   1   0   0  \n",
       "4   0   1   0   0   1   0  \n",
       "\n",
       "[5 rows x 65 columns]"
      ]
     },
     "execution_count": 54,
     "metadata": {},
     "output_type": "execute_result"
    }
   ],
   "source": [
    "test_results = pd.concat(\n",
    "    [\n",
    "        pd.Series(predictions, name=\"y_pred\", index=test_x.index),\n",
    "        test_x,\n",
    "    ],\n",
    "    axis=1,\n",
    ")\n",
    "test_results.head()"
   ]
  },
  {
   "cell_type": "code",
   "execution_count": 55,
   "id": "91b8ef37-c50d-465d-bf54-2b104ace6fe7",
   "metadata": {
    "tags": []
   },
   "outputs": [
    {
     "data": {
      "text/html": [
       "<div>\n",
       "<style scoped>\n",
       "    .dataframe tbody tr th:only-of-type {\n",
       "        vertical-align: middle;\n",
       "    }\n",
       "\n",
       "    .dataframe tbody tr th {\n",
       "        vertical-align: top;\n",
       "    }\n",
       "\n",
       "    .dataframe thead th {\n",
       "        text-align: right;\n",
       "    }\n",
       "</style>\n",
       "<table border=\"1\" class=\"dataframe\">\n",
       "  <thead>\n",
       "    <tr style=\"text-align: right;\">\n",
       "      <th>predictions</th>\n",
       "      <th>0.0</th>\n",
       "      <th>1.0</th>\n",
       "    </tr>\n",
       "    <tr>\n",
       "      <th>actuals</th>\n",
       "      <th></th>\n",
       "      <th></th>\n",
       "    </tr>\n",
       "  </thead>\n",
       "  <tbody>\n",
       "    <tr>\n",
       "      <th>0</th>\n",
       "      <td>3583</td>\n",
       "      <td>53</td>\n",
       "    </tr>\n",
       "    <tr>\n",
       "      <th>1</th>\n",
       "      <td>383</td>\n",
       "      <td>100</td>\n",
       "    </tr>\n",
       "  </tbody>\n",
       "</table>\n",
       "</div>"
      ],
      "text/plain": [
       "predictions   0.0  1.0\n",
       "actuals               \n",
       "0            3583   53\n",
       "1             383  100"
      ]
     },
     "execution_count": 55,
     "metadata": {},
     "output_type": "execute_result"
    }
   ],
   "source": [
    "pd.crosstab(\n",
    "    index=test_y['y'].values,\n",
    "    columns=np.round(predictions), \n",
    "    rownames=['actuals'], \n",
    "    colnames=['predictions']\n",
    ")"
   ]
  },
  {
   "cell_type": "code",
   "execution_count": 56,
   "id": "f994e5e0-b83f-4c39-b9fe-9e0c74b2b4f6",
   "metadata": {
    "tags": []
   },
   "outputs": [
    {
     "name": "stdout",
     "output_type": "stream",
     "text": [
      "Test-auc: 0.77\n"
     ]
    }
   ],
   "source": [
    "test_auc = roc_auc_score(test_y, test_results[\"y_pred\"])\n",
    "print(f\"Test-auc: {test_auc:.2f}\")"
   ]
  },
  {
   "cell_type": "markdown",
   "id": "f2b56d63-c998-4ef1-ada2-e85ed1987e1e",
   "metadata": {},
   "source": [
    "### Batch transform\n",
    "If you want to run a prediction on a large dataset or don't need a real-time endpoint, you can use SageMaker [batch-transform](https://docs.aws.amazon.com/sagemaker/latest/dg/batch-transform.html)."
   ]
  },
  {
   "cell_type": "code",
   "execution_count": 57,
   "id": "bff1abd7-4ef7-4f27-a23a-1a254e823fa1",
   "metadata": {
    "tags": []
   },
   "outputs": [],
   "source": [
    "transform_s3_url = f\"s3://{bucket_name}/{bucket_prefix}/transform\""
   ]
  },
  {
   "cell_type": "markdown",
   "id": "7efc15f6-aa75-429f-9aed-c42572a06e7f",
   "metadata": {},
   "source": [
    "<div class=\"alert alert-info\"> 💡 To create a transformer, use either <b>option 1</b> or <b>option 2</b>\n",
    "</div>"
   ]
  },
  {
   "cell_type": "markdown",
   "id": "cc425f73-03f6-481d-a337-d4f457a26ff6",
   "metadata": {},
   "source": [
    "#### Option 1: create a batch transformer from the trained estimator\n",
    "You can use [`EstimatorBase.transformer()`](https://sagemaker.readthedocs.io/en/stable/api/training/estimators.html#sagemaker.estimator.EstimatorBase.transformer) to create a transformer for an estimator:"
   ]
  },
  {
   "cell_type": "code",
   "execution_count": 58,
   "id": "4a6d7f94-b194-4b9a-9430-a1d5b1ec055b",
   "metadata": {
    "tags": []
   },
   "outputs": [
    {
     "name": "stderr",
     "output_type": "stream",
     "text": [
      "INFO:sagemaker:Creating model with name: from-idea-to-prod-transform-16-08-38-06\n"
     ]
    }
   ],
   "source": [
    "model_name = f\"from-idea-to-prod-transform-{strftime('%d-%H-%M-%S', gmtime())}\"\n",
    "\n",
    "transformer = estimator.transformer(\n",
    "    instance_count=1,\n",
    "    instance_type=train_instance_type,\n",
    "    accept=\"text/csv\",\n",
    "    role=sm_role,\n",
    "    output_path=transform_s3_url,\n",
    "    model_name=model_name,\n",
    ")"
   ]
  },
  {
   "cell_type": "markdown",
   "id": "d00e05ab-c043-40fa-90dd-24d6850b7130",
   "metadata": {},
   "source": [
    "<div style=\"border: 4px solid coral; text-align: center; margin: auto;\">\n",
    "    <p style=\" text-align: center; margin: auto;\">Skip the Option 2 and go to the section <b>Run transform job</b>.\n",
    "    </p>\n",
    "</div>"
   ]
  },
  {
   "cell_type": "markdown",
   "id": "e49bf855-4b34-4ddb-ada6-736b2122ee18",
   "metadata": {},
   "source": [
    "#### Option 2: load a model from a training job\n",
    "Alternatively, you can load a model from a model artifact produced by a training job. You create a transformer with that model."
   ]
  },
  {
   "cell_type": "code",
   "execution_count": null,
   "id": "e971d76c-8e06-4b94-9b25-6eaec8703622",
   "metadata": {
    "tags": []
   },
   "outputs": [],
   "source": [
    "model = session.create_model_from_job(\n",
    "    training_job_name=training_job_name, \n",
    "    name=model_name,\n",
    ")"
   ]
  },
  {
   "cell_type": "code",
   "execution_count": null,
   "id": "50993f97-dce2-4084-a1de-22658fc8b669",
   "metadata": {
    "tags": []
   },
   "outputs": [],
   "source": [
    "transformer = sagemaker.transformer.Transformer(\n",
    "    model_name=model,\n",
    "    instance_count=1,\n",
    "    instance_type=train_instance_type,\n",
    "    accept=\"text/csv\",\n",
    "    assemble_with=\"Line\",\n",
    "    output_path=transform_s3_url,\n",
    "    base_transform_job_name=\"from-idea-to-prod-trasform\",\n",
    "    sagemaker_session=session,\n",
    ")"
   ]
  },
  {
   "cell_type": "markdown",
   "id": "60af22db-848d-44e8-987e-c22aedbd5354",
   "metadata": {},
   "source": [
    "#### Run transform job\n",
    "\n",
    "<img src=\"data:image/svg+xml;base64,Cjxzdmcgd2lkdGg9IjgwMCIgaGVpZ2h0PSIxMjUiIHZpZXdCb3g9IjAgMCA4MDAgMTI1IiB4bWxucz0iaHR0cDovL3d3dy53My5vcmcvMjAwMC9zdmciPgogICAgPGRlZnM+CiAgICAgICAgPGxpbmVhckdyYWRpZW50IGlkPSJmYWRlR3JhZGllbnQiIHgxPSIwIiB4Mj0iMSI+CiAgICAgICAgICAgIDxzdG9wIG9mZnNldD0iMCUiIHN0b3AtY29sb3I9IiNGMEYwRjAiLz4KICAgICAgICAgICAgPHN0b3Agb2Zmc2V0PSIxMDAlIiBzdG9wLWNvbG9yPSIjRjBGMEYwIiBzdG9wLW9wYWNpdHk9IjAiLz4KICAgICAgICA8L2xpbmVhckdyYWRpZW50PgogICAgICAgIDxtYXNrIGlkPSJmYWRlTWFzayI+CiAgICAgICAgICAgIDxyZWN0IHg9IjAiIHk9IjAiIHdpZHRoPSI3NTAiIGhlaWdodD0iMTI1IiBmaWxsPSJ3aGl0ZSIvPgogICAgICAgICAgICA8cmVjdCB4PSI3NTAiIHk9IjAiIHdpZHRoPSI1MCIgaGVpZ2h0PSIxMjUiIGZpbGw9InVybCgjZmFkZUdyYWRpZW50KSIvPgogICAgICAgIDwvbWFzaz4KICAgIDwvZGVmcz4KICAgIDxwYXRoIGQ9Ik0zLDUwIEE1MCw1MCAwIDAgMSA1MywzIEw3OTcsMyBMNzk3LDk3IEw5Nyw5NyBMNTAsMTE1IEwzLDk3IFoiIGZpbGw9IiNGMEYwRjAiIHN0cm9rZT0iI0UwRTBFMCIgc3Ryb2tlLXdpZHRoPSIxIiBtYXNrPSJ1cmwoI2ZhZGVNYXNrKSIvPgogICAgPGNpcmNsZSBjeD0iNTAiIGN5PSI1MCIgcj0iMzAiIGZpbGw9IiM1N2M0ZjgiIHN0cm9rZT0iIzU3YzRmOCIgc3Ryb2tlLXdpZHRoPSIxIi8+CiAgICA8Y2lyY2xlIGN4PSI1MCIgY3k9IjUwIiByPSIyNSIgZmlsbD0iI0YwRjBGMCIvPgogICAgPGxpbmUgeDE9IjUwIiB5MT0iNTAiIHgyPSI1MCIgeTI9IjMwIiBzdHJva2U9IiM1N2M0ZjgiIHN0cm9rZS13aWR0aD0iMyIgc3Ryb2tlLWxpbmVjYXA9InJvdW5kIi8+CiAgICA8bGluZSB4MT0iNTAiIHkxPSI1MCIgeDI9IjY1IiB5Mj0iNTAiIHN0cm9rZT0iIzU3YzRmOCIgc3Ryb2tlLXdpZHRoPSIzIiBzdHJva2UtbGluZWNhcD0icm91bmQiLz4KICAgIDx0ZXh0IHg9IjEwMCIgeT0iMzQiIGZvbnQtZmFtaWx5PSJBcmlhbCwgc2Fucy1zZXJpZiIgZm9udC1zaXplPSIxNCIgZmlsbD0iIzMzMzMzMyI+VGhlIG5leHQgY2VsbCBtYXkgdGFrZSBhIGZldyBtaW51dGVzIHRvIHJ1bi48L3RleHQ+Cjwvc3ZnPgo=\" alt=\"Time alert open medium\"/>"
   ]
  },
  {
   "cell_type": "code",
   "execution_count": 59,
   "id": "4b50377c-0196-41a3-9c8c-70ee2266c160",
   "metadata": {
    "tags": []
   },
   "outputs": [
    {
     "name": "stderr",
     "output_type": "stream",
     "text": [
      "INFO:sagemaker:Creating transform job with name: from-idea-to-prod-transform-16-08-38-11\n"
     ]
    },
    {
     "name": "stdout",
     "output_type": "stream",
     "text": [
      ".............................\u001b[34m/miniconda3/lib/python3.8/site-packages/xgboost/compat.py:36: FutureWarning: pandas.Int64Index is deprecated and will be removed from pandas in a future version. Use pandas.Index with the appropriate dtype instead.\n",
      "  from pandas import MultiIndex, Int64Index\u001b[0m\n",
      "\u001b[34m[2024-07-16:08:42:55:INFO] No GPUs detected (normal if no gpus installed)\u001b[0m\n",
      "\u001b[34m[2024-07-16:08:42:55:INFO] No GPUs detected (normal if no gpus installed)\u001b[0m\n",
      "\u001b[34m[2024-07-16:08:42:55:INFO] nginx config: \u001b[0m\n",
      "\u001b[34mworker_processes auto;\u001b[0m\n",
      "\u001b[34mdaemon off;\u001b[0m\n",
      "\u001b[34mpid /tmp/nginx.pid;\u001b[0m\n",
      "\u001b[34merror_log  /dev/stderr;\u001b[0m\n",
      "\u001b[34mworker_rlimit_nofile 4096;\u001b[0m\n",
      "\u001b[34mevents {\n",
      "  worker_connections 2048;\u001b[0m\n",
      "\u001b[34m}\u001b[0m\n",
      "\u001b[35m/miniconda3/lib/python3.8/site-packages/xgboost/compat.py:36: FutureWarning: pandas.Int64Index is deprecated and will be removed from pandas in a future version. Use pandas.Index with the appropriate dtype instead.\n",
      "  from pandas import MultiIndex, Int64Index\u001b[0m\n",
      "\u001b[35m[2024-07-16:08:42:55:INFO] No GPUs detected (normal if no gpus installed)\u001b[0m\n",
      "\u001b[35m[2024-07-16:08:42:55:INFO] No GPUs detected (normal if no gpus installed)\u001b[0m\n",
      "\u001b[35m[2024-07-16:08:42:55:INFO] nginx config: \u001b[0m\n",
      "\u001b[35mworker_processes auto;\u001b[0m\n",
      "\u001b[35mdaemon off;\u001b[0m\n",
      "\u001b[35mpid /tmp/nginx.pid;\u001b[0m\n",
      "\u001b[35merror_log  /dev/stderr;\u001b[0m\n",
      "\u001b[35mworker_rlimit_nofile 4096;\u001b[0m\n",
      "\u001b[35mevents {\n",
      "  worker_connections 2048;\u001b[0m\n",
      "\u001b[35m}\u001b[0m\n",
      "\u001b[34mhttp {\n",
      "  include /etc/nginx/mime.types;\n",
      "  default_type application/octet-stream;\n",
      "  access_log /dev/stdout combined;\n",
      "  upstream gunicorn {\n",
      "    server unix:/tmp/gunicorn.sock;\n",
      "  }\n",
      "  server {\n",
      "    listen 8080 deferred;\n",
      "    client_max_body_size 0;\n",
      "    keepalive_timeout 3;\n",
      "    location ~ ^/(ping|invocations|execution-parameters) {\n",
      "      proxy_set_header X-Forwarded-For $proxy_add_x_forwarded_for;\n",
      "      proxy_set_header Host $http_host;\n",
      "      proxy_redirect off;\n",
      "      proxy_read_timeout 60s;\n",
      "      proxy_pass http://gunicorn;\n",
      "    }\n",
      "    location / {\n",
      "      return 404 \"{}\";\n",
      "    }\n",
      "  }\u001b[0m\n",
      "\u001b[34m}\u001b[0m\n",
      "\u001b[34m[2024-07-16 08:42:55 +0000] [19] [INFO] Starting gunicorn 19.10.0\u001b[0m\n",
      "\u001b[34m[2024-07-16 08:42:55 +0000] [19] [INFO] Listening at: unix:/tmp/gunicorn.sock (19)\u001b[0m\n",
      "\u001b[34m[2024-07-16 08:42:55 +0000] [19] [INFO] Using worker: gevent\u001b[0m\n",
      "\u001b[34m/miniconda3/lib/python3.8/os.py:1023: RuntimeWarning: line buffering (buffering=1) isn't supported in binary mode, the default buffer size will be used\n",
      "  return io.open(fd, *args, **kwargs)\u001b[0m\n",
      "\u001b[34m[2024-07-16 08:42:55 +0000] [25] [INFO] Booting worker with pid: 25\u001b[0m\n",
      "\u001b[34m[2024-07-16 08:42:55 +0000] [26] [INFO] Booting worker with pid: 26\u001b[0m\n",
      "\u001b[34m[2024-07-16 08:42:55 +0000] [27] [INFO] Booting worker with pid: 27\u001b[0m\n",
      "\u001b[34m[2024-07-16 08:42:56 +0000] [28] [INFO] Booting worker with pid: 28\u001b[0m\n",
      "\u001b[35mhttp {\n",
      "  include /etc/nginx/mime.types;\n",
      "  default_type application/octet-stream;\n",
      "  access_log /dev/stdout combined;\n",
      "  upstream gunicorn {\n",
      "    server unix:/tmp/gunicorn.sock;\n",
      "  }\n",
      "  server {\n",
      "    listen 8080 deferred;\n",
      "    client_max_body_size 0;\n",
      "    keepalive_timeout 3;\n",
      "    location ~ ^/(ping|invocations|execution-parameters) {\n",
      "      proxy_set_header X-Forwarded-For $proxy_add_x_forwarded_for;\n",
      "      proxy_set_header Host $http_host;\n",
      "      proxy_redirect off;\n",
      "      proxy_read_timeout 60s;\n",
      "      proxy_pass http://gunicorn;\n",
      "    }\n",
      "    location / {\n",
      "      return 404 \"{}\";\n",
      "    }\n",
      "  }\u001b[0m\n",
      "\u001b[35m}\u001b[0m\n",
      "\u001b[35m[2024-07-16 08:42:55 +0000] [19] [INFO] Starting gunicorn 19.10.0\u001b[0m\n",
      "\u001b[35m[2024-07-16 08:42:55 +0000] [19] [INFO] Listening at: unix:/tmp/gunicorn.sock (19)\u001b[0m\n",
      "\u001b[35m[2024-07-16 08:42:55 +0000] [19] [INFO] Using worker: gevent\u001b[0m\n",
      "\u001b[35m/miniconda3/lib/python3.8/os.py:1023: RuntimeWarning: line buffering (buffering=1) isn't supported in binary mode, the default buffer size will be used\n",
      "  return io.open(fd, *args, **kwargs)\u001b[0m\n",
      "\u001b[35m[2024-07-16 08:42:55 +0000] [25] [INFO] Booting worker with pid: 25\u001b[0m\n",
      "\u001b[35m[2024-07-16 08:42:55 +0000] [26] [INFO] Booting worker with pid: 26\u001b[0m\n",
      "\u001b[35m[2024-07-16 08:42:55 +0000] [27] [INFO] Booting worker with pid: 27\u001b[0m\n",
      "\u001b[35m[2024-07-16 08:42:56 +0000] [28] [INFO] Booting worker with pid: 28\u001b[0m\n",
      "\u001b[34m/miniconda3/lib/python3.8/site-packages/xgboost/compat.py:36: FutureWarning: pandas.Int64Index is deprecated and will be removed from pandas in a future version. Use pandas.Index with the appropriate dtype instead.\n",
      "  from pandas import MultiIndex, Int64Index\u001b[0m\n",
      "\u001b[34m/miniconda3/lib/python3.8/site-packages/xgboost/compat.py:36: FutureWarning: pandas.Int64Index is deprecated and will be removed from pandas in a future version. Use pandas.Index with the appropriate dtype instead.\n",
      "  from pandas import MultiIndex, Int64Index\u001b[0m\n",
      "\u001b[34m/miniconda3/lib/python3.8/site-packages/xgboost/compat.py:36: FutureWarning: pandas.Int64Index is deprecated and will be removed from pandas in a future version. Use pandas.Index with the appropriate dtype instead.\n",
      "  from pandas import MultiIndex, Int64Index\u001b[0m\n",
      "\u001b[34m/miniconda3/lib/python3.8/site-packages/xgboost/compat.py:36: FutureWarning: pandas.Int64Index is deprecated and will be removed from pandas in a future version. Use pandas.Index with the appropriate dtype instead.\n",
      "  from pandas import MultiIndex, Int64Index\u001b[0m\n",
      "\u001b[34m[2024-07-16:08:42:58:INFO] No GPUs detected (normal if no gpus installed)\u001b[0m\n",
      "\u001b[34m[2024-07-16:08:42:58:INFO] Loading the model from /opt/ml/model/xgboost-model\u001b[0m\n",
      "\u001b[34m[2024-07-16:08:42:58:INFO] Model objective : binary:logistic\u001b[0m\n",
      "\u001b[35m/miniconda3/lib/python3.8/site-packages/xgboost/compat.py:36: FutureWarning: pandas.Int64Index is deprecated and will be removed from pandas in a future version. Use pandas.Index with the appropriate dtype instead.\n",
      "  from pandas import MultiIndex, Int64Index\u001b[0m\n",
      "\u001b[35m/miniconda3/lib/python3.8/site-packages/xgboost/compat.py:36: FutureWarning: pandas.Int64Index is deprecated and will be removed from pandas in a future version. Use pandas.Index with the appropriate dtype instead.\n",
      "  from pandas import MultiIndex, Int64Index\u001b[0m\n",
      "\u001b[35m/miniconda3/lib/python3.8/site-packages/xgboost/compat.py:36: FutureWarning: pandas.Int64Index is deprecated and will be removed from pandas in a future version. Use pandas.Index with the appropriate dtype instead.\n",
      "  from pandas import MultiIndex, Int64Index\u001b[0m\n",
      "\u001b[35m/miniconda3/lib/python3.8/site-packages/xgboost/compat.py:36: FutureWarning: pandas.Int64Index is deprecated and will be removed from pandas in a future version. Use pandas.Index with the appropriate dtype instead.\n",
      "  from pandas import MultiIndex, Int64Index\u001b[0m\n",
      "\u001b[35m[2024-07-16:08:42:58:INFO] No GPUs detected (normal if no gpus installed)\u001b[0m\n",
      "\u001b[35m[2024-07-16:08:42:58:INFO] Loading the model from /opt/ml/model/xgboost-model\u001b[0m\n",
      "\u001b[35m[2024-07-16:08:42:58:INFO] Model objective : binary:logistic\u001b[0m\n",
      "\u001b[34m[2024-07-16:08:42:58:INFO] No GPUs detected (normal if no gpus installed)\u001b[0m\n",
      "\u001b[34m[2024-07-16:08:42:58:INFO] Loading the model from /opt/ml/model/xgboost-model\u001b[0m\n",
      "\u001b[34m[2024-07-16:08:42:58:INFO] Model objective : binary:logistic\u001b[0m\n",
      "\u001b[34m[2024-07-16:08:42:58:INFO] No GPUs detected (normal if no gpus installed)\u001b[0m\n",
      "\u001b[34m[2024-07-16:08:42:58:INFO] Loading the model from /opt/ml/model/xgboost-model\u001b[0m\n",
      "\u001b[34m[2024-07-16:08:42:58:INFO] No GPUs detected (normal if no gpus installed)\u001b[0m\n",
      "\u001b[34m[2024-07-16:08:42:58:INFO] Loading the model from /opt/ml/model/xgboost-model\u001b[0m\n",
      "\u001b[34m[2024-07-16:08:42:58:INFO] Model objective : binary:logistic\u001b[0m\n",
      "\u001b[34m[2024-07-16:08:42:58:INFO] Model objective : binary:logistic\u001b[0m\n",
      "\u001b[35m[2024-07-16:08:42:58:INFO] No GPUs detected (normal if no gpus installed)\u001b[0m\n",
      "\u001b[35m[2024-07-16:08:42:58:INFO] Loading the model from /opt/ml/model/xgboost-model\u001b[0m\n",
      "\u001b[35m[2024-07-16:08:42:58:INFO] Model objective : binary:logistic\u001b[0m\n",
      "\u001b[35m[2024-07-16:08:42:58:INFO] No GPUs detected (normal if no gpus installed)\u001b[0m\n",
      "\u001b[35m[2024-07-16:08:42:58:INFO] Loading the model from /opt/ml/model/xgboost-model\u001b[0m\n",
      "\u001b[35m[2024-07-16:08:42:58:INFO] No GPUs detected (normal if no gpus installed)\u001b[0m\n",
      "\u001b[35m[2024-07-16:08:42:58:INFO] Loading the model from /opt/ml/model/xgboost-model\u001b[0m\n",
      "\u001b[35m[2024-07-16:08:42:58:INFO] Model objective : binary:logistic\u001b[0m\n",
      "\u001b[35m[2024-07-16:08:42:58:INFO] Model objective : binary:logistic\u001b[0m\n",
      "\u001b[34m[2024-07-16:08:43:00:INFO] No GPUs detected (normal if no gpus installed)\u001b[0m\n",
      "\u001b[34m169.254.255.130 - - [16/Jul/2024:08:43:01 +0000] \"GET /ping HTTP/1.1\" 200 0 \"-\" \"Go-http-client/1.1\"\u001b[0m\n",
      "\u001b[34m[2024-07-16:08:43:01:INFO] No GPUs detected (normal if no gpus installed)\u001b[0m\n",
      "\u001b[34m169.254.255.130 - - [16/Jul/2024:08:43:01 +0000] \"GET /execution-parameters HTTP/1.1\" 200 84 \"-\" \"Go-http-client/1.1\"\u001b[0m\n",
      "\u001b[35m[2024-07-16:08:43:00:INFO] No GPUs detected (normal if no gpus installed)\u001b[0m\n",
      "\u001b[35m169.254.255.130 - - [16/Jul/2024:08:43:01 +0000] \"GET /ping HTTP/1.1\" 200 0 \"-\" \"Go-http-client/1.1\"\u001b[0m\n",
      "\u001b[35m[2024-07-16:08:43:01:INFO] No GPUs detected (normal if no gpus installed)\u001b[0m\n",
      "\u001b[35m169.254.255.130 - - [16/Jul/2024:08:43:01 +0000] \"GET /execution-parameters HTTP/1.1\" 200 84 \"-\" \"Go-http-client/1.1\"\u001b[0m\n",
      "\u001b[34m[2024-07-16:08:43:01:INFO] Determined delimiter of CSV input is ','\u001b[0m\n",
      "\u001b[34m/miniconda3/lib/python3.8/site-packages/xgboost/core.py:105: UserWarning: ntree_limit is deprecated, use `iteration_range` or model slicing instead.\n",
      "  warnings.warn(\u001b[0m\n",
      "\u001b[34m169.254.255.130 - - [16/Jul/2024:08:43:01 +0000] \"POST /invocations HTTP/1.1\" 200 82323 \"-\" \"Go-http-client/1.1\"\u001b[0m\n",
      "\u001b[35m[2024-07-16:08:43:01:INFO] Determined delimiter of CSV input is ','\u001b[0m\n",
      "\u001b[35m/miniconda3/lib/python3.8/site-packages/xgboost/core.py:105: UserWarning: ntree_limit is deprecated, use `iteration_range` or model slicing instead.\n",
      "  warnings.warn(\u001b[0m\n",
      "\u001b[35m169.254.255.130 - - [16/Jul/2024:08:43:01 +0000] \"POST /invocations HTTP/1.1\" 200 82323 \"-\" \"Go-http-client/1.1\"\u001b[0m\n",
      "\u001b[32m2024-07-16T08:43:01.032:[sagemaker logs]: MaxConcurrentTransforms=4, MaxPayloadInMB=6, BatchStrategy=MULTI_RECORD\u001b[0m\n",
      "\n"
     ]
    }
   ],
   "source": [
    "transform_job_name = f\"from-idea-to-prod-transform-{strftime('%d-%H-%M-%S', gmtime())}\"\n",
    "\n",
    "transformer.transform(    \n",
    "    data=f\"{test_s3_url}/test_x.csv\",\n",
    "    content_type=\"text/csv\",\n",
    "    split_type=\"Line\", \n",
    "    job_name=transform_job_name,\n",
    "    wait=True,\n",
    ")"
   ]
  },
  {
   "cell_type": "markdown",
   "id": "edcfde81",
   "metadata": {},
   "source": [
    "<img src=\"data:image/svg+xml;base64,Cjxzdmcgd2lkdGg9IjgwMCIgaGVpZ2h0PSI1MCIgdmlld0JveD0iMCAwIDgwMCA1MCIgeG1sbnM9Imh0dHA6Ly93d3cudzMub3JnLzIwMDAvc3ZnIj4KICAgIDxkZWZzPgogICAgICAgIDxsaW5lYXJHcmFkaWVudCBpZD0iZmFkZUdyYWRpZW50IiB4MT0iMCIgeDI9IjEiPgogICAgICAgICAgICA8c3RvcCBvZmZzZXQ9IjAlIiBzdG9wLWNvbG9yPSIjRjBGMEYwIi8+CiAgICAgICAgICAgIDxzdG9wIG9mZnNldD0iMTAwJSIgc3RvcC1jb2xvcj0iI0YwRjBGMCIgc3RvcC1vcGFjaXR5PSIwIi8+CiAgICAgICAgPC9saW5lYXJHcmFkaWVudD4KICAgICAgICA8bWFzayBpZD0iZmFkZU1hc2siPgogICAgICAgICAgICA8cmVjdCB4PSIwIiB5PSIwIiB3aWR0aD0iNzUwIiBoZWlnaHQ9IjUwIiBmaWxsPSJ3aGl0ZSIvPgogICAgICAgICAgICA8cmVjdCB4PSI3NTAiIHk9IjAiIHdpZHRoPSI1MCIgaGVpZ2h0PSI1MCIgZmlsbD0idXJsKCNmYWRlR3JhZGllbnQpIi8+CiAgICAgICAgPC9tYXNrPgogICAgPC9kZWZzPgogICAgPHBhdGggZD0iTTI1LDUwIFEwLDUwIDAsMjUgTDUwLDMgTDk3LDI1IEw3OTcsMjUgTDc5Nyw1MCBMMjUsNTAgWiIgZmlsbD0iI0YwRjBGMCIgc3Ryb2tlPSIjRTBFMEUwIiBzdHJva2Utd2lkdGg9IjEiIG1hc2s9InVybCgjZmFkZU1hc2spIi8+Cjwvc3ZnPgo=\" alt=\"Time alert close\"/>"
   ]
  },
  {
   "cell_type": "code",
   "execution_count": 60,
   "id": "1f11a902-1306-430f-8925-2ddd17741609",
   "metadata": {
    "tags": []
   },
   "outputs": [],
   "source": [
    "while sm.describe_transform_job(\n",
    "        TransformJobName=transformer._current_job_name\n",
    "    )[\"TransformJobStatus\"] != \"Completed\":\n",
    "    time.sleep(10)\n",
    "    print(f\"Wait until {transformer._current_job_name} completed\")"
   ]
  },
  {
   "cell_type": "code",
   "execution_count": 61,
   "id": "29c80898-b328-4413-bee2-34faf29f5f22",
   "metadata": {
    "tags": []
   },
   "outputs": [
    {
     "data": {
      "text/plain": [
       "'s3://sagemaker-us-east-1-402709838713/from-idea-to-prod/xgboost/transform'"
      ]
     },
     "execution_count": 61,
     "metadata": {},
     "output_type": "execute_result"
    }
   ],
   "source": [
    "transformer.output_path"
   ]
  },
  {
   "cell_type": "markdown",
   "id": "672524d0-d056-4a1d-b80a-b4e4822c8290",
   "metadata": {},
   "source": [
    "#### Evaluate predictions"
   ]
  },
  {
   "cell_type": "code",
   "execution_count": 62,
   "id": "cc287aa8-de90-4de3-b59c-d7fc0e9aad2f",
   "metadata": {
    "tags": []
   },
   "outputs": [
    {
     "name": "stdout",
     "output_type": "stream",
     "text": [
      "2024-07-16 08:43:02      82323 test_x.csv.out\n"
     ]
    }
   ],
   "source": [
    "!aws s3 ls {transformer.output_path}/"
   ]
  },
  {
   "cell_type": "code",
   "execution_count": 63,
   "id": "ec638017-8bc3-498a-8b0d-26b5e85c0cde",
   "metadata": {
    "tags": []
   },
   "outputs": [
    {
     "name": "stdout",
     "output_type": "stream",
     "text": [
      "download: s3://sagemaker-us-east-1-402709838713/from-idea-to-prod/xgboost/transform/test_x.csv.out to tmp/predictions.csv\n",
      "download: s3://sagemaker-us-east-1-402709838713/from-idea-to-prod/xgboost/test/test_y.csv to tmp/test_y.csv\n"
     ]
    }
   ],
   "source": [
    "!aws s3 cp {transformer.output_path}/test_x.csv.out tmp/predictions.csv\n",
    "!aws s3 cp $test_s3_url/test_y.csv tmp/test_y.csv"
   ]
  },
  {
   "cell_type": "code",
   "execution_count": 64,
   "id": "4d5e4e16-4739-437c-8237-2083aae150be",
   "metadata": {
    "tags": []
   },
   "outputs": [],
   "source": [
    "predictions = pd.read_csv(\"tmp/predictions.csv\", names=[\"y_prob\"])\n",
    "test_y = pd.read_csv(\"tmp/test_y.csv\", names=['y'])"
   ]
  },
  {
   "cell_type": "markdown",
   "id": "54f1497b-2723-4e37-a1e0-75117dcc91af",
   "metadata": {},
   "source": [
    "#### Crosstab"
   ]
  },
  {
   "cell_type": "code",
   "execution_count": 65,
   "id": "5f5e150c-1bf7-414c-af9d-54ed108117aa",
   "metadata": {
    "tags": []
   },
   "outputs": [
    {
     "data": {
      "text/html": [
       "<div>\n",
       "<style scoped>\n",
       "    .dataframe tbody tr th:only-of-type {\n",
       "        vertical-align: middle;\n",
       "    }\n",
       "\n",
       "    .dataframe tbody tr th {\n",
       "        vertical-align: top;\n",
       "    }\n",
       "\n",
       "    .dataframe thead th {\n",
       "        text-align: right;\n",
       "    }\n",
       "</style>\n",
       "<table border=\"1\" class=\"dataframe\">\n",
       "  <thead>\n",
       "    <tr style=\"text-align: right;\">\n",
       "      <th>predictions</th>\n",
       "      <th>0.0</th>\n",
       "      <th>1.0</th>\n",
       "    </tr>\n",
       "    <tr>\n",
       "      <th>actuals</th>\n",
       "      <th></th>\n",
       "      <th></th>\n",
       "    </tr>\n",
       "  </thead>\n",
       "  <tbody>\n",
       "    <tr>\n",
       "      <th>0</th>\n",
       "      <td>3583</td>\n",
       "      <td>53</td>\n",
       "    </tr>\n",
       "    <tr>\n",
       "      <th>1</th>\n",
       "      <td>383</td>\n",
       "      <td>100</td>\n",
       "    </tr>\n",
       "  </tbody>\n",
       "</table>\n",
       "</div>"
      ],
      "text/plain": [
       "predictions   0.0  1.0\n",
       "actuals               \n",
       "0            3583   53\n",
       "1             383  100"
      ]
     },
     "execution_count": 65,
     "metadata": {},
     "output_type": "execute_result"
    }
   ],
   "source": [
    "pd.crosstab(\n",
    "    index=test_y['y'].values,\n",
    "    columns=np.array(np.round(predictions), dtype=float).squeeze(), \n",
    "    rownames=['actuals'], \n",
    "    colnames=['predictions']\n",
    ")"
   ]
  },
  {
   "cell_type": "code",
   "execution_count": 66,
   "id": "bd11aa9b-9bcc-4e70-a508-93f02781fa73",
   "metadata": {
    "tags": []
   },
   "outputs": [
    {
     "name": "stdout",
     "output_type": "stream",
     "text": [
      "Test-auc: 0.77\n"
     ]
    }
   ],
   "source": [
    "test_auc = roc_auc_score(test_y, predictions)\n",
    "print(f\"Test-auc: {test_auc:.2f}\")"
   ]
  },
  {
   "cell_type": "markdown",
   "id": "9d358952-5b3a-4690-b118-1677bd80fd5c",
   "metadata": {},
   "source": [
    "#### ROC curve"
   ]
  },
  {
   "cell_type": "code",
   "execution_count": 67,
   "id": "eabaa6a7-08a2-4e21-95e2-17fea4c6e692",
   "metadata": {
    "tags": []
   },
   "outputs": [
    {
     "data": {
      "image/png": "[encoded data removed]",
      "text/plain": [
       "<Figure size 640x480 with 1 Axes>"
      ]
     },
     "metadata": {},
     "output_type": "display_data"
    }
   ],
   "source": [
    "from sklearn import metrics\n",
    "from sklearn.metrics import RocCurveDisplay\n",
    "import matplotlib.pyplot as plt\n",
    "\n",
    "fpr, tpr, thresholds = metrics.roc_curve(test_y, predictions)\n",
    "roc_auc = metrics.auc(fpr, tpr)\n",
    "display = metrics.RocCurveDisplay(fpr=fpr, tpr=tpr, roc_auc=roc_auc,estimator_name='Holdout/Test Data - ROC curve')\n",
    "display.plot()\n",
    "plt.show()"
   ]
  },
  {
   "cell_type": "markdown",
   "id": "34c19463-4fb0-43bd-bb33-9f3a174c060e",
   "metadata": {},
   "source": [
    "#### Confusion matrix"
   ]
  },
  {
   "cell_type": "code",
   "execution_count": 68,
   "id": "449ffe9b-1b7d-44d9-a9ce-c8d68c97de7e",
   "metadata": {
    "tags": []
   },
   "outputs": [
    {
     "name": "stderr",
     "output_type": "stream",
     "text": [
      "2024/07/16 08:43:52 INFO mlflow.tracking.fluent: Autologging successfully enabled for statsmodels.\n"
     ]
    },
    {
     "data": {
      "image/png": "[encoded data removed]",
      "text/plain": [
       "<Figure size 640x480 with 2 Axes>"
      ]
     },
     "metadata": {},
     "output_type": "display_data"
    }
   ],
   "source": [
    "import seaborn as sns\n",
    "from sklearn.metrics import confusion_matrix\n",
    "from sklearn.metrics import ConfusionMatrixDisplay\n",
    "\n",
    "cm = confusion_matrix(test_y, np.round(predictions))\n",
    "f = sns.heatmap(cm, annot=True, fmt='d')\n",
    "plt.show()"
   ]
  },
  {
   "cell_type": "markdown",
   "id": "b90e2e7f-69fa-409b-a36f-341842d50146",
   "metadata": {},
   "source": [
    "#### Precision-recall curve"
   ]
  },
  {
   "cell_type": "code",
   "execution_count": 69,
   "id": "c36302d4-5855-43cd-9d47-e5f2d50bfaf5",
   "metadata": {
    "tags": []
   },
   "outputs": [
    {
     "data": {
      "image/png": "[encoded data removed]",
      "text/plain": [
       "<Figure size 640x480 with 1 Axes>"
      ]
     },
     "metadata": {},
     "output_type": "display_data"
    }
   ],
   "source": [
    "from sklearn.metrics import precision_recall_curve\n",
    "from sklearn.metrics import PrecisionRecallDisplay\n",
    "\n",
    "prec, recall, _ = precision_recall_curve(test_y, predictions)\n",
    "average_precision= metrics.average_precision_score(test_y, predictions)\n",
    "pr_display = PrecisionRecallDisplay(precision=prec, recall=recall, average_precision=average_precision, estimator_name='Holdout/Test Data - AUPRC curve')\n",
    "pr_display.plot()\n",
    "plt.show()"
   ]
  },
  {
   "attachments": {},
   "cell_type": "markdown",
   "id": "ae6e6de6-64e0-4a7a-b8f2-69497cd2cb15",
   "metadata": {},
   "source": [
    "### Save charts to the MLflow run\n",
    "You can use the [`mlflow.log_figure()`](https://mlflow.org/docs/latest/python_api/mlflow.html#mlflow.log_figure) logging method to save [matplotlib](https://matplotlib.org/3.3.4/api/_as_gen/matplotlib.figure.Figure.html) or [plotly](https://plotly.com/python-api-reference/generated/plotly.graph_objects.Figure.html) figures to a run."
   ]
  },
  {
   "cell_type": "code",
   "execution_count": 70,
   "id": "dc0b4a5e-12f8-4e46-a0fe-c46b471e0ffb",
   "metadata": {},
   "outputs": [],
   "source": [
    "def plot_confusion_matrix(\n",
    "    cm, class_names, title=\"Confusion matrix\", cmap=plt.cm.Blues, normalize=False\n",
    "):\n",
    "    if normalize:\n",
    "        cm = cm.astype(\"float\") / cm.sum(axis=1)[:, np.newaxis]\n",
    "\n",
    "    fig, ax = plt.subplots()\n",
    "    im = ax.imshow(cm, interpolation=\"nearest\", cmap=cmap)\n",
    "    ax.figure.colorbar(im, ax=ax)\n",
    "    ax.set(\n",
    "        xticks=np.arange(cm.shape[1]),\n",
    "        yticks=np.arange(cm.shape[0]),\n",
    "        ylim=(cm.shape[0] - 0.5, -0.5),\n",
    "        xticklabels=class_names,\n",
    "        yticklabels=class_names,\n",
    "        title=title,\n",
    "        ylabel=\"Ground truth label\",\n",
    "        xlabel=\"Predicted label\",\n",
    "    )\n",
    "\n",
    "    # Rotate the tick labels and set their alignment.\n",
    "    plt.setp(ax.get_xticklabels(), rotation=30, ha=\"right\", rotation_mode=\"anchor\")\n",
    "\n",
    "    # Loop over data dimensions and create text annotations.\n",
    "    fmt = \".2f\"\n",
    "    thresh = cm.max() / 2.0\n",
    "    for i in range(cm.shape[0]):\n",
    "        for j in range(cm.shape[1]):\n",
    "            ax.text(\n",
    "                j,\n",
    "                i,\n",
    "                format(cm[i, j], fmt),\n",
    "                ha=\"center\",\n",
    "                va=\"center\",\n",
    "                color=\"white\" if cm[i, j] > thresh else \"black\",\n",
    "            )\n",
    "    fig.tight_layout()\n",
    "    return ax, fig"
   ]
  },
  {
   "cell_type": "code",
   "execution_count": 71,
   "id": "a633d3b3-36a6-4465-a4cb-d35a5600adf2",
   "metadata": {},
   "outputs": [
    {
     "data": {
      "image/png": "[encoded data removed]",
      "text/plain": [
       "<Figure size 640x480 with 2 Axes>"
      ]
     },
     "metadata": {},
     "output_type": "display_data"
    }
   ],
   "source": [
    "class_names = [\"no\", \"yes\"]\n",
    "confusion_matrix = metrics.confusion_matrix(test_y, np.round(predictions))\n",
    "ax, fig = plot_confusion_matrix(confusion_matrix, class_names)"
   ]
  },
  {
   "cell_type": "code",
   "execution_count": 72,
   "id": "751bceac-3318-4091-8e5b-05d29ab15673",
   "metadata": {},
   "outputs": [
    {
     "name": "stdout",
     "output_type": "stream",
     "text": [
      "Log confusion matrix to the model from-idea-to-prod-job-model-16-07-42-00 version 1\n"
     ]
    }
   ],
   "source": [
    "print(f\"Log confusion matrix to the model {mv.name} version {mv.version}\")\n",
    "mlflow.set_experiment(experiment_name)\n",
    "with mlflow.start_run(run_id=mv.run_id):\n",
    "    mlflow.log_figure(fig, \"confusion_matrix.png\")"
   ]
  },
  {
   "cell_type": "markdown",
   "id": "de6ee7d6-e8d7-40aa-bae6-8db6edbcc10d",
   "metadata": {},
   "source": [
    "## Explore experiments and model registry with the MLflow UI\n",
    "You can see all logged metrics, parameters, and artifacts in the MLflow UI. To launch the MLflow UI, choose **MLflow** in the **Application** pane of the Studio UI, select your MLflow server and choose **Open MLflow**:\n",
    "\n",
    "![](img/mlflow-open.png)\n",
    "\n",
    "In the MLflow UI you can browse experiments, runs, and registered models:\n",
    "\n",
    "![](img/experiment-mlflow-2.png)\n",
    "\n",
    "![](img/models-mlflow-2.png)\n",
    "\n",
    "![](img/model-fig-mlflow.png)"
   ]
  },
  {
   "cell_type": "markdown",
   "id": "6949ec51-5f38-4432-9a5d-ed4e5350644f",
   "metadata": {},
   "source": [
    "---"
   ]
  },
  {
   "cell_type": "markdown",
   "id": "9d8a7389-9af4-4a0b-8ea7-376db0c2ed02",
   "metadata": {},
   "source": [
    "## Optional: Hyperparameter optimization (HPO)\n",
    "It takes about 20 minutes to run this section. The section is optional and you don't need to run it to continue with other notebooks. You can navigate directly to step 3 [notebook](03-sagemaker-pipeline.ipynb). If you would like to perform a model A/B test in **Additional topics** sections, you can execute this part to produce an alternative model.\n",
    "\n",
    "[Amazon SageMaker automatic model tuning](https://docs.aws.amazon.com/sagemaker/latest/dg/automatic-model-tuning.html), also called hyperparameter optimization (HPO), finds the best performing model against a defined objective metric by running many training jobs on the dataset using the algorithm and ranges of hyperparameters that you specify. SageMaker HPT supports random search, bayesian optimization, and [hyperband](https://docs.aws.amazon.com/sagemaker/latest/dg/automatic-model-tuning-how-it-works.html) as tuning strategies."
   ]
  },
  {
   "cell_type": "code",
   "execution_count": 73,
   "id": "543f54c4-11b1-418d-aab9-0fa52ae88835",
   "metadata": {},
   "outputs": [
    {
     "name": "stderr",
     "output_type": "stream",
     "text": [
      "2024/07/16 08:45:04 INFO mlflow.tracking.fluent: Experiment with name 'from-idea-to-prod-hpo-16-08-45-04' does not exist. Creating a new experiment.\n"
     ]
    }
   ],
   "source": [
    "suffix = strftime('%d-%H-%M-%S', gmtime())\n",
    "mlflow.set_experiment(f\"from-idea-to-prod-hpo-{suffix}\")\n",
    "registered_hpo_model_name = f\"from-idea-to-prod-hpo-model-{suffix}\""
   ]
  },
  {
   "cell_type": "code",
   "execution_count": 74,
   "id": "5230ec51-bab2-40ca-a5ce-3a31590d47a5",
   "metadata": {
    "tags": []
   },
   "outputs": [],
   "source": [
    "# import required HPO objects\n",
    "from sagemaker.tuner import (\n",
    "    CategoricalParameter,\n",
    "    ContinuousParameter,\n",
    "    HyperparameterTuner,\n",
    "    IntegerParameter,\n",
    ")"
   ]
  },
  {
   "cell_type": "code",
   "execution_count": 75,
   "id": "a31feb51-0ca9-4517-8c1a-02415970a46b",
   "metadata": {
    "tags": []
   },
   "outputs": [],
   "source": [
    "# set up hyperparameter ranges\n",
    "hp_ranges = {\n",
    "    \"min_child_weight\": ContinuousParameter(1, 10),\n",
    "    \"max_depth\": IntegerParameter(1, 10),\n",
    "    \"alpha\": ContinuousParameter(0, 5),\n",
    "    \"eta\": ContinuousParameter(0, 1),\n",
    "    \"colsample_bytree\": ContinuousParameter(0, 1),\n",
    "    \"gamma\": ContinuousParameter(0, 10),\n",
    "}\n",
    "\n",
    "# set up the objective metric\n",
    "objective = \"validation:auc\"\n",
    "\n",
    "# Instantiate an XGBoost estimator object\n",
    "hpo_estimator = sagemaker.estimator.Estimator(\n",
    "    image_uri=training_image,  # XGBoost algorithm container\n",
    "    instance_type=train_instance_type,  # type of training instance\n",
    "    instance_count=train_instance_count,  # number of instances to be used\n",
    "    role=sm_role,  # IAM execution role to be used\n",
    "    max_run=20 * 60,  # Maximum allowed active runtime\n",
    "    # use_spot_instances=True,  # Use spot instances to reduce cost\n",
    "    # max_wait=30 * 60,  # Maximum clock time (including spot delays)\n",
    "    output_path=output_s3_url, # S3 location for saving the training result\n",
    "    sagemaker_session=session, # Session object which manages interactions with SageMaker API and AWS services\n",
    "    base_job_name=\"from-idea-to-prod-hpo\", # Prefix for training job name\n",
    "    keep_alive_period_in_seconds=1800, # use the warm pool feature\n",
    ")\n",
    "\n",
    "hpo_estimator.set_hyperparameters(\n",
    "    num_round=50, \n",
    "    objective=\"binary:logistic\",\n",
    "    eval_metric=\"auc\", \n",
    ")\n",
    "\n",
    "# instantiate a HPO object\n",
    "tuner = HyperparameterTuner(\n",
    "    estimator=hpo_estimator,  # the SageMaker estimator object\n",
    "    hyperparameter_ranges=hp_ranges,  # the range of hyperparameters\n",
    "    max_jobs=10,  # total number of HPO jobs\n",
    "    max_parallel_jobs=3,  # how many HPO jobs can run in parallel\n",
    "    strategy=\"Bayesian\",  # the internal optimization strategy of HPO\n",
    "    objective_metric_name=objective,  # the objective metric to be used for HPO\n",
    "    objective_type=\"Maximize\",  # maximize or minimize the objective metric\n",
    "    base_tuning_job_name=\"from-idea-to-prod-hpo\",\n",
    "    early_stopping_type=\"Auto\",\n",
    ")"
   ]
  },
  {
   "cell_type": "markdown",
   "id": "7aab138e-5629-4a9d-830a-efb425a375bb",
   "metadata": {},
   "source": [
    "Now run the HPO job. It takes about 10 minutes to complete."
   ]
  },
  {
   "cell_type": "markdown",
   "id": "9752f3de",
   "metadata": {},
   "source": [
    "<img src=\"data:image/svg+xml;base64,Cjxzdmcgd2lkdGg9IjgwMCIgaGVpZ2h0PSIxMjUiIHZpZXdCb3g9IjAgMCA4MDAgMTI1IiB4bWxucz0iaHR0cDovL3d3dy53My5vcmcvMjAwMC9zdmciPgogICAgPGRlZnM+CiAgICAgICAgPGxpbmVhckdyYWRpZW50IGlkPSJmYWRlR3JhZGllbnQiIHgxPSIwIiB4Mj0iMSI+CiAgICAgICAgICAgIDxzdG9wIG9mZnNldD0iMCUiIHN0b3AtY29sb3I9IiNGMEYwRjAiLz4KICAgICAgICAgICAgPHN0b3Agb2Zmc2V0PSIxMDAlIiBzdG9wLWNvbG9yPSIjRjBGMEYwIiBzdG9wLW9wYWNpdHk9IjAiLz4KICAgICAgICA8L2xpbmVhckdyYWRpZW50PgogICAgICAgIDxtYXNrIGlkPSJmYWRlTWFzayI+CiAgICAgICAgICAgIDxyZWN0IHg9IjAiIHk9IjAiIHdpZHRoPSI3NTAiIGhlaWdodD0iMTI1IiBmaWxsPSJ3aGl0ZSIvPgogICAgICAgICAgICA8cmVjdCB4PSI3NTAiIHk9IjAiIHdpZHRoPSI1MCIgaGVpZ2h0PSIxMjUiIGZpbGw9InVybCgjZmFkZUdyYWRpZW50KSIvPgogICAgICAgIDwvbWFzaz4KICAgIDwvZGVmcz4KICAgIDxwYXRoIGQ9Ik0zLDUwIEE1MCw1MCAwIDAgMSA1MywzIEw3OTcsMyBMNzk3LDk3IEw5Nyw5NyBMNTAsMTE1IEwzLDk3IFoiIGZpbGw9IiNGMEYwRjAiIHN0cm9rZT0iI0UwRTBFMCIgc3Ryb2tlLXdpZHRoPSIxIiBtYXNrPSJ1cmwoI2ZhZGVNYXNrKSIvPgogICAgPGNpcmNsZSBjeD0iNTAiIGN5PSI1MCIgcj0iMzAiIGZpbGw9IiM1N2M0ZjgiIHN0cm9rZT0iIzU3YzRmOCIgc3Ryb2tlLXdpZHRoPSIxIi8+CiAgICA8Y2lyY2xlIGN4PSI1MCIgY3k9IjUwIiByPSIyNSIgZmlsbD0iI0YwRjBGMCIvPgogICAgPGxpbmUgeDE9IjUwIiB5MT0iNTAiIHgyPSI1MCIgeTI9IjMwIiBzdHJva2U9IiM1N2M0ZjgiIHN0cm9rZS13aWR0aD0iMyIgc3Ryb2tlLWxpbmVjYXA9InJvdW5kIi8+CiAgICA8bGluZSB4MT0iNTAiIHkxPSI1MCIgeDI9IjY1IiB5Mj0iNTAiIHN0cm9rZT0iIzU3YzRmOCIgc3Ryb2tlLXdpZHRoPSIzIiBzdHJva2UtbGluZWNhcD0icm91bmQiLz4KICAgIDx0ZXh0IHg9IjEwMCIgeT0iMzQiIGZvbnQtZmFtaWx5PSJBcmlhbCwgc2Fucy1zZXJpZiIgZm9udC1zaXplPSIxNCIgZmlsbD0iIzMzMzMzMyI+VGhlIG5leHQgY2VsbCBtYXkgdGFrZSBhIGZldyBtaW51dGVzIHRvIHJ1bi4gUGxlYXNlIGJlIHBhdGllbnQuPC90ZXh0PgogICAgPHRleHQgeD0iMTAwIiB5PSI1NiIgZm9udC1mYW1pbHk9IkFyaWFsLCBzYW5zLXNlcmlmIiBmb250LXNpemU9IjE0IiBmaWxsPSIjMzMzMzMzIj5Zb3UgY2FuIHNhZmVseSBpZ25vcmUgdGhlIHdhcm5pbmcgbWVzc2FnZXMuPC90ZXh0Pgo8L3N2Zz4K\" alt=\"Time alert open medium\"/>"
   ]
  },
  {
   "cell_type": "code",
   "execution_count": 76,
   "id": "612a815f-c9f9-4e8e-9afb-ffd3b98a0f4b",
   "metadata": {
    "tags": []
   },
   "outputs": [
    {
     "name": "stderr",
     "output_type": "stream",
     "text": [
      "WARNING:sagemaker.estimator:No finished training job found associated with this estimator. Please make sure this estimator is only used for building workflow config\n",
      "INFO:sagemaker:Creating hyperparameter tuning job with name: from-idea-to-prod-hp-240716-0845\n"
     ]
    },
    {
     "name": "stdout",
     "output_type": "stream",
     "text": [
      ".........................................................!\n"
     ]
    }
   ],
   "source": [
    "tuner.fit(\n",
    "    {\"train\": s3_input_train, \"validation\": s3_input_validation},\n",
    ")"
   ]
  },
  {
   "cell_type": "markdown",
   "id": "0697a30f",
   "metadata": {},
   "source": [
    "<img src=\"data:image/svg+xml;base64,Cjxzdmcgd2lkdGg9IjgwMCIgaGVpZ2h0PSI1MCIgdmlld0JveD0iMCAwIDgwMCA1MCIgeG1sbnM9Imh0dHA6Ly93d3cudzMub3JnLzIwMDAvc3ZnIj4KICAgIDxkZWZzPgogICAgICAgIDxsaW5lYXJHcmFkaWVudCBpZD0iZmFkZUdyYWRpZW50IiB4MT0iMCIgeDI9IjEiPgogICAgICAgICAgICA8c3RvcCBvZmZzZXQ9IjAlIiBzdG9wLWNvbG9yPSIjRjBGMEYwIi8+CiAgICAgICAgICAgIDxzdG9wIG9mZnNldD0iMTAwJSIgc3RvcC1jb2xvcj0iI0YwRjBGMCIgc3RvcC1vcGFjaXR5PSIwIi8+CiAgICAgICAgPC9saW5lYXJHcmFkaWVudD4KICAgICAgICA8bWFzayBpZD0iZmFkZU1hc2siPgogICAgICAgICAgICA8cmVjdCB4PSIwIiB5PSIwIiB3aWR0aD0iNzUwIiBoZWlnaHQ9IjUwIiBmaWxsPSJ3aGl0ZSIvPgogICAgICAgICAgICA8cmVjdCB4PSI3NTAiIHk9IjAiIHdpZHRoPSI1MCIgaGVpZ2h0PSI1MCIgZmlsbD0idXJsKCNmYWRlR3JhZGllbnQpIi8+CiAgICAgICAgPC9tYXNrPgogICAgPC9kZWZzPgogICAgPHBhdGggZD0iTTI1LDUwIFEwLDUwIDAsMjUgTDUwLDMgTDk3LDI1IEw3OTcsMjUgTDc5Nyw1MCBMMjUsNTAgWiIgZmlsbD0iI0YwRjBGMCIgc3Ryb2tlPSIjRTBFMEUwIiBzdHJva2Utd2lkdGg9IjEiIG1hc2s9InVybCgjZmFkZU1hc2spIi8+Cjwvc3ZnPgo=\" alt=\"Time alert close\"/>"
   ]
  },
  {
   "cell_type": "code",
   "execution_count": 77,
   "id": "9eb7ee04-eee8-4e23-9e63-ad29cbbcf2d5",
   "metadata": {},
   "outputs": [
    {
     "data": {
      "text/plain": [
       "'Completed'"
      ]
     },
     "execution_count": 77,
     "metadata": {},
     "output_type": "execute_result"
    }
   ],
   "source": [
    "tuner.describe()['HyperParameterTuningJobStatus']"
   ]
  },
  {
   "cell_type": "markdown",
   "id": "24453c3a-e309-403a-8b32-a7735c726f95",
   "metadata": {},
   "source": [
    "### See HPO results\n",
    "Now get the results and see the best training job."
   ]
  },
  {
   "cell_type": "code",
   "execution_count": 78,
   "id": "c2b0e7b2-cc3e-4900-8fa5-5550c5332633",
   "metadata": {},
   "outputs": [],
   "source": [
    "best_training_job = tuner.describe()['BestTrainingJob']"
   ]
  },
  {
   "cell_type": "code",
   "execution_count": 79,
   "id": "6c290b58-bf22-4ace-809b-b60c81e8af38",
   "metadata": {},
   "outputs": [
    {
     "data": {
      "text/plain": [
       "{'TrainingJobName': 'from-idea-to-prod-hp-240716-0845-002-57025260',\n",
       " 'TrainingJobArn': 'arn:aws:sagemaker:us-east-1:402709838713:training-job/from-idea-to-prod-hp-240716-0845-002-57025260',\n",
       " 'CreationTime': datetime.datetime(2024, 7, 16, 8, 45, 41, tzinfo=tzlocal()),\n",
       " 'TrainingStartTime': datetime.datetime(2024, 7, 16, 8, 46, 23, tzinfo=tzlocal()),\n",
       " 'TrainingEndTime': datetime.datetime(2024, 7, 16, 8, 47, 58, tzinfo=tzlocal()),\n",
       " 'TrainingJobStatus': 'Completed',\n",
       " 'TunedHyperParameters': {'alpha': '2.3177163266232976',\n",
       "  'colsample_bytree': '0.9500824431680724',\n",
       "  'eta': '0.2114590906081245',\n",
       "  'gamma': '8.221861280846204',\n",
       "  'max_depth': '3',\n",
       "  'min_child_weight': '3.0212820082087015'},\n",
       " 'FinalHyperParameterTuningJobObjectiveMetric': {'MetricName': 'validation:auc',\n",
       "  'Value': 0.7734000086784363},\n",
       " 'ObjectiveStatus': 'Succeeded'}"
      ]
     },
     "execution_count": 79,
     "metadata": {},
     "output_type": "execute_result"
    }
   ],
   "source": [
    "best_training_job"
   ]
  },
  {
   "cell_type": "markdown",
   "id": "386f87b9-2834-4f32-aa2f-d196c73fd093",
   "metadata": {},
   "source": [
    "### Register the best HPO model in the model registry\n",
    "You can register the best HPO models with the hyperparameters, metrics, and model artifacts."
   ]
  },
  {
   "cell_type": "code",
   "execution_count": 80,
   "id": "6b6fa5e1-e349-4444-b52f-6fa2af0a4bf7",
   "metadata": {},
   "outputs": [
    {
     "name": "stdout",
     "output_type": "stream",
     "text": [
      "\n",
      "2024-07-16 08:48:18 Starting - Preparing the instances for training\n",
      "2024-07-16 08:48:18 Downloading - Downloading the training image\n",
      "2024-07-16 08:48:18 Training - Training image download completed. Training in progress.\n",
      "2024-07-16 08:48:18 Uploading - Uploading generated training model\n",
      "2024-07-16 08:48:18 Completed - Resource reused by training job: from-idea-to-prod-hp-240716-0845-004-12c548d6\n"
     ]
    },
    {
     "name": "stderr",
     "output_type": "stream",
     "text": [
      "Successfully registered model 'from-idea-to-prod-hpo-model-16-08-45-04'.\n",
      "2024/07/16 08:54:42 INFO mlflow.store.model_registry.abstract_store: Waiting up to 300 seconds for model version to finish creation. Model name: from-idea-to-prod-hpo-model-16-08-45-04, version 1\n",
      "Created version '1' of model 'from-idea-to-prod-hpo-model-16-08-45-04'.\n"
     ]
    }
   ],
   "source": [
    "# Log parameters, metrics, and the model from the best job\n",
    "with mlflow.start_run(run_name=f\"best-hpo-job-{strftime('%d-%H-%M-%S', gmtime())}\") as run:\n",
    "    mlflow.log_metric(best_training_job['FinalHyperParameterTuningJobObjectiveMetric']['MetricName'].replace(':', '_'),\n",
    "                      best_training_job['FinalHyperParameterTuningJobObjectiveMetric']['Value'])\n",
    "    mlflow.log_params({'TrainingJobName':best_training_job['TrainingJobName'],\n",
    "                       'TrainingJobArn':best_training_job['TrainingJobArn']})\n",
    "    mlflow.log_params(best_training_job['TunedHyperParameters'])\n",
    "    mlflow.xgboost.log_model(load_model(tuner.best_estimator().model_data), artifact_path=\"xgboost\")\n",
    "\n",
    "# Register the model\n",
    "model_uri = f\"runs:/{mlflow.last_active_run().info.run_id}/xgboost\"\n",
    "mv = mlflow.register_model(model_uri, registered_hpo_model_name)"
   ]
  },
  {
   "cell_type": "markdown",
   "id": "2abee438-8068-46e4-bd0f-60a2bb50f4f4",
   "metadata": {},
   "source": [
    "As the next step you need to deploy the best HPO model and test it. You can choose one of the following options below."
   ]
  },
  {
   "cell_type": "markdown",
   "id": "28ee4d58-e44d-46ad-beaf-54059f9e9241",
   "metadata": {},
   "source": [
    "### Option 1: Deploy the HPO model from the tuner\n",
    "Use `tuner.deploy()` method to deploy the best model as a SageMaker real-time endpoint."
   ]
  },
  {
   "cell_type": "markdown",
   "id": "f8eb8c40",
   "metadata": {},
   "source": [
    "<img src=\"data:image/svg+xml;base64,Cjxzdmcgd2lkdGg9IjgwMCIgaGVpZ2h0PSIxMjUiIHZpZXdCb3g9IjAgMCA4MDAgMTI1IiB4bWxucz0iaHR0cDovL3d3dy53My5vcmcvMjAwMC9zdmciPgogICAgPGRlZnM+CiAgICAgICAgPGxpbmVhckdyYWRpZW50IGlkPSJmYWRlR3JhZGllbnQiIHgxPSIwIiB4Mj0iMSI+CiAgICAgICAgICAgIDxzdG9wIG9mZnNldD0iMCUiIHN0b3AtY29sb3I9IiNGMEYwRjAiLz4KICAgICAgICAgICAgPHN0b3Agb2Zmc2V0PSIxMDAlIiBzdG9wLWNvbG9yPSIjRjBGMEYwIiBzdG9wLW9wYWNpdHk9IjAiLz4KICAgICAgICA8L2xpbmVhckdyYWRpZW50PgogICAgICAgIDxtYXNrIGlkPSJmYWRlTWFzayI+CiAgICAgICAgICAgIDxyZWN0IHg9IjAiIHk9IjAiIHdpZHRoPSI3NTAiIGhlaWdodD0iMTI1IiBmaWxsPSJ3aGl0ZSIvPgogICAgICAgICAgICA8cmVjdCB4PSI3NTAiIHk9IjAiIHdpZHRoPSI1MCIgaGVpZ2h0PSIxMjUiIGZpbGw9InVybCgjZmFkZUdyYWRpZW50KSIvPgogICAgICAgIDwvbWFzaz4KICAgIDwvZGVmcz4KICAgIDxwYXRoIGQ9Ik0zLDUwIEE1MCw1MCAwIDAgMSA1MywzIEw3OTcsMyBMNzk3LDk3IEw5Nyw5NyBMNTAsMTE1IEwzLDk3IFoiIGZpbGw9IiNGMEYwRjAiIHN0cm9rZT0iI0UwRTBFMCIgc3Ryb2tlLXdpZHRoPSIxIiBtYXNrPSJ1cmwoI2ZhZGVNYXNrKSIvPgogICAgPGNpcmNsZSBjeD0iNTAiIGN5PSI1MCIgcj0iMzAiIGZpbGw9IiM1N2M0ZjgiIHN0cm9rZT0iIzU3YzRmOCIgc3Ryb2tlLXdpZHRoPSIxIi8+CiAgICA8Y2lyY2xlIGN4PSI1MCIgY3k9IjUwIiByPSIyNSIgZmlsbD0iI0YwRjBGMCIvPgogICAgPGxpbmUgeDE9IjUwIiB5MT0iNTAiIHgyPSI1MCIgeTI9IjMwIiBzdHJva2U9IiM1N2M0ZjgiIHN0cm9rZS13aWR0aD0iMyIgc3Ryb2tlLWxpbmVjYXA9InJvdW5kIi8+CiAgICA8bGluZSB4MT0iNTAiIHkxPSI1MCIgeDI9IjY1IiB5Mj0iNTAiIHN0cm9rZT0iIzU3YzRmOCIgc3Ryb2tlLXdpZHRoPSIzIiBzdHJva2UtbGluZWNhcD0icm91bmQiLz4KICAgIDx0ZXh0IHg9IjEwMCIgeT0iMzQiIGZvbnQtZmFtaWx5PSJBcmlhbCwgc2Fucy1zZXJpZiIgZm9udC1zaXplPSIxNCIgZmlsbD0iIzMzMzMzMyI+VGhlIG5leHQgY2VsbCBtYXkgdGFrZSBhIGZldyBtaW51dGVzIHRvIHJ1bi48L3RleHQ+Cjwvc3ZnPgo=\" alt=\"Time alert open medium\"/>"
   ]
  },
  {
   "cell_type": "code",
   "execution_count": 81,
   "id": "fc88733a-0711-4248-9acd-c7d78e4f1830",
   "metadata": {
    "tags": []
   },
   "outputs": [
    {
     "name": "stdout",
     "output_type": "stream",
     "text": [
      "\n",
      "2024-07-16 08:48:18 Starting - Preparing the instances for training\n",
      "2024-07-16 08:48:18 Downloading - Downloading the training image\n",
      "2024-07-16 08:48:18 Training - Training image download completed. Training in progress.\n",
      "2024-07-16 08:48:18 Uploading - Uploading generated training model\n",
      "2024-07-16 08:48:18 Completed - Resource reused by training job: from-idea-to-prod-hp-240716-0845-004-12c548d6"
     ]
    },
    {
     "name": "stderr",
     "output_type": "stream",
     "text": [
      "INFO:sagemaker:Creating model with name: from-idea-to-prod-hp-2024-07-16-08-54-57-390\n"
     ]
    },
    {
     "name": "stdout",
     "output_type": "stream",
     "text": [
      "\n"
     ]
    },
    {
     "name": "stderr",
     "output_type": "stream",
     "text": [
      "INFO:sagemaker:Creating endpoint-config with name from-idea-to-prod-hp-240716-0845-002-57025260\n",
      "INFO:sagemaker:Creating endpoint with name from-idea-to-prod-hp-240716-0845-002-57025260\n"
     ]
    },
    {
     "name": "stdout",
     "output_type": "stream",
     "text": [
      "------!"
     ]
    }
   ],
   "source": [
    "hpo_predictor = tuner.deploy(\n",
    "    initial_instance_count=1,\n",
    "    instance_type=\"ml.m5.large\",\n",
    "    serializer=sagemaker.serializers.CSVSerializer(),\n",
    "    deserializer=sagemaker.deserializers.CSVDeserializer(),\n",
    ")"
   ]
  },
  {
   "cell_type": "markdown",
   "id": "05c7ab6f",
   "metadata": {},
   "source": [
    "<img src=\"data:image/svg+xml;base64,Cjxzdmcgd2lkdGg9IjgwMCIgaGVpZ2h0PSI1MCIgdmlld0JveD0iMCAwIDgwMCA1MCIgeG1sbnM9Imh0dHA6Ly93d3cudzMub3JnLzIwMDAvc3ZnIj4KICAgIDxkZWZzPgogICAgICAgIDxsaW5lYXJHcmFkaWVudCBpZD0iZmFkZUdyYWRpZW50IiB4MT0iMCIgeDI9IjEiPgogICAgICAgICAgICA8c3RvcCBvZmZzZXQ9IjAlIiBzdG9wLWNvbG9yPSIjRjBGMEYwIi8+CiAgICAgICAgICAgIDxzdG9wIG9mZnNldD0iMTAwJSIgc3RvcC1jb2xvcj0iI0YwRjBGMCIgc3RvcC1vcGFjaXR5PSIwIi8+CiAgICAgICAgPC9saW5lYXJHcmFkaWVudD4KICAgICAgICA8bWFzayBpZD0iZmFkZU1hc2siPgogICAgICAgICAgICA8cmVjdCB4PSIwIiB5PSIwIiB3aWR0aD0iNzUwIiBoZWlnaHQ9IjUwIiBmaWxsPSJ3aGl0ZSIvPgogICAgICAgICAgICA8cmVjdCB4PSI3NTAiIHk9IjAiIHdpZHRoPSI1MCIgaGVpZ2h0PSI1MCIgZmlsbD0idXJsKCNmYWRlR3JhZGllbnQpIi8+CiAgICAgICAgPC9tYXNrPgogICAgPC9kZWZzPgogICAgPHBhdGggZD0iTTI1LDUwIFEwLDUwIDAsMjUgTDUwLDMgTDk3LDI1IEw3OTcsMjUgTDc5Nyw1MCBMMjUsNTAgWiIgZmlsbD0iI0YwRjBGMCIgc3Ryb2tlPSIjRTBFMEUwIiBzdHJva2Utd2lkdGg9IjEiIG1hc2s9InVybCgjZmFkZU1hc2spIi8+Cjwvc3ZnPgo=\" alt=\"Time alert close\"/>"
   ]
  },
  {
   "cell_type": "markdown",
   "id": "9e07ba3e-dd92-4f02-9f97-44df10856b14",
   "metadata": {},
   "source": [
    "### Option 2: Deploy the HPO model from the MLflow model registry\n",
    "<div class=\"alert alert-info\">Don't run this code because 1P algorithms don't support MLflow yet and there is Python version mismatch in the model specification and 1P SageMaker container. Use the option 1 - deployment from the tuner - instead.</div>\n",
    "\n",
    "Alternatively, if you have a registered model in the MLflow model registry, you can create a model in SageMaker, test it localy and then deploy to SageMaker. Refer to [Create a model in Amazon SageMaker with ModelBuilder](https://docs.aws.amazon.com/sagemaker/latest/dg/how-it-works-modelbuilder-creation.html) in the Developer Guide. For hands-on examples refer to this [GitHub repository](https://github.com/aws-samples/sagemaker-hosting/tree/main/SageMaker-Model-Builder).\n",
    "\n",
    "The code below uses the SageMaker Python SDK class [ModelBuilder](https://sagemaker.readthedocs.io/en/stable/api/inference/model_builder.html) to build the model from the MLflow model registry."
   ]
  },
  {
   "cell_type": "code",
   "execution_count": 18,
   "id": "37752a7c-4b65-4740-b79f-6b20282097d0",
   "metadata": {},
   "outputs": [],
   "source": [
    "from mlflow import MlflowClient\n",
    "from sagemaker.serve import SchemaBuilder, ModelBuilder\n",
    "from sagemaker.serve.mode.function_pointers import Mode"
   ]
  },
  {
   "cell_type": "code",
   "execution_count": 19,
   "id": "7a401423-89d9-4ff3-8dfe-81701482fa13",
   "metadata": {},
   "outputs": [],
   "source": [
    "registered_hpo_model_name=\"from-idea-to-prod-hpo-model-16-08-45-04\"\n",
    "registered_model = MlflowClient().get_registered_model(name=registered_hpo_model_name)"
   ]
  },
  {
   "cell_type": "code",
   "execution_count": 20,
   "id": "b82134e5-f53d-441f-b188-7182964759a9",
   "metadata": {},
   "outputs": [
    {
     "data": {
      "text/plain": [
       "'s3://sagemaker-us-east-1-402709838713/mlflow/16-06-49-49/6/e25d95906dce4b7285f9315f23c4cab7/artifacts/xgboost'"
      ]
     },
     "execution_count": 20,
     "metadata": {},
     "output_type": "execute_result"
    }
   ],
   "source": [
    "# Model artifact S3 URL which is stored in MLflow registry\n",
    "model_artifact_path = registered_model.latest_versions[0].source\n",
    "model_artifact_path"
   ]
  },
  {
   "cell_type": "code",
   "execution_count": 38,
   "id": "e5a3ca8c-d41e-440b-b689-d3f9d3a6501a",
   "metadata": {},
   "outputs": [],
   "source": [
    "model_builder = ModelBuilder(\n",
    "    mode=Mode.SAGEMAKER_ENDPOINT,\n",
    "    schema_builder=SchemaBuilder(test_x.values, test_y['y'].values),\n",
    "    role_arn=sm_role,\n",
    "    model_metadata={\"MLFLOW_MODEL_PATH\": model_artifact_path},\n",
    ")"
   ]
  },
  {
   "cell_type": "code",
   "execution_count": null,
   "id": "b2eab2ba-a0c3-4db3-b8b9-9b424b19f9ad",
   "metadata": {},
   "outputs": [],
   "source": [
    "hpo_model = model_builder.build()"
   ]
  },
  {
   "cell_type": "markdown",
   "id": "69cdf78b-9046-40ad-9c54-c6344118d135",
   "metadata": {},
   "source": [
    "<img src=\"data:image/svg+xml;base64,Cjxzdmcgd2lkdGg9IjgwMCIgaGVpZ2h0PSIxMjUiIHZpZXdCb3g9IjAgMCA4MDAgMTI1IiB4bWxucz0iaHR0cDovL3d3dy53My5vcmcvMjAwMC9zdmciPgogICAgPGRlZnM+CiAgICAgICAgPGxpbmVhckdyYWRpZW50IGlkPSJmYWRlR3JhZGllbnQiIHgxPSIwIiB4Mj0iMSI+CiAgICAgICAgICAgIDxzdG9wIG9mZnNldD0iMCUiIHN0b3AtY29sb3I9IiNGMEYwRjAiLz4KICAgICAgICAgICAgPHN0b3Agb2Zmc2V0PSIxMDAlIiBzdG9wLWNvbG9yPSIjRjBGMEYwIiBzdG9wLW9wYWNpdHk9IjAiLz4KICAgICAgICA8L2xpbmVhckdyYWRpZW50PgogICAgICAgIDxtYXNrIGlkPSJmYWRlTWFzayI+CiAgICAgICAgICAgIDxyZWN0IHg9IjAiIHk9IjAiIHdpZHRoPSI3NTAiIGhlaWdodD0iMTI1IiBmaWxsPSJ3aGl0ZSIvPgogICAgICAgICAgICA8cmVjdCB4PSI3NTAiIHk9IjAiIHdpZHRoPSI1MCIgaGVpZ2h0PSIxMjUiIGZpbGw9InVybCgjZmFkZUdyYWRpZW50KSIvPgogICAgICAgIDwvbWFzaz4KICAgIDwvZGVmcz4KICAgIDxwYXRoIGQ9Ik0zLDUwIEE1MCw1MCAwIDAgMSA1MywzIEw3OTcsMyBMNzk3LDk3IEw5Nyw5NyBMNTAsMTE1IEwzLDk3IFoiIGZpbGw9IiNGMEYwRjAiIHN0cm9rZT0iI0UwRTBFMCIgc3Ryb2tlLXdpZHRoPSIxIiBtYXNrPSJ1cmwoI2ZhZGVNYXNrKSIvPgogICAgPGNpcmNsZSBjeD0iNTAiIGN5PSI1MCIgcj0iMzAiIGZpbGw9IiM1N2M0ZjgiIHN0cm9rZT0iIzU3YzRmOCIgc3Ryb2tlLXdpZHRoPSIxIi8+CiAgICA8Y2lyY2xlIGN4PSI1MCIgY3k9IjUwIiByPSIyNSIgZmlsbD0iI0YwRjBGMCIvPgogICAgPGxpbmUgeDE9IjUwIiB5MT0iNTAiIHgyPSI1MCIgeTI9IjMwIiBzdHJva2U9IiM1N2M0ZjgiIHN0cm9rZS13aWR0aD0iMyIgc3Ryb2tlLWxpbmVjYXA9InJvdW5kIi8+CiAgICA8bGluZSB4MT0iNTAiIHkxPSI1MCIgeDI9IjY1IiB5Mj0iNTAiIHN0cm9rZT0iIzU3YzRmOCIgc3Ryb2tlLXdpZHRoPSIzIiBzdHJva2UtbGluZWNhcD0icm91bmQiLz4KICAgIDx0ZXh0IHg9IjEwMCIgeT0iMzQiIGZvbnQtZmFtaWx5PSJBcmlhbCwgc2Fucy1zZXJpZiIgZm9udC1zaXplPSIxNCIgZmlsbD0iIzMzMzMzMyI+VGhlIG5leHQgY2VsbCBtYXkgdGFrZSBhIGZldyBtaW51dGVzIHRvIHJ1bi48L3RleHQ+Cjwvc3ZnPgo=\" alt=\"Time alert open medium\"/>"
   ]
  },
  {
   "cell_type": "code",
   "execution_count": null,
   "id": "6d959f07-55be-4037-bea6-c5007e733285",
   "metadata": {},
   "outputs": [],
   "source": [
    "hpo_predictor = hpo_model.deploy(initial_instance_count=1, instance_type=\"ml.m5.large\")"
   ]
  },
  {
   "cell_type": "markdown",
   "id": "ea012658-7b96-422b-8464-d8dce72d6103",
   "metadata": {},
   "source": [
    "<img src=\"data:image/svg+xml;base64,Cjxzdmcgd2lkdGg9IjgwMCIgaGVpZ2h0PSI1MCIgdmlld0JveD0iMCAwIDgwMCA1MCIgeG1sbnM9Imh0dHA6Ly93d3cudzMub3JnLzIwMDAvc3ZnIj4KICAgIDxkZWZzPgogICAgICAgIDxsaW5lYXJHcmFkaWVudCBpZD0iZmFkZUdyYWRpZW50IiB4MT0iMCIgeDI9IjEiPgogICAgICAgICAgICA8c3RvcCBvZmZzZXQ9IjAlIiBzdG9wLWNvbG9yPSIjRjBGMEYwIi8+CiAgICAgICAgICAgIDxzdG9wIG9mZnNldD0iMTAwJSIgc3RvcC1jb2xvcj0iI0YwRjBGMCIgc3RvcC1vcGFjaXR5PSIwIi8+CiAgICAgICAgPC9saW5lYXJHcmFkaWVudD4KICAgICAgICA8bWFzayBpZD0iZmFkZU1hc2siPgogICAgICAgICAgICA8cmVjdCB4PSIwIiB5PSIwIiB3aWR0aD0iNzUwIiBoZWlnaHQ9IjUwIiBmaWxsPSJ3aGl0ZSIvPgogICAgICAgICAgICA8cmVjdCB4PSI3NTAiIHk9IjAiIHdpZHRoPSI1MCIgaGVpZ2h0PSI1MCIgZmlsbD0idXJsKCNmYWRlR3JhZGllbnQpIi8+CiAgICAgICAgPC9tYXNrPgogICAgPC9kZWZzPgogICAgPHBhdGggZD0iTTI1LDUwIFEwLDUwIDAsMjUgTDUwLDMgTDk3LDI1IEw3OTcsMjUgTDc5Nyw1MCBMMjUsNTAgWiIgZmlsbD0iI0YwRjBGMCIgc3Ryb2tlPSIjRTBFMEUwIiBzdHJva2Utd2lkdGg9IjEiIG1hc2s9InVybCgjZmFkZU1hc2spIi8+Cjwvc3ZnPgo=\" alt=\"Time alert close\"/>"
   ]
  },
  {
   "cell_type": "markdown",
   "id": "9ee0b321-5a63-41ff-9895-43cc6aa350bc",
   "metadata": {},
   "source": [
    "### Test the HPO-tuned model"
   ]
  },
  {
   "cell_type": "code",
   "execution_count": 82,
   "id": "3337f1c6-f211-4054-907f-ef0ee17683f2",
   "metadata": {
    "tags": []
   },
   "outputs": [
    {
     "name": "stdout",
     "output_type": "stream",
     "text": [
      "[0.05705426 0.09261971 0.17325212 ... 0.04616636 0.04029178 0.03749999]\n"
     ]
    }
   ],
   "source": [
    "hpo_predictions = np.array(hpo_predictor.predict(test_x.values), dtype=float).squeeze()\n",
    "print(hpo_predictions)"
   ]
  },
  {
   "cell_type": "code",
   "execution_count": 83,
   "id": "d77cc440-3828-4677-b19b-ede1edcb3903",
   "metadata": {
    "tags": []
   },
   "outputs": [
    {
     "data": {
      "text/html": [
       "<div>\n",
       "<style scoped>\n",
       "    .dataframe tbody tr th:only-of-type {\n",
       "        vertical-align: middle;\n",
       "    }\n",
       "\n",
       "    .dataframe tbody tr th {\n",
       "        vertical-align: top;\n",
       "    }\n",
       "\n",
       "    .dataframe thead th {\n",
       "        text-align: right;\n",
       "    }\n",
       "</style>\n",
       "<table border=\"1\" class=\"dataframe\">\n",
       "  <thead>\n",
       "    <tr style=\"text-align: right;\">\n",
       "      <th>predictions</th>\n",
       "      <th>0.0</th>\n",
       "      <th>1.0</th>\n",
       "    </tr>\n",
       "    <tr>\n",
       "      <th>actuals</th>\n",
       "      <th></th>\n",
       "      <th></th>\n",
       "    </tr>\n",
       "  </thead>\n",
       "  <tbody>\n",
       "    <tr>\n",
       "      <th>0</th>\n",
       "      <td>3602</td>\n",
       "      <td>34</td>\n",
       "    </tr>\n",
       "    <tr>\n",
       "      <th>1</th>\n",
       "      <td>392</td>\n",
       "      <td>91</td>\n",
       "    </tr>\n",
       "  </tbody>\n",
       "</table>\n",
       "</div>"
      ],
      "text/plain": [
       "predictions   0.0  1.0\n",
       "actuals               \n",
       "0            3602   34\n",
       "1             392   91"
      ]
     },
     "execution_count": 83,
     "metadata": {},
     "output_type": "execute_result"
    }
   ],
   "source": [
    "pd.crosstab(\n",
    "    index=test_y['y'].values,\n",
    "    columns=np.round(hpo_predictions), \n",
    "    rownames=['actuals'], \n",
    "    colnames=['predictions']\n",
    ")"
   ]
  },
  {
   "cell_type": "markdown",
   "id": "5c06cc7b-81f9-42d6-9445-c35b0409f486",
   "metadata": {},
   "source": [
    "There is only a small improvements for the model metrics. It can indicate, that the XGBoost model is already at it's limit. You might want to explore other model types to improve the prediction accuracy for this use case."
   ]
  },
  {
   "cell_type": "markdown",
   "id": "64fd8435-9c7e-4b4f-87b2-13ee830d19e3",
   "metadata": {},
   "source": [
    "---"
   ]
  },
  {
   "cell_type": "markdown",
   "id": "f5493780-c392-4432-a34b-75f27ce984a5",
   "metadata": {},
   "source": [
    "## Clean-up\n",
    "To avoid charges, remove the hosted endpoint you created."
   ]
  },
  {
   "cell_type": "code",
   "execution_count": 84,
   "id": "2de13080-5527-4de4-aacb-3eb50af0f92f",
   "metadata": {
    "tags": []
   },
   "outputs": [
    {
     "name": "stderr",
     "output_type": "stream",
     "text": [
      "INFO:sagemaker:Deleting endpoint configuration with name: from-idea-to-prod-endpoint-16-08-27-27\n",
      "INFO:sagemaker:Deleting endpoint with name: from-idea-to-prod-endpoint-16-08-27-27\n"
     ]
    }
   ],
   "source": [
    "predictor.delete_endpoint(delete_endpoint_config=True)"
   ]
  },
  {
   "cell_type": "code",
   "execution_count": 85,
   "id": "040e95d7-b906-4a7c-90cb-4d73cefbf617",
   "metadata": {
    "tags": []
   },
   "outputs": [
    {
     "name": "stderr",
     "output_type": "stream",
     "text": [
      "INFO:sagemaker:Deleting endpoint configuration with name: from-idea-to-prod-hp-240716-0845-002-57025260\n",
      "INFO:sagemaker:Deleting endpoint with name: from-idea-to-prod-hp-240716-0845-002-57025260\n"
     ]
    }
   ],
   "source": [
    "# run if you created a tuned predictor after HPO\n",
    "try:\n",
    "    hpo_predictor.delete_endpoint(delete_endpoint_config=True)\n",
    "except NameError:\n",
    "    print(\"You have no HPO predictor endpoint\")"
   ]
  },
  {
   "cell_type": "markdown",
   "id": "34f720e0-e8d5-4cb5-93a6-6a4f2dafd523",
   "metadata": {},
   "source": [
    "## Continue with the step 3\n",
    "open the step 3 [notebook](03-sagemaker-pipeline.ipynb)."
   ]
  },
  {
   "cell_type": "markdown",
   "id": "62b623d7-4b16-4c6f-96a8-ad92a77b1601",
   "metadata": {},
   "source": [
    "## Further development ideas for your real-world projects\n",
    "- [Manage experiments](https://docs.aws.amazon.com/sagemaker/latest/dg/mlflow.html)\n",
    "- Use [Amazon SageMaker Data Wrangler](https://docs.aws.amazon.com/sagemaker/latest/dg/data-wrangler.html) for creating a no-code or low-code visual data processing and feature engineering flow.\n",
    "- Try no-code [SageMaker Canvas](https://docs.aws.amazon.com/sagemaker/latest/dg/canvas.html) on your data to perform analysis and use automated ML to build models and generate predictions"
   ]
  },
  {
   "cell_type": "markdown",
   "id": "6ba1fc9d-7a52-4d2f-b51e-0f9422119389",
   "metadata": {},
   "source": [
    "## Additional resources\n",
    "- [Using Docker containers with SageMaker](https://docs.aws.amazon.com/sagemaker/latest/dg/docker-containers.html)\n",
    "- [How to create and use a custom SageMaker container: SageMaker hands-on workshop](https://sagemaker-workshop.com/custom/containers.html)\n",
    "- [Amazon SageMaker Immersion Day](https://catalog.us-east-1.prod.workshops.aws/workshops/63069e26-921c-4ce1-9cc7-dd882ff62575/en-US)\n",
    "- [Targeting Direct Marketing with Amazon SageMaker XGBoost](https://github.com/aws-samples/amazon-sagemaker-immersion-day/blob/master/processing_xgboost.ipynb)\n",
    "- [Train a Machine Learning Model](https://aws.amazon.com/getting-started/hands-on/machine-learning-tutorial-train-a-model/)\n",
    "- [Deploy a Machine Learning Model to a Real-Time Inference Endpoint](https://aws.amazon.com/getting-started/hands-on/machine-learning-tutorial-deploy-model-to-real-time-inference-endpoint/)\n",
    "- [Amazon SageMaker 101 Workshop](https://catalog.us-east-1.prod.workshops.aws/workshops/0c6b8a23-b837-4e0f-b2e2-4a3ffd7d645b/en-US)\n",
    "- [Amazon SageMaker 101 Workshop code repository](https://github.com/aws-samples/sagemaker-101-workshop)\n",
    "- [Amazon SageMaker with XGBoost and Hyperparameter Tuning for Direct Marketing predictions](https://github.com/aws-samples/sagemaker-101-workshop/blob/main/builtin_algorithm_hpo_tabular/SageMaker%20XGBoost%20HPO.ipynb)"
   ]
  },
  {
   "cell_type": "markdown",
   "id": "2d7b222f-ee83-4c87-9019-cebcc7e56627",
   "metadata": {},
   "source": [
    "# Shutdown kernel"
   ]
  },
  {
   "cell_type": "code",
   "execution_count": null,
   "id": "ae0b1f02-44b8-4749-a5e2-ce415fff7f78",
   "metadata": {},
   "outputs": [],
   "source": [
    "%%html\n",
    "\n",
    "<p><b>Shutting down your kernel for this notebook to release resources.</b></p>\n",
    "<button class=\"sm-command-button\" data-commandlinker-command=\"kernelmenu:shutdown\" style=\"display:none;\">Shutdown Kernel</button>\n",
    "        \n",
    "<script>\n",
    "try {\n",
    "    els = document.getElementsByClassName(\"sm-command-button\");\n",
    "    els[0].click();\n",
    "}\n",
    "catch(err) {\n",
    "    // NoOp\n",
    "}    \n",
    "</script>"
   ]
  },
  {
   "cell_type": "code",
   "execution_count": null,
   "id": "725f9d18-a550-46f6-9de8-9aeeed8171fd",
   "metadata": {},
   "outputs": [],
   "source": []
  }
 ],
 "metadata": {
  "availableInstances": [
   {
    "_defaultOrder": 0,
    "_isFastLaunch": true,
    "category": "General purpose",
    "gpuNum": 0,
    "hideHardwareSpecs": false,
    "memoryGiB": 4,
    "name": "ml.t3.medium",
    "vcpuNum": 2
   },
   {
    "_defaultOrder": 1,
    "_isFastLaunch": false,
    "category": "General purpose",
    "gpuNum": 0,
    "hideHardwareSpecs": false,
    "memoryGiB": 8,
    "name": "ml.t3.large",
    "vcpuNum": 2
   },
   {
    "_defaultOrder": 2,
    "_isFastLaunch": false,
    "category": "General purpose",
    "gpuNum": 0,
    "hideHardwareSpecs": false,
    "memoryGiB": 16,
    "name": "ml.t3.xlarge",
    "vcpuNum": 4
   },
   {
    "_defaultOrder": 3,
    "_isFastLaunch": false,
    "category": "General purpose",
    "gpuNum": 0,
    "hideHardwareSpecs": false,
    "memoryGiB": 32,
    "name": "ml.t3.2xlarge",
    "vcpuNum": 8
   },
   {
    "_defaultOrder": 4,
    "_isFastLaunch": true,
    "category": "General purpose",
    "gpuNum": 0,
    "hideHardwareSpecs": false,
    "memoryGiB": 8,
    "name": "ml.m5.large",
    "vcpuNum": 2
   },
   {
    "_defaultOrder": 5,
    "_isFastLaunch": false,
    "category": "General purpose",
    "gpuNum": 0,
    "hideHardwareSpecs": false,
    "memoryGiB": 16,
    "name": "ml.m5.xlarge",
    "vcpuNum": 4
   },
   {
    "_defaultOrder": 6,
    "_isFastLaunch": false,
    "category": "General purpose",
    "gpuNum": 0,
    "hideHardwareSpecs": false,
    "memoryGiB": 32,
    "name": "ml.m5.2xlarge",
    "vcpuNum": 8
   },
   {
    "_defaultOrder": 7,
    "_isFastLaunch": false,
    "category": "General purpose",
    "gpuNum": 0,
    "hideHardwareSpecs": false,
    "memoryGiB": 64,
    "name": "ml.m5.4xlarge",
    "vcpuNum": 16
   },
   {
    "_defaultOrder": 8,
    "_isFastLaunch": false,
    "category": "General purpose",
    "gpuNum": 0,
    "hideHardwareSpecs": false,
    "memoryGiB": 128,
    "name": "ml.m5.8xlarge",
    "vcpuNum": 32
   },
   {
    "_defaultOrder": 9,
    "_isFastLaunch": false,
    "category": "General purpose",
    "gpuNum": 0,
    "hideHardwareSpecs": false,
    "memoryGiB": 192,
    "name": "ml.m5.12xlarge",
    "vcpuNum": 48
   },
   {
    "_defaultOrder": 10,
    "_isFastLaunch": false,
    "category": "General purpose",
    "gpuNum": 0,
    "hideHardwareSpecs": false,
    "memoryGiB": 256,
    "name": "ml.m5.16xlarge",
    "vcpuNum": 64
   },
   {
    "_defaultOrder": 11,
    "_isFastLaunch": false,
    "category": "General purpose",
    "gpuNum": 0,
    "hideHardwareSpecs": false,
    "memoryGiB": 384,
    "name": "ml.m5.24xlarge",
    "vcpuNum": 96
   },
   {
    "_defaultOrder": 12,
    "_isFastLaunch": false,
    "category": "General purpose",
    "gpuNum": 0,
    "hideHardwareSpecs": false,
    "memoryGiB": 8,
    "name": "ml.m5d.large",
    "vcpuNum": 2
   },
   {
    "_defaultOrder": 13,
    "_isFastLaunch": false,
    "category": "General purpose",
    "gpuNum": 0,
    "hideHardwareSpecs": false,
    "memoryGiB": 16,
    "name": "ml.m5d.xlarge",
    "vcpuNum": 4
   },
   {
    "_defaultOrder": 14,
    "_isFastLaunch": false,
    "category": "General purpose",
    "gpuNum": 0,
    "hideHardwareSpecs": false,
    "memoryGiB": 32,
    "name": "ml.m5d.2xlarge",
    "vcpuNum": 8
   },
   {
    "_defaultOrder": 15,
    "_isFastLaunch": false,
    "category": "General purpose",
    "gpuNum": 0,
    "hideHardwareSpecs": false,
    "memoryGiB": 64,
    "name": "ml.m5d.4xlarge",
    "vcpuNum": 16
   },
   {
    "_defaultOrder": 16,
    "_isFastLaunch": false,
    "category": "General purpose",
    "gpuNum": 0,
    "hideHardwareSpecs": false,
    "memoryGiB": 128,
    "name": "ml.m5d.8xlarge",
    "vcpuNum": 32
   },
   {
    "_defaultOrder": 17,
    "_isFastLaunch": false,
    "category": "General purpose",
    "gpuNum": 0,
    "hideHardwareSpecs": false,
    "memoryGiB": 192,
    "name": "ml.m5d.12xlarge",
    "vcpuNum": 48
   },
   {
    "_defaultOrder": 18,
    "_isFastLaunch": false,
    "category": "General purpose",
    "gpuNum": 0,
    "hideHardwareSpecs": false,
    "memoryGiB": 256,
    "name": "ml.m5d.16xlarge",
    "vcpuNum": 64
   },
   {
    "_defaultOrder": 19,
    "_isFastLaunch": false,
    "category": "General purpose",
    "gpuNum": 0,
    "hideHardwareSpecs": false,
    "memoryGiB": 384,
    "name": "ml.m5d.24xlarge",
    "vcpuNum": 96
   },
   {
    "_defaultOrder": 20,
    "_isFastLaunch": false,
    "category": "General purpose",
    "gpuNum": 0,
    "hideHardwareSpecs": true,
    "memoryGiB": 0,
    "name": "ml.geospatial.interactive",
    "supportedImageNames": [
     "sagemaker-geospatial-v1-0"
    ],
    "vcpuNum": 0
   },
   {
    "_defaultOrder": 21,
    "_isFastLaunch": true,
    "category": "Compute optimized",
    "gpuNum": 0,
    "hideHardwareSpecs": false,
    "memoryGiB": 4,
    "name": "ml.c5.large",
    "vcpuNum": 2
   },
   {
    "_defaultOrder": 22,
    "_isFastLaunch": false,
    "category": "Compute optimized",
    "gpuNum": 0,
    "hideHardwareSpecs": false,
    "memoryGiB": 8,
    "name": "ml.c5.xlarge",
    "vcpuNum": 4
   },
   {
    "_defaultOrder": 23,
    "_isFastLaunch": false,
    "category": "Compute optimized",
    "gpuNum": 0,
    "hideHardwareSpecs": false,
    "memoryGiB": 16,
    "name": "ml.c5.2xlarge",
    "vcpuNum": 8
   },
   {
    "_defaultOrder": 24,
    "_isFastLaunch": false,
    "category": "Compute optimized",
    "gpuNum": 0,
    "hideHardwareSpecs": false,
    "memoryGiB": 32,
    "name": "ml.c5.4xlarge",
    "vcpuNum": 16
   },
   {
    "_defaultOrder": 25,
    "_isFastLaunch": false,
    "category": "Compute optimized",
    "gpuNum": 0,
    "hideHardwareSpecs": false,
    "memoryGiB": 72,
    "name": "ml.c5.9xlarge",
    "vcpuNum": 36
   },
   {
    "_defaultOrder": 26,
    "_isFastLaunch": false,
    "category": "Compute optimized",
    "gpuNum": 0,
    "hideHardwareSpecs": false,
    "memoryGiB": 96,
    "name": "ml.c5.12xlarge",
    "vcpuNum": 48
   },
   {
    "_defaultOrder": 27,
    "_isFastLaunch": false,
    "category": "Compute optimized",
    "gpuNum": 0,
    "hideHardwareSpecs": false,
    "memoryGiB": 144,
    "name": "ml.c5.18xlarge",
    "vcpuNum": 72
   },
   {
    "_defaultOrder": 28,
    "_isFastLaunch": false,
    "category": "Compute optimized",
    "gpuNum": 0,
    "hideHardwareSpecs": false,
    "memoryGiB": 192,
    "name": "ml.c5.24xlarge",
    "vcpuNum": 96
   },
   {
    "_defaultOrder": 29,
    "_isFastLaunch": true,
    "category": "Accelerated computing",
    "gpuNum": 1,
    "hideHardwareSpecs": false,
    "memoryGiB": 16,
    "name": "ml.g4dn.xlarge",
    "vcpuNum": 4
   },
   {
    "_defaultOrder": 30,
    "_isFastLaunch": false,
    "category": "Accelerated computing",
    "gpuNum": 1,
    "hideHardwareSpecs": false,
    "memoryGiB": 32,
    "name": "ml.g4dn.2xlarge",
    "vcpuNum": 8
   },
   {
    "_defaultOrder": 31,
    "_isFastLaunch": false,
    "category": "Accelerated computing",
    "gpuNum": 1,
    "hideHardwareSpecs": false,
    "memoryGiB": 64,
    "name": "ml.g4dn.4xlarge",
    "vcpuNum": 16
   },
   {
    "_defaultOrder": 32,
    "_isFastLaunch": false,
    "category": "Accelerated computing",
    "gpuNum": 1,
    "hideHardwareSpecs": false,
    "memoryGiB": 128,
    "name": "ml.g4dn.8xlarge",
    "vcpuNum": 32
   },
   {
    "_defaultOrder": 33,
    "_isFastLaunch": false,
    "category": "Accelerated computing",
    "gpuNum": 4,
    "hideHardwareSpecs": false,
    "memoryGiB": 192,
    "name": "ml.g4dn.12xlarge",
    "vcpuNum": 48
   },
   {
    "_defaultOrder": 34,
    "_isFastLaunch": false,
    "category": "Accelerated computing",
    "gpuNum": 1,
    "hideHardwareSpecs": false,
    "memoryGiB": 256,
    "name": "ml.g4dn.16xlarge",
    "vcpuNum": 64
   },
   {
    "_defaultOrder": 35,
    "_isFastLaunch": false,
    "category": "Accelerated computing",
    "gpuNum": 1,
    "hideHardwareSpecs": false,
    "memoryGiB": 61,
    "name": "ml.p3.2xlarge",
    "vcpuNum": 8
   },
   {
    "_defaultOrder": 36,
    "_isFastLaunch": false,
    "category": "Accelerated computing",
    "gpuNum": 4,
    "hideHardwareSpecs": false,
    "memoryGiB": 244,
    "name": "ml.p3.8xlarge",
    "vcpuNum": 32
   },
   {
    "_defaultOrder": 37,
    "_isFastLaunch": false,
    "category": "Accelerated computing",
    "gpuNum": 8,
    "hideHardwareSpecs": false,
    "memoryGiB": 488,
    "name": "ml.p3.16xlarge",
    "vcpuNum": 64
   },
   {
    "_defaultOrder": 38,
    "_isFastLaunch": false,
    "category": "Accelerated computing",
    "gpuNum": 8,
    "hideHardwareSpecs": false,
    "memoryGiB": 768,
    "name": "ml.p3dn.24xlarge",
    "vcpuNum": 96
   },
   {
    "_defaultOrder": 39,
    "_isFastLaunch": false,
    "category": "Memory Optimized",
    "gpuNum": 0,
    "hideHardwareSpecs": false,
    "memoryGiB": 16,
    "name": "ml.r5.large",
    "vcpuNum": 2
   },
   {
    "_defaultOrder": 40,
    "_isFastLaunch": false,
    "category": "Memory Optimized",
    "gpuNum": 0,
    "hideHardwareSpecs": false,
    "memoryGiB": 32,
    "name": "ml.r5.xlarge",
    "vcpuNum": 4
   },
   {
    "_defaultOrder": 41,
    "_isFastLaunch": false,
    "category": "Memory Optimized",
    "gpuNum": 0,
    "hideHardwareSpecs": false,
    "memoryGiB": 64,
    "name": "ml.r5.2xlarge",
    "vcpuNum": 8
   },
   {
    "_defaultOrder": 42,
    "_isFastLaunch": false,
    "category": "Memory Optimized",
    "gpuNum": 0,
    "hideHardwareSpecs": false,
    "memoryGiB": 128,
    "name": "ml.r5.4xlarge",
    "vcpuNum": 16
   },
   {
    "_defaultOrder": 43,
    "_isFastLaunch": false,
    "category": "Memory Optimized",
    "gpuNum": 0,
    "hideHardwareSpecs": false,
    "memoryGiB": 256,
    "name": "ml.r5.8xlarge",
    "vcpuNum": 32
   },
   {
    "_defaultOrder": 44,
    "_isFastLaunch": false,
    "category": "Memory Optimized",
    "gpuNum": 0,
    "hideHardwareSpecs": false,
    "memoryGiB": 384,
    "name": "ml.r5.12xlarge",
    "vcpuNum": 48
   },
   {
    "_defaultOrder": 45,
    "_isFastLaunch": false,
    "category": "Memory Optimized",
    "gpuNum": 0,
    "hideHardwareSpecs": false,
    "memoryGiB": 512,
    "name": "ml.r5.16xlarge",
    "vcpuNum": 64
   },
   {
    "_defaultOrder": 46,
    "_isFastLaunch": false,
    "category": "Memory Optimized",
    "gpuNum": 0,
    "hideHardwareSpecs": false,
    "memoryGiB": 768,
    "name": "ml.r5.24xlarge",
    "vcpuNum": 96
   },
   {
    "_defaultOrder": 47,
    "_isFastLaunch": false,
    "category": "Accelerated computing",
    "gpuNum": 1,
    "hideHardwareSpecs": false,
    "memoryGiB": 16,
    "name": "ml.g5.xlarge",
    "vcpuNum": 4
   },
   {
    "_defaultOrder": 48,
    "_isFastLaunch": false,
    "category": "Accelerated computing",
    "gpuNum": 1,
    "hideHardwareSpecs": false,
    "memoryGiB": 32,
    "name": "ml.g5.2xlarge",
    "vcpuNum": 8
   },
   {
    "_defaultOrder": 49,
    "_isFastLaunch": false,
    "category": "Accelerated computing",
    "gpuNum": 1,
    "hideHardwareSpecs": false,
    "memoryGiB": 64,
    "name": "ml.g5.4xlarge",
    "vcpuNum": 16
   },
   {
    "_defaultOrder": 50,
    "_isFastLaunch": false,
    "category": "Accelerated computing",
    "gpuNum": 1,
    "hideHardwareSpecs": false,
    "memoryGiB": 128,
    "name": "ml.g5.8xlarge",
    "vcpuNum": 32
   },
   {
    "_defaultOrder": 51,
    "_isFastLaunch": false,
    "category": "Accelerated computing",
    "gpuNum": 1,
    "hideHardwareSpecs": false,
    "memoryGiB": 256,
    "name": "ml.g5.16xlarge",
    "vcpuNum": 64
   },
   {
    "_defaultOrder": 52,
    "_isFastLaunch": false,
    "category": "Accelerated computing",
    "gpuNum": 4,
    "hideHardwareSpecs": false,
    "memoryGiB": 192,
    "name": "ml.g5.12xlarge",
    "vcpuNum": 48
   },
   {
    "_defaultOrder": 53,
    "_isFastLaunch": false,
    "category": "Accelerated computing",
    "gpuNum": 4,
    "hideHardwareSpecs": false,
    "memoryGiB": 384,
    "name": "ml.g5.24xlarge",
    "vcpuNum": 96
   },
   {
    "_defaultOrder": 54,
    "_isFastLaunch": false,
    "category": "Accelerated computing",
    "gpuNum": 8,
    "hideHardwareSpecs": false,
    "memoryGiB": 768,
    "name": "ml.g5.48xlarge",
    "vcpuNum": 192
   },
   {
    "_defaultOrder": 55,
    "_isFastLaunch": false,
    "category": "Accelerated computing",
    "gpuNum": 8,
    "hideHardwareSpecs": false,
    "memoryGiB": 1152,
    "name": "ml.p4d.24xlarge",
    "vcpuNum": 96
   },
   {
    "_defaultOrder": 56,
    "_isFastLaunch": false,
    "category": "Accelerated computing",
    "gpuNum": 8,
    "hideHardwareSpecs": false,
    "memoryGiB": 1152,
    "name": "ml.p4de.24xlarge",
    "vcpuNum": 96
   },
   {
    "_defaultOrder": 57,
    "_isFastLaunch": false,
    "category": "Accelerated computing",
    "gpuNum": 0,
    "hideHardwareSpecs": false,
    "memoryGiB": 32,
    "name": "ml.trn1.2xlarge",
    "vcpuNum": 8
   },
   {
    "_defaultOrder": 58,
    "_isFastLaunch": false,
    "category": "Accelerated computing",
    "gpuNum": 0,
    "hideHardwareSpecs": false,
    "memoryGiB": 512,
    "name": "ml.trn1.32xlarge",
    "vcpuNum": 128
   },
   {
    "_defaultOrder": 59,
    "_isFastLaunch": false,
    "category": "Accelerated computing",
    "gpuNum": 0,
    "hideHardwareSpecs": false,
    "memoryGiB": 512,
    "name": "ml.trn1n.32xlarge",
    "vcpuNum": 128
   }
  ],
  "instance_type": "ml.t3.medium",
  "kernelspec": {
   "display_name": "Python 3 (ipykernel)",
   "language": "python",
   "name": "python3"
  },
  "language_info": {
   "codemirror_mode": {
    "name": "ipython",
    "version": 3
   },
   "file_extension": ".py",
   "mimetype": "text/x-python",
   "name": "python",
   "nbconvert_exporter": "python",
   "pygments_lexer": "ipython3",
   "version": "3.10.14"
  }
 },
 "nbformat": 4,
 "nbformat_minor": 5
}
